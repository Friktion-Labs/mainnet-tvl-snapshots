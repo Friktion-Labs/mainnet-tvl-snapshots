{
 "cells": [
  {
   "cell_type": "code",
   "execution_count": 7,
   "id": "93ca615b",
   "metadata": {},
   "outputs": [],
   "source": [
    "\"\"\"\n",
    "Python script to scrape Friktion User Data from Bitquery GraphQL API.\n",
    "\n",
    "\"\"\"\n",
    "\n",
    "import json\n",
    "import requests\n",
    "import requests\n",
    "import traceback\n",
    "import time\n",
    "\n",
    "import numpy as np\n",
    "import pandas as pd\n",
    "from datetime import datetime\n",
    "import matplotlib.pyplot as plt\n",
    "from os.path import exists"
   ]
  },
  {
   "cell_type": "markdown",
   "id": "1c2334c0",
   "metadata": {},
   "source": [
    "# "
   ]
  },
  {
   "cell_type": "markdown",
   "id": "5ed68aa3",
   "metadata": {},
   "source": [
    "# GET Prices"
   ]
  },
  {
   "cell_type": "code",
   "execution_count": 185,
   "id": "88e92a48",
   "metadata": {},
   "outputs": [
    {
     "name": "stdout",
     "output_type": "stream",
     "text": [
      "[[1647933120000, 42289.0, 42295.0, 42264.0, 42287.0, 80712.181]]\n",
      "[[1647933120000, 2989.0, 2989.6, 2987.8, 2988.5, 143609.9457]]\n",
      "[[1647933120000, 90.38, 90.3875, 90.355, 90.37, 9475.065925]]\n",
      "[[1647933120000, 93.675, 93.675, 93.675, 93.675, 0.0]]\n",
      "[[1647933120000, 94.073, 94.089, 94.003, 94.055, 17574.3326]]\n",
      "[[1647933120000, 45.665, 45.67, 45.652, 45.664, 19728.7061]]\n",
      "[[1647933120000, 2.451, 2.451, 2.451, 2.451, 12.255]]\n",
      "[[1647933120000, 0.1524, 0.1524, 0.1524, 0.1524, 0.0]]\n",
      "[[1647933120000, 2.7664, 2.767, 2.7662, 2.7662, 5.5326]]\n",
      "[[1647933120000, 0.1705, 0.1705, 0.1705, 0.1705, 0.0]]\n",
      "[[1647933120000, 88.6655, 88.7025, 88.6315, 88.672, 5204.51915]]\n"
     ]
    }
   ],
   "source": [
    "import pandas as pd\n",
    "import numpy as np\n",
    "import matplotlib.pyplot as plt\n",
    "\n",
    "import requests\n",
    "import json\n",
    "import ccxt\n",
    "\n",
    "import datetime\n",
    "\n",
    "cftx = ccxt.ftx(\n",
    "    {\n",
    "        \"apiKey\":\"mvnd3WRG56rAP-6MpxFyZ5sN2WnjEO8UsQB6u-6s\",\n",
    "        \"secret\":\"m_m926E36IMlrhCv6bGkLdSdaVegbm5PggpCrFCM\"\n",
    "    }\n",
    ")\n",
    "\n",
    "markets = cftx.load_markets()\n",
    "binance = ccxt.binance()\n",
    "\n",
    "# 10 days\n",
    "time_since = datetime.datetime.timestamp(datetime.datetime.now())*1000-10*24*60*60*1000\n",
    "\n",
    "symbols = {\n",
    "    \"BTC\": \"BTC/USD\", \n",
    "    \"ETH\": \"ETH/USD\", \n",
    "    \"SOL\": \"SOL/USD\", \n",
    "    \"MSOL\": \"MSOL/USD\", \n",
    "    \"LUNA\": \"LUNA/USD:USD\", \n",
    "    \"FTT\": \"FTT/USD\", \n",
    "    \"SRM\": \"SRM/USD\",\n",
    "    \"MNGO\": \"MNGO/USD\",\n",
    "    \"RAY\": \"RAY/USD\", \n",
    "    \"STEP\": \"STEP/USD\",\n",
    "    \"AVAX\": \"AVAX/USD\"\n",
    "}\n",
    "pricedf = {}\n",
    "for k, symbol in symbols.items():\n",
    "    data = cftx.fetchOHLCV(symbol, '1m', since=time_since, limit=1)\n",
    "    tree = pd.DataFrame(data, columns=[\"time\", \"open\", \"high\", \"low\", \"close\", \"volume\"])\n",
    "    data\n",
    "    print(data)\n",
    "    pricedf[k] = tree[\"close\"]\n",
    "    \n",
    "\n",
    "# Random price hardcodes b/c they aren't traded on FTX\n",
    "\n",
    "pricedf[\"USDC\"] =pricedf[\"tsUSDC\"] = pricedf[\"UST\"] = 1\n",
    "pricedf[\"mSOL\"] = pricedf[\"SOL\"]*1.03\n",
    "pricedf[\"scnSOL\"] = pricedf[\"SOL\"]*1.03\n",
    "pricedf[\"SBR\"] = 0.04000"
   ]
  },
  {
   "cell_type": "code",
   "execution_count": 186,
   "id": "1bee16f5",
   "metadata": {},
   "outputs": [],
   "source": [
    "tree = pd.DataFrame(pricedf).T.reset_index()"
   ]
  },
  {
   "cell_type": "code",
   "execution_count": 187,
   "id": "9a86833d",
   "metadata": {},
   "outputs": [],
   "source": [
    "tree.columns = [\"symbol\", \"price\"]\n"
   ]
  },
  {
   "cell_type": "code",
   "execution_count": 268,
   "id": "a8f6f8ad",
   "metadata": {},
   "outputs": [],
   "source": [
    "deposits = pd.read_csv(\"friktion_deposit.csv\")\n",
    "withdrawals = pd.read_csv(\"friktion_withdraw.csv\")\n",
    "claim = pd.read_csv(\"friktion_claim_withdrawal.csv\")\n",
    "withdrawals_cxl = pd.read_csv(\"friktion_withdraw_cancel.csv\")\n",
    "deposits_cxl = pd.read_csv(\"friktion_deposit_cxl.csv\")"
   ]
  },
  {
   "cell_type": "code",
   "execution_count": 296,
   "id": "83263807",
   "metadata": {},
   "outputs": [],
   "source": [
    "df_all = pd.concat([withdrawals, claim, withdrawals_cxl, deposits_cxl, deposits], ignore_index=False).reset_index(drop=True)"
   ]
  },
  {
   "cell_type": "code",
   "execution_count": 297,
   "id": "3836ea60",
   "metadata": {},
   "outputs": [
    {
     "data": {
      "text/html": [
       "<div>\n",
       "<style scoped>\n",
       "    .dataframe tbody tr th:only-of-type {\n",
       "        vertical-align: middle;\n",
       "    }\n",
       "\n",
       "    .dataframe tbody tr th {\n",
       "        vertical-align: top;\n",
       "    }\n",
       "\n",
       "    .dataframe thead th {\n",
       "        text-align: right;\n",
       "    }\n",
       "</style>\n",
       "<table border=\"1\" class=\"dataframe\">\n",
       "  <thead>\n",
       "    <tr style=\"text-align: right;\">\n",
       "      <th></th>\n",
       "      <th>txSignature</th>\n",
       "      <th>amount</th>\n",
       "      <th>instructionAction</th>\n",
       "      <th>instructionOrder</th>\n",
       "      <th>userAddress</th>\n",
       "      <th>timestamp</th>\n",
       "      <th>currencyName</th>\n",
       "      <th>currencyAddress</th>\n",
       "      <th>senderAddress</th>\n",
       "      <th>senderTokenMint</th>\n",
       "      <th>receiverAddress</th>\n",
       "      <th>globalId</th>\n",
       "      <th>vaultAuthority</th>\n",
       "      <th>shareTokenMint</th>\n",
       "      <th>depositTokenSymbol</th>\n",
       "      <th>depositTokenCoingeckoId</th>\n",
       "      <th>userAction</th>\n",
       "    </tr>\n",
       "  </thead>\n",
       "  <tbody>\n",
       "    <tr>\n",
       "      <th>0</th>\n",
       "      <td>122tbxak1CeaRQSMZD2izGb9tXa7rSaRpyD2s3iSv4bKp3uyxg1uf3oDUGMYrzoNp35GMw8PhYcJbMBgVeV8bik1</td>\n",
       "      <td>1.062448</td>\n",
       "      <td>burn</td>\n",
       "      <td>1-1</td>\n",
       "      <td>GbYTQgbXndUJoczx23Hy3hobAReguEuddijnsRTkn8pJ</td>\n",
       "      <td>2022-01-09T10:12:13Z</td>\n",
       "      <td>NaN</td>\n",
       "      <td>6UA3yn28XecAHLTwoCtjfzy3WcyQj1x13bxnH8urUiKt</td>\n",
       "      <td>GbYTQgbXndUJoczx23Hy3hobAReguEuddijnsRTkn8pJ</td>\n",
       "      <td>2ALneL69HRuthso7f4inq75g8AYBTbKHKgFB2oBgE6mh</td>\n",
       "      <td>NaN</td>\n",
       "      <td>mainnet_income_call_marinade</td>\n",
       "      <td>6asST5hurmxJ8uFvh7ZRWkrMfSEzjEAJ4DNR1is3G6eH</td>\n",
       "      <td>6UA3yn28XecAHLTwoCtjfzy3WcyQj1x13bxnH8urUiKt</td>\n",
       "      <td>mSOL</td>\n",
       "      <td>msol</td>\n",
       "      <td>Withdraw</td>\n",
       "    </tr>\n",
       "    <tr>\n",
       "      <th>1</th>\n",
       "      <td>122urr2mqKPc1rE9EqpqZnFXWPasm27yAcLmsQP7XM7iKL5JgmYmtxJDyhDRN8qiM8C2hsZWoumggqP4xYPj3zcg</td>\n",
       "      <td>48.722463</td>\n",
       "      <td>burn</td>\n",
       "      <td>1-0</td>\n",
       "      <td>A3PS3sjJmNbMt1XZXVB7s5WVPnjPfUVykxmV6kVHqCQ4</td>\n",
       "      <td>2022-03-13T12:34:28Z</td>\n",
       "      <td>NaN</td>\n",
       "      <td>DPMCwE9z9jXaDVDti5aKhdgCWGgsvioz6ZvB9eZjH7UE</td>\n",
       "      <td>A3PS3sjJmNbMt1XZXVB7s5WVPnjPfUVykxmV6kVHqCQ4</td>\n",
       "      <td>GM3NcpB3Gwb8CBVvGNy3Nz2bHCgmDojKdWFMBBLQVCiL</td>\n",
       "      <td>NaN</td>\n",
       "      <td>mainnet_income_call_sbr</td>\n",
       "      <td>BH7Jg3f97FyeGxsPR7FFskvfqGiaLeUnJ9Ksda53Jj8h</td>\n",
       "      <td>DPMCwE9z9jXaDVDti5aKhdgCWGgsvioz6ZvB9eZjH7UE</td>\n",
       "      <td>SBR</td>\n",
       "      <td>saber</td>\n",
       "      <td>Withdraw</td>\n",
       "    </tr>\n",
       "    <tr>\n",
       "      <th>2</th>\n",
       "      <td>123Av6p8VGMApaN16jk3dUUYEze1RLPohUUg1h51XjNt8PYqQRA7EjACQKHTeCidXYGvNuX6TEssd66pk8wcr3XS</td>\n",
       "      <td>0.480814</td>\n",
       "      <td>burn</td>\n",
       "      <td>1-1</td>\n",
       "      <td>5e8tCdqSvhNhFWpDsy2at7LwnZwbh2RHRVvrcsUgeymi</td>\n",
       "      <td>2022-02-03T11:14:07Z</td>\n",
       "      <td>NaN</td>\n",
       "      <td>5VmdHqvRMbXivuC34w4Hux9zb1y9moiBEQmXDrTR1kV</td>\n",
       "      <td>5e8tCdqSvhNhFWpDsy2at7LwnZwbh2RHRVvrcsUgeymi</td>\n",
       "      <td>8o6bKeAW6eRQT3SGh8QMkeAvjCXgtQWLrBHJXkgf5r4G</td>\n",
       "      <td>NaN</td>\n",
       "      <td>mainnet_income_call_socean</td>\n",
       "      <td>A5MpyajTy6hdsg3S2em5ukcgY1ZBhxTxEKv8BgHajv1A</td>\n",
       "      <td>5VmdHqvRMbXivuC34w4Hux9zb1y9moiBEQmXDrTR1kV</td>\n",
       "      <td>scnSOL</td>\n",
       "      <td>socean-staked-sol</td>\n",
       "      <td>Withdraw</td>\n",
       "    </tr>\n",
       "    <tr>\n",
       "      <th>3</th>\n",
       "      <td>124pSR5mQXtZAQ3vES5QTqkZzyBiyYphVhc3CHkswcibTmvGxNiyhn2cjTACLpCd4uPCPqBCDcrj2JsmA2STwF3m</td>\n",
       "      <td>380.320000</td>\n",
       "      <td>burn</td>\n",
       "      <td>0-1</td>\n",
       "      <td>75JCoqqnK9aHwhGSTrYacwDDPxaySZBHVwxQ9WAdmRic</td>\n",
       "      <td>2022-01-01T07:47:41Z</td>\n",
       "      <td>NaN</td>\n",
       "      <td>DPMCwE9z9jXaDVDti5aKhdgCWGgsvioz6ZvB9eZjH7UE</td>\n",
       "      <td>75JCoqqnK9aHwhGSTrYacwDDPxaySZBHVwxQ9WAdmRic</td>\n",
       "      <td>DMxk7cTKY94j9ks84nBFb1d5H5RisWqcKheuVPzY1mHX</td>\n",
       "      <td>NaN</td>\n",
       "      <td>mainnet_income_call_sbr</td>\n",
       "      <td>BH7Jg3f97FyeGxsPR7FFskvfqGiaLeUnJ9Ksda53Jj8h</td>\n",
       "      <td>DPMCwE9z9jXaDVDti5aKhdgCWGgsvioz6ZvB9eZjH7UE</td>\n",
       "      <td>SBR</td>\n",
       "      <td>saber</td>\n",
       "      <td>Withdraw</td>\n",
       "    </tr>\n",
       "    <tr>\n",
       "      <th>4</th>\n",
       "      <td>1271nQpntCG8PBGdDaqkdnFaUTogSCNRpR7LfZroJebaFcub3TgArZw1EdHTezkxf6vswxwXvR1XLMrrVkeoezR5</td>\n",
       "      <td>0.097854</td>\n",
       "      <td>burn</td>\n",
       "      <td>3-1</td>\n",
       "      <td>4gsxjXky9Wrf6QwMFqCBjwaxzHfHLKgSv4ruCi1KKTi9</td>\n",
       "      <td>2021-12-24T06:32:57Z</td>\n",
       "      <td>NaN</td>\n",
       "      <td>4Hnh1UCC6HLzx9NaGKnTVHR2bANcRrhydumdHCnrT3i2</td>\n",
       "      <td>4gsxjXky9Wrf6QwMFqCBjwaxzHfHLKgSv4ruCi1KKTi9</td>\n",
       "      <td>4iHN5DsCNRufQQo1npz4JQvJubG7vJxjLng9iJ4y4SvU</td>\n",
       "      <td>NaN</td>\n",
       "      <td>mainnet_income_call_sol</td>\n",
       "      <td>Hxtb6APfNtf9m8jJjh7uYp8fCTGr9aeHxBSfiPqCrV6G</td>\n",
       "      <td>4Hnh1UCC6HLzx9NaGKnTVHR2bANcRrhydumdHCnrT3i2</td>\n",
       "      <td>SOL</td>\n",
       "      <td>solana</td>\n",
       "      <td>Withdraw</td>\n",
       "    </tr>\n",
       "    <tr>\n",
       "      <th>...</th>\n",
       "      <td>...</td>\n",
       "      <td>...</td>\n",
       "      <td>...</td>\n",
       "      <td>...</td>\n",
       "      <td>...</td>\n",
       "      <td>...</td>\n",
       "      <td>...</td>\n",
       "      <td>...</td>\n",
       "      <td>...</td>\n",
       "      <td>...</td>\n",
       "      <td>...</td>\n",
       "      <td>...</td>\n",
       "      <td>...</td>\n",
       "      <td>...</td>\n",
       "      <td>...</td>\n",
       "      <td>...</td>\n",
       "      <td>...</td>\n",
       "    </tr>\n",
       "    <tr>\n",
       "      <th>45018</th>\n",
       "      <td>zyVxz1kQCA6TK1wuATc1GzHERF4HQYT7Sze6vj3H9dCipwpzQc7DQiDYq9aHKGi9PnJTovAaPoWFJivLhY5fUrQ</td>\n",
       "      <td>4.000000</td>\n",
       "      <td>transfer</td>\n",
       "      <td>0-0</td>\n",
       "      <td>HfW97Lwm186yH9WWaq1RF322nVyn8vVmhSgy92bjBZkt</td>\n",
       "      <td>2022-01-06T21:32:23Z</td>\n",
       "      <td>LUNA (Wormhole)</td>\n",
       "      <td>F6v4wfAdJB8D8p77bMXZgYt8TDKsYxLYxH5AFhUkYx9W</td>\n",
       "      <td>HfW97Lwm186yH9WWaq1RF322nVyn8vVmhSgy92bjBZkt</td>\n",
       "      <td>8WcFxQjd3CAktJPBkQG7obuygqkXLB4Gt9fiBpsRkN5U</td>\n",
       "      <td>5oV1Yf8q1oQgPYuHjepjmKFuaG2Wng9dzTqbSWhU5W2X</td>\n",
       "      <td>mainnet_income_call_luna</td>\n",
       "      <td>5oV1Yf8q1oQgPYuHjepjmKFuaG2Wng9dzTqbSWhU5W2X</td>\n",
       "      <td>95sn4kgeJnnBfRCD8S2quu4HS9Y6vb7JDuXrarnmEjYE</td>\n",
       "      <td>LUNA</td>\n",
       "      <td>terra-luna</td>\n",
       "      <td>Deposit</td>\n",
       "    </tr>\n",
       "    <tr>\n",
       "      <th>45019</th>\n",
       "      <td>zyWwiyhoPt37qBqNGGhVToWQugoJ2jMzmp5FBrjRFzuyfV6e7p1QJzWSBoyDaZB6vRgzbXFbABebnR8wi1r86T9</td>\n",
       "      <td>0.011698</td>\n",
       "      <td>transfer</td>\n",
       "      <td>1-1</td>\n",
       "      <td>8arRjN8Kg8tZhhkQsoXg5y29DBHKEsxknGuUBqSHUC6i</td>\n",
       "      <td>2022-02-24T01:03:57Z</td>\n",
       "      <td>Wrapped Bitcoin (Sollet)</td>\n",
       "      <td>9n4nbM75f5Ui33ZbPYXn59EwSgE8CGsHtAeTH5YFeJ9E</td>\n",
       "      <td>8arRjN8Kg8tZhhkQsoXg5y29DBHKEsxknGuUBqSHUC6i</td>\n",
       "      <td>56mMYR7erJUUYVxuZraHhnq4AKBf6GZRC3gNwoUtAvQi</td>\n",
       "      <td>DA1M8mw7GnPNKU9ReANtHPQyuVzKZtsuuSbCyc2uX2du</td>\n",
       "      <td>mainnet_income_call_btc</td>\n",
       "      <td>DA1M8mw7GnPNKU9ReANtHPQyuVzKZtsuuSbCyc2uX2du</td>\n",
       "      <td>3BjcHXvyzMsjmeqE2qFLx45K4XFx3JPiyRnjJiF5MAHt</td>\n",
       "      <td>BTC</td>\n",
       "      <td>bitcoin</td>\n",
       "      <td>Deposit</td>\n",
       "    </tr>\n",
       "    <tr>\n",
       "      <th>45020</th>\n",
       "      <td>zz28t8bhMn9FHGsb2uhicqjiCVRq1wKeHccVg3yta1zGVpQpgfJW63X7DujKcVkyUxDzXsRNnpvekNDDj5qTihi</td>\n",
       "      <td>1000.000000</td>\n",
       "      <td>transfer</td>\n",
       "      <td>1-1</td>\n",
       "      <td>DNpaVTkiQMiHgGXNMRzFpeVS9GwzZjQPGUxmZ2pEMakt</td>\n",
       "      <td>2022-02-16T18:47:10Z</td>\n",
       "      <td>USD Coin</td>\n",
       "      <td>EPjFWdd5AufqSSqeM2qN1xzybapC8G4wEGGkZwyTDt1v</td>\n",
       "      <td>DNpaVTkiQMiHgGXNMRzFpeVS9GwzZjQPGUxmZ2pEMakt</td>\n",
       "      <td>5W2FqmiNCdSMeHZp2wacxmbCeRxHGFgHuFuY9QM2hh8z</td>\n",
       "      <td>CVrRw6VtxSjokm2tKmaS5RCuoc9EFjN4wEoov6f2PST6</td>\n",
       "      <td>mainnet_income_put_mngo</td>\n",
       "      <td>CVrRw6VtxSjokm2tKmaS5RCuoc9EFjN4wEoov6f2PST6</td>\n",
       "      <td>CxHG1tPkeEHsAVmPF2UrjZK3W719J5DGFgMaLtUkBoeP</td>\n",
       "      <td>USDC</td>\n",
       "      <td>usd-coin</td>\n",
       "      <td>Deposit</td>\n",
       "    </tr>\n",
       "    <tr>\n",
       "      <th>45021</th>\n",
       "      <td>zzUXB8WDMutX8JqBPRxx1Ea7LsqBKkvDjUrZswZmL4MPHKYRdtaoeC5LmSs6NnUESMwfc5QdCAGKkXwbbd7Y1ba</td>\n",
       "      <td>1.014140</td>\n",
       "      <td>transfer</td>\n",
       "      <td>1-1</td>\n",
       "      <td>GaSVxveDeaFFe2qzkEE48nNKhp9CK7v951EfhYibdavb</td>\n",
       "      <td>2022-01-07T00:36:47Z</td>\n",
       "      <td>Wrapped Ethereum (Sollet)</td>\n",
       "      <td>2FPyTwcZLUg1MDrwsyoP4D6s1tM7hAkHYRjkNb5w6Pxk</td>\n",
       "      <td>GaSVxveDeaFFe2qzkEE48nNKhp9CK7v951EfhYibdavb</td>\n",
       "      <td>ETxhe2X5uteKGGYa2AbgVH5sAcyuebQRHURGipQx2oYo</td>\n",
       "      <td>FThcy5XXvab5u3jbA6NjWKdMNiCSV3oY5AAkvEvpa8wp</td>\n",
       "      <td>mainnet_income_call_eth</td>\n",
       "      <td>FThcy5XXvab5u3jbA6NjWKdMNiCSV3oY5AAkvEvpa8wp</td>\n",
       "      <td>GjnoPUjQiEUYWuKAbMax2cM1Eony8Yutc133wuSun9hS</td>\n",
       "      <td>ETH</td>\n",
       "      <td>ethereum</td>\n",
       "      <td>Deposit</td>\n",
       "    </tr>\n",
       "    <tr>\n",
       "      <th>45022</th>\n",
       "      <td>zzftz6GRcNpQYDXURtJnWD4YFPJ4DAsSNJkaWMw6hHg6mhwxYdLN3KdEPhMK9ow4ZA3BrtJYJ1FxtD7BdMrT9dS</td>\n",
       "      <td>400.000000</td>\n",
       "      <td>transfer</td>\n",
       "      <td>1-1</td>\n",
       "      <td>C3UuZnCG7SrViycFXq3Rgg331mQsjhPSH31yHKntUt4t</td>\n",
       "      <td>2022-01-06T17:22:16Z</td>\n",
       "      <td>USD Coin</td>\n",
       "      <td>EPjFWdd5AufqSSqeM2qN1xzybapC8G4wEGGkZwyTDt1v</td>\n",
       "      <td>C3UuZnCG7SrViycFXq3Rgg331mQsjhPSH31yHKntUt4t</td>\n",
       "      <td>EhCoeUuKeU4iZSUXsU3wDvxewirzR7rsGKcXvpAZZqkP</td>\n",
       "      <td>6Nkc8MEiz3WLz1xthYitmSuy3NGwn7782upRHo2iFmXK</td>\n",
       "      <td>mainnet_income_put_sol</td>\n",
       "      <td>6Nkc8MEiz3WLz1xthYitmSuy3NGwn7782upRHo2iFmXK</td>\n",
       "      <td>EBPM7fvPN8EuA65Uc7DT9eGyDUZ1sqMLM8Rb8y2YxBYU</td>\n",
       "      <td>USDC</td>\n",
       "      <td>usd-coin</td>\n",
       "      <td>Deposit</td>\n",
       "    </tr>\n",
       "  </tbody>\n",
       "</table>\n",
       "<p>45023 rows × 17 columns</p>\n",
       "</div>"
      ],
      "text/plain": [
       "                                                                                    txSignature  \\\n",
       "0      122tbxak1CeaRQSMZD2izGb9tXa7rSaRpyD2s3iSv4bKp3uyxg1uf3oDUGMYrzoNp35GMw8PhYcJbMBgVeV8bik1   \n",
       "1      122urr2mqKPc1rE9EqpqZnFXWPasm27yAcLmsQP7XM7iKL5JgmYmtxJDyhDRN8qiM8C2hsZWoumggqP4xYPj3zcg   \n",
       "2      123Av6p8VGMApaN16jk3dUUYEze1RLPohUUg1h51XjNt8PYqQRA7EjACQKHTeCidXYGvNuX6TEssd66pk8wcr3XS   \n",
       "3      124pSR5mQXtZAQ3vES5QTqkZzyBiyYphVhc3CHkswcibTmvGxNiyhn2cjTACLpCd4uPCPqBCDcrj2JsmA2STwF3m   \n",
       "4      1271nQpntCG8PBGdDaqkdnFaUTogSCNRpR7LfZroJebaFcub3TgArZw1EdHTezkxf6vswxwXvR1XLMrrVkeoezR5   \n",
       "...                                                                                         ...   \n",
       "45018   zyVxz1kQCA6TK1wuATc1GzHERF4HQYT7Sze6vj3H9dCipwpzQc7DQiDYq9aHKGi9PnJTovAaPoWFJivLhY5fUrQ   \n",
       "45019   zyWwiyhoPt37qBqNGGhVToWQugoJ2jMzmp5FBrjRFzuyfV6e7p1QJzWSBoyDaZB6vRgzbXFbABebnR8wi1r86T9   \n",
       "45020   zz28t8bhMn9FHGsb2uhicqjiCVRq1wKeHccVg3yta1zGVpQpgfJW63X7DujKcVkyUxDzXsRNnpvekNDDj5qTihi   \n",
       "45021   zzUXB8WDMutX8JqBPRxx1Ea7LsqBKkvDjUrZswZmL4MPHKYRdtaoeC5LmSs6NnUESMwfc5QdCAGKkXwbbd7Y1ba   \n",
       "45022   zzftz6GRcNpQYDXURtJnWD4YFPJ4DAsSNJkaWMw6hHg6mhwxYdLN3KdEPhMK9ow4ZA3BrtJYJ1FxtD7BdMrT9dS   \n",
       "\n",
       "            amount instructionAction instructionOrder  \\\n",
       "0         1.062448              burn              1-1   \n",
       "1        48.722463              burn              1-0   \n",
       "2         0.480814              burn              1-1   \n",
       "3       380.320000              burn              0-1   \n",
       "4         0.097854              burn              3-1   \n",
       "...            ...               ...              ...   \n",
       "45018     4.000000          transfer              0-0   \n",
       "45019     0.011698          transfer              1-1   \n",
       "45020  1000.000000          transfer              1-1   \n",
       "45021     1.014140          transfer              1-1   \n",
       "45022   400.000000          transfer              1-1   \n",
       "\n",
       "                                        userAddress             timestamp  \\\n",
       "0      GbYTQgbXndUJoczx23Hy3hobAReguEuddijnsRTkn8pJ  2022-01-09T10:12:13Z   \n",
       "1      A3PS3sjJmNbMt1XZXVB7s5WVPnjPfUVykxmV6kVHqCQ4  2022-03-13T12:34:28Z   \n",
       "2      5e8tCdqSvhNhFWpDsy2at7LwnZwbh2RHRVvrcsUgeymi  2022-02-03T11:14:07Z   \n",
       "3      75JCoqqnK9aHwhGSTrYacwDDPxaySZBHVwxQ9WAdmRic  2022-01-01T07:47:41Z   \n",
       "4      4gsxjXky9Wrf6QwMFqCBjwaxzHfHLKgSv4ruCi1KKTi9  2021-12-24T06:32:57Z   \n",
       "...                                             ...                   ...   \n",
       "45018  HfW97Lwm186yH9WWaq1RF322nVyn8vVmhSgy92bjBZkt  2022-01-06T21:32:23Z   \n",
       "45019  8arRjN8Kg8tZhhkQsoXg5y29DBHKEsxknGuUBqSHUC6i  2022-02-24T01:03:57Z   \n",
       "45020  DNpaVTkiQMiHgGXNMRzFpeVS9GwzZjQPGUxmZ2pEMakt  2022-02-16T18:47:10Z   \n",
       "45021  GaSVxveDeaFFe2qzkEE48nNKhp9CK7v951EfhYibdavb  2022-01-07T00:36:47Z   \n",
       "45022  C3UuZnCG7SrViycFXq3Rgg331mQsjhPSH31yHKntUt4t  2022-01-06T17:22:16Z   \n",
       "\n",
       "                    currencyName  \\\n",
       "0                            NaN   \n",
       "1                            NaN   \n",
       "2                            NaN   \n",
       "3                            NaN   \n",
       "4                            NaN   \n",
       "...                          ...   \n",
       "45018            LUNA (Wormhole)   \n",
       "45019   Wrapped Bitcoin (Sollet)   \n",
       "45020                   USD Coin   \n",
       "45021  Wrapped Ethereum (Sollet)   \n",
       "45022                   USD Coin   \n",
       "\n",
       "                                    currencyAddress  \\\n",
       "0      6UA3yn28XecAHLTwoCtjfzy3WcyQj1x13bxnH8urUiKt   \n",
       "1      DPMCwE9z9jXaDVDti5aKhdgCWGgsvioz6ZvB9eZjH7UE   \n",
       "2       5VmdHqvRMbXivuC34w4Hux9zb1y9moiBEQmXDrTR1kV   \n",
       "3      DPMCwE9z9jXaDVDti5aKhdgCWGgsvioz6ZvB9eZjH7UE   \n",
       "4      4Hnh1UCC6HLzx9NaGKnTVHR2bANcRrhydumdHCnrT3i2   \n",
       "...                                             ...   \n",
       "45018  F6v4wfAdJB8D8p77bMXZgYt8TDKsYxLYxH5AFhUkYx9W   \n",
       "45019  9n4nbM75f5Ui33ZbPYXn59EwSgE8CGsHtAeTH5YFeJ9E   \n",
       "45020  EPjFWdd5AufqSSqeM2qN1xzybapC8G4wEGGkZwyTDt1v   \n",
       "45021  2FPyTwcZLUg1MDrwsyoP4D6s1tM7hAkHYRjkNb5w6Pxk   \n",
       "45022  EPjFWdd5AufqSSqeM2qN1xzybapC8G4wEGGkZwyTDt1v   \n",
       "\n",
       "                                      senderAddress  \\\n",
       "0      GbYTQgbXndUJoczx23Hy3hobAReguEuddijnsRTkn8pJ   \n",
       "1      A3PS3sjJmNbMt1XZXVB7s5WVPnjPfUVykxmV6kVHqCQ4   \n",
       "2      5e8tCdqSvhNhFWpDsy2at7LwnZwbh2RHRVvrcsUgeymi   \n",
       "3      75JCoqqnK9aHwhGSTrYacwDDPxaySZBHVwxQ9WAdmRic   \n",
       "4      4gsxjXky9Wrf6QwMFqCBjwaxzHfHLKgSv4ruCi1KKTi9   \n",
       "...                                             ...   \n",
       "45018  HfW97Lwm186yH9WWaq1RF322nVyn8vVmhSgy92bjBZkt   \n",
       "45019  8arRjN8Kg8tZhhkQsoXg5y29DBHKEsxknGuUBqSHUC6i   \n",
       "45020  DNpaVTkiQMiHgGXNMRzFpeVS9GwzZjQPGUxmZ2pEMakt   \n",
       "45021  GaSVxveDeaFFe2qzkEE48nNKhp9CK7v951EfhYibdavb   \n",
       "45022  C3UuZnCG7SrViycFXq3Rgg331mQsjhPSH31yHKntUt4t   \n",
       "\n",
       "                                    senderTokenMint  \\\n",
       "0      2ALneL69HRuthso7f4inq75g8AYBTbKHKgFB2oBgE6mh   \n",
       "1      GM3NcpB3Gwb8CBVvGNy3Nz2bHCgmDojKdWFMBBLQVCiL   \n",
       "2      8o6bKeAW6eRQT3SGh8QMkeAvjCXgtQWLrBHJXkgf5r4G   \n",
       "3      DMxk7cTKY94j9ks84nBFb1d5H5RisWqcKheuVPzY1mHX   \n",
       "4      4iHN5DsCNRufQQo1npz4JQvJubG7vJxjLng9iJ4y4SvU   \n",
       "...                                             ...   \n",
       "45018  8WcFxQjd3CAktJPBkQG7obuygqkXLB4Gt9fiBpsRkN5U   \n",
       "45019  56mMYR7erJUUYVxuZraHhnq4AKBf6GZRC3gNwoUtAvQi   \n",
       "45020  5W2FqmiNCdSMeHZp2wacxmbCeRxHGFgHuFuY9QM2hh8z   \n",
       "45021  ETxhe2X5uteKGGYa2AbgVH5sAcyuebQRHURGipQx2oYo   \n",
       "45022  EhCoeUuKeU4iZSUXsU3wDvxewirzR7rsGKcXvpAZZqkP   \n",
       "\n",
       "                                    receiverAddress  \\\n",
       "0                                               NaN   \n",
       "1                                               NaN   \n",
       "2                                               NaN   \n",
       "3                                               NaN   \n",
       "4                                               NaN   \n",
       "...                                             ...   \n",
       "45018  5oV1Yf8q1oQgPYuHjepjmKFuaG2Wng9dzTqbSWhU5W2X   \n",
       "45019  DA1M8mw7GnPNKU9ReANtHPQyuVzKZtsuuSbCyc2uX2du   \n",
       "45020  CVrRw6VtxSjokm2tKmaS5RCuoc9EFjN4wEoov6f2PST6   \n",
       "45021  FThcy5XXvab5u3jbA6NjWKdMNiCSV3oY5AAkvEvpa8wp   \n",
       "45022  6Nkc8MEiz3WLz1xthYitmSuy3NGwn7782upRHo2iFmXK   \n",
       "\n",
       "                           globalId  \\\n",
       "0      mainnet_income_call_marinade   \n",
       "1           mainnet_income_call_sbr   \n",
       "2        mainnet_income_call_socean   \n",
       "3           mainnet_income_call_sbr   \n",
       "4           mainnet_income_call_sol   \n",
       "...                             ...   \n",
       "45018      mainnet_income_call_luna   \n",
       "45019       mainnet_income_call_btc   \n",
       "45020       mainnet_income_put_mngo   \n",
       "45021       mainnet_income_call_eth   \n",
       "45022        mainnet_income_put_sol   \n",
       "\n",
       "                                     vaultAuthority  \\\n",
       "0      6asST5hurmxJ8uFvh7ZRWkrMfSEzjEAJ4DNR1is3G6eH   \n",
       "1      BH7Jg3f97FyeGxsPR7FFskvfqGiaLeUnJ9Ksda53Jj8h   \n",
       "2      A5MpyajTy6hdsg3S2em5ukcgY1ZBhxTxEKv8BgHajv1A   \n",
       "3      BH7Jg3f97FyeGxsPR7FFskvfqGiaLeUnJ9Ksda53Jj8h   \n",
       "4      Hxtb6APfNtf9m8jJjh7uYp8fCTGr9aeHxBSfiPqCrV6G   \n",
       "...                                             ...   \n",
       "45018  5oV1Yf8q1oQgPYuHjepjmKFuaG2Wng9dzTqbSWhU5W2X   \n",
       "45019  DA1M8mw7GnPNKU9ReANtHPQyuVzKZtsuuSbCyc2uX2du   \n",
       "45020  CVrRw6VtxSjokm2tKmaS5RCuoc9EFjN4wEoov6f2PST6   \n",
       "45021  FThcy5XXvab5u3jbA6NjWKdMNiCSV3oY5AAkvEvpa8wp   \n",
       "45022  6Nkc8MEiz3WLz1xthYitmSuy3NGwn7782upRHo2iFmXK   \n",
       "\n",
       "                                     shareTokenMint depositTokenSymbol  \\\n",
       "0      6UA3yn28XecAHLTwoCtjfzy3WcyQj1x13bxnH8urUiKt               mSOL   \n",
       "1      DPMCwE9z9jXaDVDti5aKhdgCWGgsvioz6ZvB9eZjH7UE                SBR   \n",
       "2       5VmdHqvRMbXivuC34w4Hux9zb1y9moiBEQmXDrTR1kV             scnSOL   \n",
       "3      DPMCwE9z9jXaDVDti5aKhdgCWGgsvioz6ZvB9eZjH7UE                SBR   \n",
       "4      4Hnh1UCC6HLzx9NaGKnTVHR2bANcRrhydumdHCnrT3i2                SOL   \n",
       "...                                             ...                ...   \n",
       "45018  95sn4kgeJnnBfRCD8S2quu4HS9Y6vb7JDuXrarnmEjYE               LUNA   \n",
       "45019  3BjcHXvyzMsjmeqE2qFLx45K4XFx3JPiyRnjJiF5MAHt                BTC   \n",
       "45020  CxHG1tPkeEHsAVmPF2UrjZK3W719J5DGFgMaLtUkBoeP               USDC   \n",
       "45021  GjnoPUjQiEUYWuKAbMax2cM1Eony8Yutc133wuSun9hS                ETH   \n",
       "45022  EBPM7fvPN8EuA65Uc7DT9eGyDUZ1sqMLM8Rb8y2YxBYU               USDC   \n",
       "\n",
       "      depositTokenCoingeckoId userAction  \n",
       "0                        msol   Withdraw  \n",
       "1                       saber   Withdraw  \n",
       "2           socean-staked-sol   Withdraw  \n",
       "3                       saber   Withdraw  \n",
       "4                      solana   Withdraw  \n",
       "...                       ...        ...  \n",
       "45018              terra-luna    Deposit  \n",
       "45019                 bitcoin    Deposit  \n",
       "45020                usd-coin    Deposit  \n",
       "45021                ethereum    Deposit  \n",
       "45022                usd-coin    Deposit  \n",
       "\n",
       "[45023 rows x 17 columns]"
      ]
     },
     "execution_count": 297,
     "metadata": {},
     "output_type": "execute_result"
    }
   ],
   "source": [
    "df_all"
   ]
  },
  {
   "cell_type": "code",
   "execution_count": 298,
   "id": "2a695017",
   "metadata": {},
   "outputs": [],
   "source": [
    "df_all = pd.merge(df_all, tree, left_on=\"depositTokenSymbol\", right_on=\"symbol\", how='left')\n"
   ]
  },
  {
   "cell_type": "code",
   "execution_count": 299,
   "id": "3ec571a4",
   "metadata": {},
   "outputs": [],
   "source": [
    "# df_all[\"timestamp\"] = pd.to_datetime(df_all.timestamp)"
   ]
  },
  {
   "cell_type": "code",
   "execution_count": 300,
   "id": "254e785e",
   "metadata": {},
   "outputs": [],
   "source": [
    "df_all[\"amount_usdc\"] = df_all[\"amount\"]*df_all[\"price\"]"
   ]
  },
  {
   "cell_type": "code",
   "execution_count": 301,
   "id": "d8ea02a3",
   "metadata": {},
   "outputs": [],
   "source": [
    "unique_users = df_all.groupby('timestamp').userAddress.nunique().reset_index()#.plot()#.cumsum()\n"
   ]
  },
  {
   "cell_type": "code",
   "execution_count": 302,
   "id": "d4a3d77a",
   "metadata": {},
   "outputs": [],
   "source": [
    "# unique_users[\"date\"] = unique_users.timestamp.dt.date"
   ]
  },
  {
   "cell_type": "code",
   "execution_count": 303,
   "id": "f1f45d7a",
   "metadata": {
    "scrolled": true
   },
   "outputs": [
    {
     "data": {
      "text/plain": [
       "<AxesSubplot:xlabel='timestamp'>"
      ]
     },
     "execution_count": 303,
     "metadata": {},
     "output_type": "execute_result"
    },
    {
     "data": {
      "image/png": "[encoded data removed]",
      "text/plain": [
       "<Figure size 432x288 with 1 Axes>"
      ]
     },
     "metadata": {
      "needs_background": "light"
     },
     "output_type": "display_data"
    }
   ],
   "source": [
    "unique_users.groupby(\"timestamp\").userAddress.sum().plot()"
   ]
  },
  {
   "cell_type": "code",
   "execution_count": 304,
   "id": "9134aeab",
   "metadata": {},
   "outputs": [
    {
     "data": {
      "text/plain": [
       "Text(0.5, 1.0, 'Friktion Volt Unique Users')"
      ]
     },
     "execution_count": 304,
     "metadata": {},
     "output_type": "execute_result"
    },
    {
     "data": {
      "image/png": "[encoded data removed]",
      "text/plain": [
       "<Figure size 432x288 with 1 Axes>"
      ]
     },
     "metadata": {
      "needs_background": "light"
     },
     "output_type": "display_data"
    }
   ],
   "source": [
    "unique_users.plot(grid=True)\n",
    "plt.xticks(rotation=45)\n",
    "plt.title(\"Friktion Volt Unique Users\")"
   ]
  },
  {
   "cell_type": "code",
   "execution_count": 305,
   "id": "b630bff2",
   "metadata": {},
   "outputs": [
    {
     "data": {
      "text/plain": [
       "array(['Withdraw', 'ClaimPendingWithdrawal', 'CancelPendingWithdrawal',\n",
       "       'CancelPendingDeposit', 'Deposit'], dtype=object)"
      ]
     },
     "execution_count": 305,
     "metadata": {},
     "output_type": "execute_result"
    }
   ],
   "source": [
    "df_all.userAction.unique()"
   ]
  },
  {
   "cell_type": "code",
   "execution_count": 306,
   "id": "01e5c37f",
   "metadata": {},
   "outputs": [
    {
     "data": {
      "text/plain": [
       "Index(['txSignature', 'amount', 'instructionAction', 'instructionOrder',\n",
       "       'userAddress', 'timestamp', 'currencyName', 'currencyAddress',\n",
       "       'senderAddress', 'senderTokenMint', 'receiverAddress', 'globalId',\n",
       "       'vaultAuthority', 'shareTokenMint', 'depositTokenSymbol',\n",
       "       'depositTokenCoingeckoId', 'userAction', 'symbol', 'price',\n",
       "       'amount_usdc'],\n",
       "      dtype='object')"
      ]
     },
     "execution_count": 306,
     "metadata": {},
     "output_type": "execute_result"
    }
   ],
   "source": [
    "df_all.columns"
   ]
  },
  {
   "cell_type": "code",
   "execution_count": 307,
   "id": "dca4194b",
   "metadata": {},
   "outputs": [],
   "source": [
    "def calculate_tvl_change(x):\n",
    "    mult = 0\n",
    "    if x[\"userAction\"] in [\"Deposit\", \"CancelPendingWithdrawal\"]:\n",
    "        mult = 1\n",
    "    elif x[\"userAction\"] in [\"CancelPendingDeposit\", \"Deposit\"]:\n",
    "        mult = -1\n",
    "    \n",
    "    return x[\"amount_usdc\"]*mult"
   ]
  },
  {
   "cell_type": "code",
   "execution_count": 308,
   "id": "0bbdb84b",
   "metadata": {},
   "outputs": [
    {
     "data": {
      "text/plain": [
       "0           0.000000\n",
       "1           0.000000\n",
       "2           0.000000\n",
       "3           0.000000\n",
       "4           0.000000\n",
       "            ...     \n",
       "45018     376.220000\n",
       "45019     494.673326\n",
       "45020    1000.000000\n",
       "45021    3030.757390\n",
       "45022     400.000000\n",
       "Length: 45023, dtype: float64"
      ]
     },
     "execution_count": 308,
     "metadata": {},
     "output_type": "execute_result"
    }
   ],
   "source": [
    "# df_all[\"tvl_change\"] = \n",
    "df_all.apply(lambda x: calculate_tvl_change(x), axis=1)"
   ]
  },
  {
   "cell_type": "code",
   "execution_count": 309,
   "id": "a5d65fa1",
   "metadata": {},
   "outputs": [],
   "source": [
    "df_all[\"tvl_change\"] = df_all.apply(lambda x: calculate_tvl_change(x), axis=1)\n",
    "tvl = df_all.groupby('timestamp')[\"tvl_change\"].sum().cumsum()"
   ]
  },
  {
   "cell_type": "code",
   "execution_count": 310,
   "id": "8217f0df",
   "metadata": {},
   "outputs": [
    {
     "data": {
      "text/plain": [
       "timestamp\n",
       "2021-12-16T17:42:09Z    8.448943e+01\n",
       "2021-12-16T17:44:06Z    8.448943e+01\n",
       "2021-12-16T17:47:02Z    1.689789e+02\n",
       "2021-12-16T20:01:02Z    3.804139e+02\n",
       "2021-12-16T20:13:51Z    5.918489e+02\n",
       "                            ...     \n",
       "2022-03-31T23:04:38Z    2.023850e+08\n",
       "2022-03-31T23:05:22Z    2.023852e+08\n",
       "2022-03-31T23:08:33Z    2.024078e+08\n",
       "2022-03-31T23:12:19Z    2.024077e+08\n",
       "2022-03-31T23:16:28Z    2.024078e+08\n",
       "Name: tvl_change, Length: 44339, dtype: float64"
      ]
     },
     "execution_count": 310,
     "metadata": {},
     "output_type": "execute_result"
    }
   ],
   "source": [
    "tvl"
   ]
  },
  {
   "cell_type": "code",
   "execution_count": 311,
   "id": "5064929b",
   "metadata": {},
   "outputs": [],
   "source": [
    "tvl = df_all.loc[df_all.userAction!=\"ClaimPendingWithdrawal\"].groupby(\"timestamp\").amount_usdc.sum().cumsum()"
   ]
  },
  {
   "cell_type": "code",
   "execution_count": 312,
   "id": "568be946",
   "metadata": {},
   "outputs": [],
   "source": [
    "tvl = tvl.reset_index()"
   ]
  },
  {
   "cell_type": "code",
   "execution_count": 313,
   "id": "8513cb02",
   "metadata": {},
   "outputs": [
    {
     "data": {
      "text/html": [
       "<div>\n",
       "<style scoped>\n",
       "    .dataframe tbody tr th:only-of-type {\n",
       "        vertical-align: middle;\n",
       "    }\n",
       "\n",
       "    .dataframe tbody tr th {\n",
       "        vertical-align: top;\n",
       "    }\n",
       "\n",
       "    .dataframe thead th {\n",
       "        text-align: right;\n",
       "    }\n",
       "</style>\n",
       "<table border=\"1\" class=\"dataframe\">\n",
       "  <thead>\n",
       "    <tr style=\"text-align: right;\">\n",
       "      <th></th>\n",
       "      <th>timestamp</th>\n",
       "      <th>userAddress</th>\n",
       "    </tr>\n",
       "  </thead>\n",
       "  <tbody>\n",
       "    <tr>\n",
       "      <th>0</th>\n",
       "      <td>2021-12-16T17:42:09Z</td>\n",
       "      <td>1</td>\n",
       "    </tr>\n",
       "    <tr>\n",
       "      <th>1</th>\n",
       "      <td>2021-12-16T17:44:06Z</td>\n",
       "      <td>1</td>\n",
       "    </tr>\n",
       "    <tr>\n",
       "      <th>2</th>\n",
       "      <td>2021-12-16T17:47:02Z</td>\n",
       "      <td>1</td>\n",
       "    </tr>\n",
       "    <tr>\n",
       "      <th>3</th>\n",
       "      <td>2021-12-16T20:01:02Z</td>\n",
       "      <td>1</td>\n",
       "    </tr>\n",
       "    <tr>\n",
       "      <th>4</th>\n",
       "      <td>2021-12-16T20:13:51Z</td>\n",
       "      <td>1</td>\n",
       "    </tr>\n",
       "    <tr>\n",
       "      <th>...</th>\n",
       "      <td>...</td>\n",
       "      <td>...</td>\n",
       "    </tr>\n",
       "    <tr>\n",
       "      <th>44334</th>\n",
       "      <td>2022-03-31T23:04:38Z</td>\n",
       "      <td>1</td>\n",
       "    </tr>\n",
       "    <tr>\n",
       "      <th>44335</th>\n",
       "      <td>2022-03-31T23:05:22Z</td>\n",
       "      <td>1</td>\n",
       "    </tr>\n",
       "    <tr>\n",
       "      <th>44336</th>\n",
       "      <td>2022-03-31T23:08:33Z</td>\n",
       "      <td>1</td>\n",
       "    </tr>\n",
       "    <tr>\n",
       "      <th>44337</th>\n",
       "      <td>2022-03-31T23:12:19Z</td>\n",
       "      <td>1</td>\n",
       "    </tr>\n",
       "    <tr>\n",
       "      <th>44338</th>\n",
       "      <td>2022-03-31T23:16:28Z</td>\n",
       "      <td>1</td>\n",
       "    </tr>\n",
       "  </tbody>\n",
       "</table>\n",
       "<p>44339 rows × 2 columns</p>\n",
       "</div>"
      ],
      "text/plain": [
       "                  timestamp  userAddress\n",
       "0      2021-12-16T17:42:09Z            1\n",
       "1      2021-12-16T17:44:06Z            1\n",
       "2      2021-12-16T17:47:02Z            1\n",
       "3      2021-12-16T20:01:02Z            1\n",
       "4      2021-12-16T20:13:51Z            1\n",
       "...                     ...          ...\n",
       "44334  2022-03-31T23:04:38Z            1\n",
       "44335  2022-03-31T23:05:22Z            1\n",
       "44336  2022-03-31T23:08:33Z            1\n",
       "44337  2022-03-31T23:12:19Z            1\n",
       "44338  2022-03-31T23:16:28Z            1\n",
       "\n",
       "[44339 rows x 2 columns]"
      ]
     },
     "execution_count": 313,
     "metadata": {},
     "output_type": "execute_result"
    }
   ],
   "source": [
    "unique_users"
   ]
  },
  {
   "cell_type": "code",
   "execution_count": 325,
   "id": "d60c1398",
   "metadata": {},
   "outputs": [],
   "source": [
    "def cum_unique(x):\n",
    "    return df_all.loc[df_all.timestamp < x.timestamp].userAddress.nunique()"
   ]
  },
  {
   "cell_type": "code",
   "execution_count": 326,
   "id": "273cb9bc",
   "metadata": {
    "scrolled": true
   },
   "outputs": [
    {
     "data": {
      "text/plain": [
       "0         4085\n",
       "1        10147\n",
       "2         8307\n",
       "3         2802\n",
       "4         1273\n",
       "         ...  \n",
       "45018     3843\n",
       "45019     9603\n",
       "45020     9291\n",
       "45021     3864\n",
       "45022     3815\n",
       "Length: 45023, dtype: int64"
      ]
     },
     "execution_count": 326,
     "metadata": {},
     "output_type": "execute_result"
    }
   ],
   "source": [
    "df_all.apply(lambda x: cum_unique(x), axis=1)"
   ]
  },
  {
   "cell_type": "code",
   "execution_count": 314,
   "id": "aad8d82e",
   "metadata": {},
   "outputs": [],
   "source": [
    "unique_users = df_all.groupby('timestamp').userAddress.nunique().cumsum().reset_index()"
   ]
  },
  {
   "cell_type": "code",
   "execution_count": 321,
   "id": "4396ec87",
   "metadata": {},
   "outputs": [
    {
     "data": {
      "text/plain": [
       "(13705,)"
      ]
     },
     "execution_count": 321,
     "metadata": {},
     "output_type": "execute_result"
    }
   ],
   "source": [
    "df_all.userAddress.unique().shape"
   ]
  },
  {
   "cell_type": "code",
   "execution_count": null,
   "id": "93b735c5",
   "metadata": {},
   "outputs": [],
   "source": [
    "# \n",
    "\n",
    "Average TVL per user over time\n",
    "\n",
    "Distribution of Total deposits per unique user\n",
    "\n",
    "Distribution of Total withdrawals per unique user\n",
    "\n",
    "Distribution of Current TVL per user\n",
    "\n"
   ]
  },
  {
   "cell_type": "code",
   "execution_count": null,
   "id": "c6fe01dd",
   "metadata": {},
   "outputs": [],
   "source": []
  },
  {
   "cell_type": "code",
   "execution_count": null,
   "id": "49a3b635",
   "metadata": {},
   "outputs": [],
   "source": []
  },
  {
   "cell_type": "code",
   "execution_count": 315,
   "id": "3569f8b4",
   "metadata": {
    "scrolled": true
   },
   "outputs": [
    {
     "data": {
      "text/html": [
       "<div>\n",
       "<style scoped>\n",
       "    .dataframe tbody tr th:only-of-type {\n",
       "        vertical-align: middle;\n",
       "    }\n",
       "\n",
       "    .dataframe tbody tr th {\n",
       "        vertical-align: top;\n",
       "    }\n",
       "\n",
       "    .dataframe thead th {\n",
       "        text-align: right;\n",
       "    }\n",
       "</style>\n",
       "<table border=\"1\" class=\"dataframe\">\n",
       "  <thead>\n",
       "    <tr style=\"text-align: right;\">\n",
       "      <th></th>\n",
       "      <th>timestamp</th>\n",
       "      <th>userAddress</th>\n",
       "    </tr>\n",
       "  </thead>\n",
       "  <tbody>\n",
       "    <tr>\n",
       "      <th>0</th>\n",
       "      <td>2021-12-16T17:42:09Z</td>\n",
       "      <td>1</td>\n",
       "    </tr>\n",
       "    <tr>\n",
       "      <th>1</th>\n",
       "      <td>2021-12-16T17:44:06Z</td>\n",
       "      <td>2</td>\n",
       "    </tr>\n",
       "    <tr>\n",
       "      <th>2</th>\n",
       "      <td>2021-12-16T17:47:02Z</td>\n",
       "      <td>3</td>\n",
       "    </tr>\n",
       "    <tr>\n",
       "      <th>3</th>\n",
       "      <td>2021-12-16T20:01:02Z</td>\n",
       "      <td>4</td>\n",
       "    </tr>\n",
       "    <tr>\n",
       "      <th>4</th>\n",
       "      <td>2021-12-16T20:13:51Z</td>\n",
       "      <td>5</td>\n",
       "    </tr>\n",
       "    <tr>\n",
       "      <th>...</th>\n",
       "      <td>...</td>\n",
       "      <td>...</td>\n",
       "    </tr>\n",
       "    <tr>\n",
       "      <th>44334</th>\n",
       "      <td>2022-03-31T23:04:38Z</td>\n",
       "      <td>44805</td>\n",
       "    </tr>\n",
       "    <tr>\n",
       "      <th>44335</th>\n",
       "      <td>2022-03-31T23:05:22Z</td>\n",
       "      <td>44806</td>\n",
       "    </tr>\n",
       "    <tr>\n",
       "      <th>44336</th>\n",
       "      <td>2022-03-31T23:08:33Z</td>\n",
       "      <td>44807</td>\n",
       "    </tr>\n",
       "    <tr>\n",
       "      <th>44337</th>\n",
       "      <td>2022-03-31T23:12:19Z</td>\n",
       "      <td>44808</td>\n",
       "    </tr>\n",
       "    <tr>\n",
       "      <th>44338</th>\n",
       "      <td>2022-03-31T23:16:28Z</td>\n",
       "      <td>44809</td>\n",
       "    </tr>\n",
       "  </tbody>\n",
       "</table>\n",
       "<p>44339 rows × 2 columns</p>\n",
       "</div>"
      ],
      "text/plain": [
       "                  timestamp  userAddress\n",
       "0      2021-12-16T17:42:09Z            1\n",
       "1      2021-12-16T17:44:06Z            2\n",
       "2      2021-12-16T17:47:02Z            3\n",
       "3      2021-12-16T20:01:02Z            4\n",
       "4      2021-12-16T20:13:51Z            5\n",
       "...                     ...          ...\n",
       "44334  2022-03-31T23:04:38Z        44805\n",
       "44335  2022-03-31T23:05:22Z        44806\n",
       "44336  2022-03-31T23:08:33Z        44807\n",
       "44337  2022-03-31T23:12:19Z        44808\n",
       "44338  2022-03-31T23:16:28Z        44809\n",
       "\n",
       "[44339 rows x 2 columns]"
      ]
     },
     "execution_count": 315,
     "metadata": {},
     "output_type": "execute_result"
    }
   ],
   "source": [
    "unique_users"
   ]
  },
  {
   "cell_type": "code",
   "execution_count": 316,
   "id": "be0e0c56",
   "metadata": {},
   "outputs": [],
   "source": [
    "zz = pd.merge(unique_users, tvl, on=\"timestamp\")"
   ]
  },
  {
   "cell_type": "code",
   "execution_count": 317,
   "id": "1444dddd",
   "metadata": {},
   "outputs": [],
   "source": [
    "zz[\"tvl_per_user\"] = zz[\"amount_usdc\"]/zz[\"userAddress\"]"
   ]
  },
  {
   "cell_type": "code",
   "execution_count": 318,
   "id": "e57013a7",
   "metadata": {},
   "outputs": [
    {
     "data": {
      "text/plain": [
       "<AxesSubplot:xlabel='timestamp'>"
      ]
     },
     "execution_count": 318,
     "metadata": {},
     "output_type": "execute_result"
    },
    {
     "data": {
      "image/png": "[encoded data removed]",
      "text/plain": [
       "<Figure size 432x288 with 1 Axes>"
      ]
     },
     "metadata": {
      "needs_background": "light"
     },
     "output_type": "display_data"
    }
   ],
   "source": [
    "zz[\"timestamp\"] = pd.to_datetime(zz.timestamp)\n",
    "zz.set_index(\"timestamp\")[\"tvl_per_user\"].plot(grid=True)\n"
   ]
  },
  {
   "cell_type": "code",
   "execution_count": 319,
   "id": "d2f9c189",
   "metadata": {},
   "outputs": [
    {
     "data": {
      "text/plain": [
       "timestamp\n",
       "2021-12-16T17:42:09Z       84.489426\n",
       "2021-12-16T17:47:02Z       84.489426\n",
       "2021-12-16T20:01:02Z      211.435000\n",
       "2021-12-16T20:13:51Z      211.435000\n",
       "2021-12-16T20:23:30Z       42.287000\n",
       "                            ...     \n",
       "2022-03-31T23:03:31Z        9.037000\n",
       "2022-03-31T23:04:38Z      283.060177\n",
       "2022-03-31T23:05:22Z      180.740000\n",
       "2022-03-31T23:08:33Z    22587.205799\n",
       "2022-03-31T23:16:28Z       89.565952\n",
       "Name: amount_usdc, Length: 29175, dtype: float64"
      ]
     },
     "execution_count": 319,
     "metadata": {},
     "output_type": "execute_result"
    }
   ],
   "source": [
    "df_all.loc[df_all.userAction==\"Deposit\"].groupby(\"timestamp\")[\"amount_usdc\"].sum()"
   ]
  },
  {
   "cell_type": "code",
   "execution_count": 295,
   "id": "5505c03e",
   "metadata": {},
   "outputs": [
    {
     "data": {
      "text/plain": [
       "array(['Withdraw', 'ClaimPendingWithdrawal', 'CancelPendingWithdrawal',\n",
       "       'CancelPendingDeposit'], dtype=object)"
      ]
     },
     "execution_count": 295,
     "metadata": {},
     "output_type": "execute_result"
    }
   ],
   "source": [
    "df_all.userAction.unique()"
   ]
  },
  {
   "cell_type": "code",
   "execution_count": null,
   "id": "a36556b4",
   "metadata": {},
   "outputs": [],
   "source": []
  }
 ],
 "metadata": {
  "kernelspec": {
   "display_name": "Python 3 (ipykernel)",
   "language": "python",
   "name": "python3"
  },
  "language_info": {
   "codemirror_mode": {
    "name": "ipython",
    "version": 3
   },
   "file_extension": ".py",
   "mimetype": "text/x-python",
   "name": "python",
   "nbconvert_exporter": "python",
   "pygments_lexer": "ipython3",
   "version": "3.8.9"
  }
 },
 "nbformat": 4,
 "nbformat_minor": 5
}
