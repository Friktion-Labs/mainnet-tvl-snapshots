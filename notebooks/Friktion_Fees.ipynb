{
 "cells": [
  {
   "cell_type": "markdown",
   "id": "96fb09b3",
   "metadata": {},
   "source": [
    "## Mapping \n",
    "\n",
    "RUN THIS NOTEBOOK TO CALCULATE HOW MUCH PERFORMANCE AND WITHDRAWAL FRIKTION HAS GENERATED. \n",
    "\n",
    "DEPENDS ON MANUALLY MAINTAINED LIST OF VOLT ADDRESSES. TO TRACK NEW ONES, NEED TO UPDATE THE MAPPING. "
   ]
  },
  {
   "cell_type": "code",
   "execution_count": 14,
   "id": "e2f3c87a",
   "metadata": {},
   "outputs": [],
   "source": [
    "import pandas as pd\n",
    "import requests\n",
    "import numpy as np\n",
    "import json\n",
    "import datetime\n",
    "import matplotlib.pyplot as plt\n",
    "\n",
    "pd.set_option('display.max_colwidth', None)\n",
    "\n",
    "def run_query(query):  # A simple function to use requests.post to make the API call.\n",
    "    headers = {'X-API-KEY': 'BQYCaXaMZlqZrPCSQVsiJrKtxKRVcSe4'}\n",
    "    request = requests.post('https://graphql.bitquery.io/', json={'query': query}, headers=headers)\n",
    "    if request.status_code == 200:\n",
    "        return request.json()\n",
    "    else:\n",
    "        print(request.reason)\n",
    "        raise Exception('Query failed and return code is {}.{}'.format(request.status_code, query))\n",
    "\n",
    "query_date = '\"2021-12-16\", \"{}\"'.format(str(datetime.date.today()))\n",
    "\n",
    "# Convert this to JSON\n",
    "\n",
    "VOLT_ACCOUNTS = {\n",
    "    # CSP\n",
    "    \"SOL-P\": \"6Nkc8MEiz3WLz1xthYitmSuy3NGwn7782upRHo2iFmXK\",\n",
    "    \"SOL-P-high\": \"JAoeEG2sfQ1xgXUNVVkJ5mCTCw4SLc6oJafDwf6jTf\",\n",
    "    \"BTC-P\": \"GrB6vbG2WP7eEnbwgxUbBGRMeXYq139jo2o9oW8cNK8f\",\n",
    "    \"SOL-P (tsUSDC)\": \"AQRGh6PU7LzDHvvoPNS7wVVQaCBeftw9kVDAnvuEjbs8\",\n",
    "    \"ETH-P\": \"EA29Xf3HGMtYziw7UKZDUKby7gkoCbXwmiNKwc7z54Ax\",\n",
    "    \"LUNA-P\": \"5kA7FPiB3t2X5s65dK1AoEu5asDjC5d7f5vaB4iY2yrj\",\n",
    "    \"MNGO-P\": \"CVrRw6VtxSjokm2tKmaS5RCuoc9EFjN4wEoov6f2PST6\",\n",
    "#     \"SOL-P-Step\": ,\n",
    "#     \"SOL-P-Parrot\": ,\n",
    "#     \"SOL-P-UXD\": ,\n",
    "    \n",
    "    \"SOL-C\": \"Hxtb6APfNtf9m8jJjh7uYp8fCTGr9aeHxBSfiPqCrV6G\",\n",
    "    \"SOL-C-high\": \"DNa849drqW19uBV5X9ohpJ5brRGzq856gk3HDRqveFrA\",\n",
    "    \"BTC-C\": \"DA1M8mw7GnPNKU9ReANtHPQyuVzKZtsuuSbCyc2uX2du\",\n",
    "    \"mSOL-C\": \"6asST5hurmxJ8uFvh7ZRWkrMfSEzjEAJ4DNR1is3G6eH\",\n",
    "    \"ETH-C\": \"FThcy5XXvab5u3jbA6NjWKdMNiCSV3oY5AAkvEvpa8wp\",\n",
    "    \"FTT-C\": \"7KqHFuUksvNhrWgoacKkqyp2RwfBNdypCYgK9nxD1d6K\",\n",
    "    \"SRM-C\": \"2P427N5sYcEXvZAZwqNzjXEHsBMESQoLyjNquTSmGPMb\",\n",
    "    \"MNGO-C\": \"B3yakZxwomkmnCxRr8ZmQtiWgtxtVBuCREDFDdAvcCVQ\",\n",
    "    \"scnSOL-C\": \"A5MpyajTy6hdsg3S2em5ukcgY1ZBhxTxEKv8BgHajv1A\",\n",
    "    \"SBR-C\": \"BH7Jg3f97FyeGxsPR7FFskvfqGiaLeUnJ9Ksda53Jj8h\",\n",
    "    \"LUNA-C\": \"5oV1Yf8q1oQgPYuHjepjmKFuaG2Wng9dzTqbSWhU5W2X\",\n",
    "    \"RAY-C\": \"A6XsYxGj9wpqUZG81XwgQJ2zJ3efCbuWSQfnkHqUSmdM\",\n",
    "    \"STEP-C\": \"FiEHDTKT6X7VFwGaUmsm1XXYr8vvkoSR5EqcY4znpefq\",\n",
    "    \"AVAX-C\": \"HLfkEc6E2HEcABaWm3QZSfDvswzXjh1onF9xEzUAtWNS\",\n",
    "}\n",
    "\n",
    "ACCOUNT_STRING = str(list(VOLT_ACCOUNTS.values())).replace(\"\\'\", \"\\\"\")\n",
    "\n",
    "FEES_ADDRESS = '3KjJiWBfaw96qGhysq6Fc9FTxdPgPTNY6shM7Bwfp8EJ'\n",
    "\n",
    "MASTER_ADDRESS = 'DxMJgeSVoe1cWo1NPExiAsmn83N3bADvkT86dSP1k7WE'\n",
    "\n",
    "query = \"\"\"\n",
    "    query{\n",
    "    solana(network: solana) {\n",
    "    transfers(\n",
    "      date: {between: [\"\"\"+ query_date +\"\"\"]}\n",
    "      transferType: {is: transfer}\n",
    "      any: [{senderAddress: {in: \"\"\" + ACCOUNT_STRING + \"\"\"}}]\n",
    "    ) {\n",
    "      amount\n",
    "      currency {\n",
    "        symbol\n",
    "        address\n",
    "      }\n",
    "      block {\n",
    "        timestamp {\n",
    "          iso8601\n",
    "        }\n",
    "      }\n",
    "      transaction {\n",
    "        signer\n",
    "        signature\n",
    "        innerInstructionsCount\n",
    "      }\n",
    "      receiver {\n",
    "        address\n",
    "      }\n",
    "      sender {\n",
    "        address\n",
    "      }\n",
    "    }\n",
    "  }\n",
    "}\n",
    "\"\"\"\n",
    "\n",
    "result = run_query(query)\n",
    "# convert GraphQL json to pandas dataframe\n",
    "df = pd.json_normalize(result['data']['solana']['transfers'])\n",
    "df = df.rename(columns={\"block.timestamp.iso8601\": \"date\", \"currency.symbol\": \"symbol\", \n",
    "                        \"transaction.signer\":\"signer\", \"currency.address\":\"cash\",\n",
    "                        \"receiver.address\":\"receiver\", \"sender.address\":\"asset\", \"transaction.signature\": \"tx_id\"})\n",
    "# Does json_normalize flatten a json file for you??\n",
    "\n",
    "df[\"tx_id\"] = df[\"tx_id\"].apply(lambda x: \"https://solscan.io/tx/{}\".format(x))\n",
    "# if transaction signer & receiver is diff, drop row\n",
    "df = df.query(\"receiver == '{}'\".format(FEES_ADDRESS)).reset_index(drop=True)\n",
    "\n",
    "def find_key(value, d): \n",
    "    for k, v in d.items():\n",
    "        if value == v:\n",
    "            return k\n",
    "\n",
    "df['asset'] = df.asset.apply(lambda x: find_key(x, VOLT_ACCOUNTS))\n",
    "\n",
    "df['symbol'] = df.apply(lambda x: \"tsUSDC\" if x.cash == \"Cvvh8nsKZet59nsDDo3orMa3rZnPWQhpgrMCVcRDRgip\" else x.symbol, axis=1)\n",
    "\n",
    "df[\"FeeType\"] = df[\"transaction.innerInstructionsCount\"].apply(lambda x: \"Withdrawal Fee\" if x==1 else \"Performance Fee\")"
   ]
  },
  {
   "cell_type": "code",
   "execution_count": 15,
   "id": "53a6dab0",
   "metadata": {},
   "outputs": [
    {
     "data": {
      "text/plain": [
       "FeeType          symbol\n",
       "Performance Fee  BTC           1.388323\n",
       "                 ETH           4.292708\n",
       "                 FTT         531.417061\n",
       "                 LUNA        504.763571\n",
       "                 MNGO      22098.953302\n",
       "                 RAY         231.926626\n",
       "                 SBR       85893.930697\n",
       "                 SOL        1735.005001\n",
       "                 SRM       20159.080000\n",
       "                 STEP        725.778038\n",
       "                 USDC      58689.701570\n",
       "                 UST        3912.364308\n",
       "                 mSOL        561.077512\n",
       "                 scnSOL       62.217521\n",
       "                 tsUSDC     8290.858470\n",
       "Withdrawal Fee   BTC           0.263747\n",
       "                 ETH           1.546723\n",
       "                 FTT          61.220766\n",
       "                 LUNA         94.975402\n",
       "                 MNGO       3499.265779\n",
       "                 RAY           4.801589\n",
       "                 SBR        6783.790275\n",
       "                 SOL         154.272594\n",
       "                 SRM         219.827571\n",
       "                 STEP         16.330453\n",
       "                 USDC      10912.415569\n",
       "                 UST         425.566555\n",
       "                 mSOL        103.591086\n",
       "                 scnSOL        5.353262\n",
       "                 tsUSDC     3349.411548\n",
       "Name: amount, dtype: float64"
      ]
     },
     "execution_count": 15,
     "metadata": {},
     "output_type": "execute_result"
    }
   ],
   "source": [
    "df.groupby([\"FeeType\", \"symbol\"]).amount.sum()"
   ]
  },
  {
   "cell_type": "markdown",
   "id": "bfaae6e7",
   "metadata": {},
   "source": [
    "# Get current coin prices porfolio calculation"
   ]
  },
  {
   "cell_type": "code",
   "execution_count": 16,
   "id": "035935ee",
   "metadata": {},
   "outputs": [
    {
     "name": "stdout",
     "output_type": "stream",
     "text": [
      "[[1647806040000, 41363.0, 41375.0, 41359.0, 41373.0, 4600.4497]]\n",
      "[[1647806040000, 2872.6, 2874.0, 2872.5, 2873.9, 58214.9941]]\n",
      "[[1647806040000, 89.585, 89.63, 89.575, 89.6275, 9960.2827]]\n",
      "[[1647806040000, 92.95, 93.0, 92.95, 93.0, 0.0]]\n",
      "[[1647806040000, 91.35, 91.358, 91.302, 91.349, 28667.9604]]\n",
      "[[1647806040000, 44.089, 44.095, 44.089, 44.095, 57.3193]]\n",
      "[[1647806040000, 2.612, 2.613, 2.612, 2.613, 0.0]]\n",
      "[[1647806040000, 0.151275, 0.151275, 0.151275, 0.151275, 0.0]]\n",
      "[[1647806040000, 2.7118, 2.7131, 2.7118, 2.7129, 8.1376]]\n",
      "[[1647806040000, 0.1655, 0.1655, 0.1655, 0.1655, 0.0]]\n",
      "[[1647806040000, 87.2535, 87.3, 87.1765, 87.3, 2920.88625]]\n"
     ]
    }
   ],
   "source": [
    "import pandas as pd\n",
    "import numpy as np\n",
    "import matplotlib.pyplot as plt\n",
    "\n",
    "import requests\n",
    "import json\n",
    "import ccxt\n",
    "\n",
    "import datetime\n",
    "\n",
    "cftx = ccxt.ftx(\n",
    "    {\n",
    "        \"apiKey\":\"mvnd3WRG56rAP-6MpxFyZ5sN2WnjEO8UsQB6u-6s\",\n",
    "        \"secret\":\"m_m926E36IMlrhCv6bGkLdSdaVegbm5PggpCrFCM\"\n",
    "    }\n",
    ")\n",
    "\n",
    "markets = cftx.load_markets()\n",
    "binance = ccxt.binance()\n",
    "\n",
    "# 10 days\n",
    "time_since = datetime.datetime.timestamp(datetime.datetime.now())*1000-10*24*60*60*1000\n",
    "\n",
    "symbols = {\n",
    "    \"BTC\": \"BTC/USD\", \n",
    "    \"ETH\": \"ETH/USD\", \n",
    "    \"SOL\": \"SOL/USD\", \n",
    "    \"MSOL\": \"MSOL/USD\", \n",
    "    \"LUNA\": \"LUNA/USD:USD\", \n",
    "    \"FTT\": \"FTT/USD\", \n",
    "    \"SRM\": \"SRM/USD\",\n",
    "    \"MNGO\": \"MNGO/USD\",\n",
    "    \"RAY\": \"RAY/USD\", \n",
    "    \"STEP\": \"STEP/USD\",\n",
    "    \"AVAX\": \"AVAX/USD\"\n",
    "}\n",
    "pricedf = {}\n",
    "for k, symbol in symbols.items():\n",
    "    data = cftx.fetchOHLCV(symbol, '1m', since=time_since, limit=1)\n",
    "    tree = pd.DataFrame(data, columns=[\"time\", \"open\", \"high\", \"low\", \"close\", \"volume\"])\n",
    "    data\n",
    "    print(data)\n",
    "    pricedf[k] = tree[\"close\"]\n",
    "    "
   ]
  },
  {
   "cell_type": "code",
   "execution_count": 17,
   "id": "3d76537e",
   "metadata": {},
   "outputs": [],
   "source": [
    "# Random price hardcodes b/c they aren't traded on FTX\n",
    "\n",
    "pricedf[\"USDC\"] =pricedf[\"tsUSDC\"] = pricedf[\"UST\"] = 1\n",
    "pricedf[\"mSOL\"] = pricedf[\"SOL\"]*1.03\n",
    "pricedf[\"scnSOL\"] = pricedf[\"SOL\"]*1.03\n",
    "pricedf[\"SBR\"] = 0.04000"
   ]
  },
  {
   "cell_type": "markdown",
   "id": "c3cfb781",
   "metadata": {},
   "source": [
    "# ALLS"
   ]
  },
  {
   "cell_type": "code",
   "execution_count": 18,
   "id": "c9068bc9",
   "metadata": {
    "scrolled": false
   },
   "outputs": [
    {
     "data": {
      "text/html": [
       "<div>\n",
       "<style scoped>\n",
       "    .dataframe tbody tr th:only-of-type {\n",
       "        vertical-align: middle;\n",
       "    }\n",
       "\n",
       "    .dataframe tbody tr th {\n",
       "        vertical-align: top;\n",
       "    }\n",
       "\n",
       "    .dataframe thead th {\n",
       "        text-align: right;\n",
       "    }\n",
       "</style>\n",
       "<table border=\"1\" class=\"dataframe\">\n",
       "  <thead>\n",
       "    <tr style=\"text-align: right;\">\n",
       "      <th></th>\n",
       "      <th></th>\n",
       "      <th>amount</th>\n",
       "      <th>usdc_value</th>\n",
       "    </tr>\n",
       "    <tr>\n",
       "      <th>FeeType</th>\n",
       "      <th>symbol</th>\n",
       "      <th></th>\n",
       "      <th></th>\n",
       "    </tr>\n",
       "  </thead>\n",
       "  <tbody>\n",
       "    <tr>\n",
       "      <th rowspan=\"15\" valign=\"top\">Performance Fee</th>\n",
       "      <th>BTC</th>\n",
       "      <td>1.388323</td>\n",
       "      <td>57439</td>\n",
       "    </tr>\n",
       "    <tr>\n",
       "      <th>ETH</th>\n",
       "      <td>4.292708</td>\n",
       "      <td>12336</td>\n",
       "    </tr>\n",
       "    <tr>\n",
       "      <th>FTT</th>\n",
       "      <td>531.417061</td>\n",
       "      <td>23432</td>\n",
       "    </tr>\n",
       "    <tr>\n",
       "      <th>LUNA</th>\n",
       "      <td>504.763571</td>\n",
       "      <td>46109</td>\n",
       "    </tr>\n",
       "    <tr>\n",
       "      <th>MNGO</th>\n",
       "      <td>22098.953302</td>\n",
       "      <td>3343</td>\n",
       "    </tr>\n",
       "    <tr>\n",
       "      <th>RAY</th>\n",
       "      <td>231.926626</td>\n",
       "      <td>629</td>\n",
       "    </tr>\n",
       "    <tr>\n",
       "      <th>SBR</th>\n",
       "      <td>85893.930697</td>\n",
       "      <td>3435</td>\n",
       "    </tr>\n",
       "    <tr>\n",
       "      <th>SOL</th>\n",
       "      <td>1735.005001</td>\n",
       "      <td>155504</td>\n",
       "    </tr>\n",
       "    <tr>\n",
       "      <th>SRM</th>\n",
       "      <td>20159.080000</td>\n",
       "      <td>52675</td>\n",
       "    </tr>\n",
       "    <tr>\n",
       "      <th>STEP</th>\n",
       "      <td>725.778038</td>\n",
       "      <td>120</td>\n",
       "    </tr>\n",
       "    <tr>\n",
       "      <th>USDC</th>\n",
       "      <td>58689.701570</td>\n",
       "      <td>58689</td>\n",
       "    </tr>\n",
       "    <tr>\n",
       "      <th>UST</th>\n",
       "      <td>3912.364308</td>\n",
       "      <td>3912</td>\n",
       "    </tr>\n",
       "    <tr>\n",
       "      <th>mSOL</th>\n",
       "      <td>561.077512</td>\n",
       "      <td>51796</td>\n",
       "    </tr>\n",
       "    <tr>\n",
       "      <th>scnSOL</th>\n",
       "      <td>62.217521</td>\n",
       "      <td>5743</td>\n",
       "    </tr>\n",
       "    <tr>\n",
       "      <th>tsUSDC</th>\n",
       "      <td>8290.858470</td>\n",
       "      <td>8290</td>\n",
       "    </tr>\n",
       "    <tr>\n",
       "      <th rowspan=\"15\" valign=\"top\">Withdrawal Fee</th>\n",
       "      <th>BTC</th>\n",
       "      <td>0.263747</td>\n",
       "      <td>10912</td>\n",
       "    </tr>\n",
       "    <tr>\n",
       "      <th>ETH</th>\n",
       "      <td>1.546723</td>\n",
       "      <td>4445</td>\n",
       "    </tr>\n",
       "    <tr>\n",
       "      <th>FTT</th>\n",
       "      <td>61.220766</td>\n",
       "      <td>2699</td>\n",
       "    </tr>\n",
       "    <tr>\n",
       "      <th>LUNA</th>\n",
       "      <td>94.975402</td>\n",
       "      <td>8675</td>\n",
       "    </tr>\n",
       "    <tr>\n",
       "      <th>MNGO</th>\n",
       "      <td>3499.265779</td>\n",
       "      <td>529</td>\n",
       "    </tr>\n",
       "    <tr>\n",
       "      <th>RAY</th>\n",
       "      <td>4.801589</td>\n",
       "      <td>13</td>\n",
       "    </tr>\n",
       "    <tr>\n",
       "      <th>SBR</th>\n",
       "      <td>6783.790275</td>\n",
       "      <td>271</td>\n",
       "    </tr>\n",
       "    <tr>\n",
       "      <th>SOL</th>\n",
       "      <td>154.272594</td>\n",
       "      <td>13827</td>\n",
       "    </tr>\n",
       "    <tr>\n",
       "      <th>SRM</th>\n",
       "      <td>219.827571</td>\n",
       "      <td>574</td>\n",
       "    </tr>\n",
       "    <tr>\n",
       "      <th>STEP</th>\n",
       "      <td>16.330453</td>\n",
       "      <td>2</td>\n",
       "    </tr>\n",
       "    <tr>\n",
       "      <th>USDC</th>\n",
       "      <td>10912.415569</td>\n",
       "      <td>10912</td>\n",
       "    </tr>\n",
       "    <tr>\n",
       "      <th>UST</th>\n",
       "      <td>425.566555</td>\n",
       "      <td>425</td>\n",
       "    </tr>\n",
       "    <tr>\n",
       "      <th>mSOL</th>\n",
       "      <td>103.591086</td>\n",
       "      <td>9563</td>\n",
       "    </tr>\n",
       "    <tr>\n",
       "      <th>scnSOL</th>\n",
       "      <td>5.353262</td>\n",
       "      <td>494</td>\n",
       "    </tr>\n",
       "    <tr>\n",
       "      <th>tsUSDC</th>\n",
       "      <td>3349.411548</td>\n",
       "      <td>3349</td>\n",
       "    </tr>\n",
       "  </tbody>\n",
       "</table>\n",
       "</div>"
      ],
      "text/plain": [
       "                              amount  usdc_value\n",
       "FeeType         symbol                          \n",
       "Performance Fee BTC         1.388323       57439\n",
       "                ETH         4.292708       12336\n",
       "                FTT       531.417061       23432\n",
       "                LUNA      504.763571       46109\n",
       "                MNGO    22098.953302        3343\n",
       "                RAY       231.926626         629\n",
       "                SBR     85893.930697        3435\n",
       "                SOL      1735.005001      155504\n",
       "                SRM     20159.080000       52675\n",
       "                STEP      725.778038         120\n",
       "                USDC    58689.701570       58689\n",
       "                UST      3912.364308        3912\n",
       "                mSOL      561.077512       51796\n",
       "                scnSOL     62.217521        5743\n",
       "                tsUSDC   8290.858470        8290\n",
       "Withdrawal Fee  BTC         0.263747       10912\n",
       "                ETH         1.546723        4445\n",
       "                FTT        61.220766        2699\n",
       "                LUNA       94.975402        8675\n",
       "                MNGO     3499.265779         529\n",
       "                RAY         4.801589          13\n",
       "                SBR      6783.790275         271\n",
       "                SOL       154.272594       13827\n",
       "                SRM       219.827571         574\n",
       "                STEP       16.330453           2\n",
       "                USDC    10912.415569       10912\n",
       "                UST       425.566555         425\n",
       "                mSOL      103.591086        9563\n",
       "                scnSOL      5.353262         494\n",
       "                tsUSDC   3349.411548        3349"
      ]
     },
     "execution_count": 18,
     "metadata": {},
     "output_type": "execute_result"
    }
   ],
   "source": [
    "fees = df.groupby([\"FeeType\", \"symbol\"]).amount.sum().reset_index()\n",
    "\n",
    "tree = pd.DataFrame(pricedf).T.reset_index()\n",
    "\n",
    "tree.columns = [\"symbol\", \"price\"]\n",
    "\n",
    "xavier = pd.merge(fees, tree, on=\"symbol\", how='left')\n",
    "\n",
    "xavier[\"usdc_value\"] = (xavier[\"amount\"]*xavier[\"price\"]).astype('int')\n",
    "\n",
    "xavier.groupby([\"FeeType\", \"symbol\"])[[\"amount\", \"usdc_value\"]].sum()"
   ]
  },
  {
   "cell_type": "code",
   "execution_count": 19,
   "id": "9b2e7b4e",
   "metadata": {},
   "outputs": [
    {
     "data": {
      "text/html": [
       "<div>\n",
       "<style scoped>\n",
       "    .dataframe tbody tr th:only-of-type {\n",
       "        vertical-align: middle;\n",
       "    }\n",
       "\n",
       "    .dataframe tbody tr th {\n",
       "        vertical-align: top;\n",
       "    }\n",
       "\n",
       "    .dataframe thead th {\n",
       "        text-align: right;\n",
       "    }\n",
       "</style>\n",
       "<table border=\"1\" class=\"dataframe\">\n",
       "  <thead>\n",
       "    <tr style=\"text-align: right;\">\n",
       "      <th></th>\n",
       "      <th>FeeType</th>\n",
       "      <th>symbol</th>\n",
       "      <th>amount</th>\n",
       "      <th>price</th>\n",
       "      <th>usdc_value</th>\n",
       "    </tr>\n",
       "  </thead>\n",
       "  <tbody>\n",
       "    <tr>\n",
       "      <th>0</th>\n",
       "      <td>Performance Fee</td>\n",
       "      <td>BTC</td>\n",
       "      <td>1.388323</td>\n",
       "      <td>41373.000000</td>\n",
       "      <td>57439</td>\n",
       "    </tr>\n",
       "    <tr>\n",
       "      <th>1</th>\n",
       "      <td>Performance Fee</td>\n",
       "      <td>ETH</td>\n",
       "      <td>4.292708</td>\n",
       "      <td>2873.900000</td>\n",
       "      <td>12336</td>\n",
       "    </tr>\n",
       "    <tr>\n",
       "      <th>2</th>\n",
       "      <td>Performance Fee</td>\n",
       "      <td>FTT</td>\n",
       "      <td>531.417061</td>\n",
       "      <td>44.095000</td>\n",
       "      <td>23432</td>\n",
       "    </tr>\n",
       "    <tr>\n",
       "      <th>3</th>\n",
       "      <td>Performance Fee</td>\n",
       "      <td>LUNA</td>\n",
       "      <td>504.763571</td>\n",
       "      <td>91.349000</td>\n",
       "      <td>46109</td>\n",
       "    </tr>\n",
       "    <tr>\n",
       "      <th>4</th>\n",
       "      <td>Performance Fee</td>\n",
       "      <td>MNGO</td>\n",
       "      <td>22098.953302</td>\n",
       "      <td>0.151275</td>\n",
       "      <td>3343</td>\n",
       "    </tr>\n",
       "    <tr>\n",
       "      <th>5</th>\n",
       "      <td>Performance Fee</td>\n",
       "      <td>RAY</td>\n",
       "      <td>231.926626</td>\n",
       "      <td>2.712900</td>\n",
       "      <td>629</td>\n",
       "    </tr>\n",
       "    <tr>\n",
       "      <th>6</th>\n",
       "      <td>Performance Fee</td>\n",
       "      <td>SBR</td>\n",
       "      <td>85893.930697</td>\n",
       "      <td>0.040000</td>\n",
       "      <td>3435</td>\n",
       "    </tr>\n",
       "    <tr>\n",
       "      <th>7</th>\n",
       "      <td>Performance Fee</td>\n",
       "      <td>SOL</td>\n",
       "      <td>1735.005001</td>\n",
       "      <td>89.627500</td>\n",
       "      <td>155504</td>\n",
       "    </tr>\n",
       "    <tr>\n",
       "      <th>8</th>\n",
       "      <td>Performance Fee</td>\n",
       "      <td>SRM</td>\n",
       "      <td>20159.080000</td>\n",
       "      <td>2.613000</td>\n",
       "      <td>52675</td>\n",
       "    </tr>\n",
       "    <tr>\n",
       "      <th>9</th>\n",
       "      <td>Performance Fee</td>\n",
       "      <td>STEP</td>\n",
       "      <td>725.778038</td>\n",
       "      <td>0.165500</td>\n",
       "      <td>120</td>\n",
       "    </tr>\n",
       "    <tr>\n",
       "      <th>10</th>\n",
       "      <td>Performance Fee</td>\n",
       "      <td>USDC</td>\n",
       "      <td>58689.701570</td>\n",
       "      <td>1.000000</td>\n",
       "      <td>58689</td>\n",
       "    </tr>\n",
       "    <tr>\n",
       "      <th>11</th>\n",
       "      <td>Performance Fee</td>\n",
       "      <td>UST</td>\n",
       "      <td>3912.364308</td>\n",
       "      <td>1.000000</td>\n",
       "      <td>3912</td>\n",
       "    </tr>\n",
       "    <tr>\n",
       "      <th>12</th>\n",
       "      <td>Performance Fee</td>\n",
       "      <td>mSOL</td>\n",
       "      <td>561.077512</td>\n",
       "      <td>92.316325</td>\n",
       "      <td>51796</td>\n",
       "    </tr>\n",
       "    <tr>\n",
       "      <th>13</th>\n",
       "      <td>Performance Fee</td>\n",
       "      <td>scnSOL</td>\n",
       "      <td>62.217521</td>\n",
       "      <td>92.316325</td>\n",
       "      <td>5743</td>\n",
       "    </tr>\n",
       "    <tr>\n",
       "      <th>14</th>\n",
       "      <td>Performance Fee</td>\n",
       "      <td>tsUSDC</td>\n",
       "      <td>8290.858470</td>\n",
       "      <td>1.000000</td>\n",
       "      <td>8290</td>\n",
       "    </tr>\n",
       "    <tr>\n",
       "      <th>15</th>\n",
       "      <td>Withdrawal Fee</td>\n",
       "      <td>BTC</td>\n",
       "      <td>0.263747</td>\n",
       "      <td>41373.000000</td>\n",
       "      <td>10912</td>\n",
       "    </tr>\n",
       "    <tr>\n",
       "      <th>16</th>\n",
       "      <td>Withdrawal Fee</td>\n",
       "      <td>ETH</td>\n",
       "      <td>1.546723</td>\n",
       "      <td>2873.900000</td>\n",
       "      <td>4445</td>\n",
       "    </tr>\n",
       "    <tr>\n",
       "      <th>17</th>\n",
       "      <td>Withdrawal Fee</td>\n",
       "      <td>FTT</td>\n",
       "      <td>61.220766</td>\n",
       "      <td>44.095000</td>\n",
       "      <td>2699</td>\n",
       "    </tr>\n",
       "    <tr>\n",
       "      <th>18</th>\n",
       "      <td>Withdrawal Fee</td>\n",
       "      <td>LUNA</td>\n",
       "      <td>94.975402</td>\n",
       "      <td>91.349000</td>\n",
       "      <td>8675</td>\n",
       "    </tr>\n",
       "    <tr>\n",
       "      <th>19</th>\n",
       "      <td>Withdrawal Fee</td>\n",
       "      <td>MNGO</td>\n",
       "      <td>3499.265779</td>\n",
       "      <td>0.151275</td>\n",
       "      <td>529</td>\n",
       "    </tr>\n",
       "    <tr>\n",
       "      <th>20</th>\n",
       "      <td>Withdrawal Fee</td>\n",
       "      <td>RAY</td>\n",
       "      <td>4.801589</td>\n",
       "      <td>2.712900</td>\n",
       "      <td>13</td>\n",
       "    </tr>\n",
       "    <tr>\n",
       "      <th>21</th>\n",
       "      <td>Withdrawal Fee</td>\n",
       "      <td>SBR</td>\n",
       "      <td>6783.790275</td>\n",
       "      <td>0.040000</td>\n",
       "      <td>271</td>\n",
       "    </tr>\n",
       "    <tr>\n",
       "      <th>22</th>\n",
       "      <td>Withdrawal Fee</td>\n",
       "      <td>SOL</td>\n",
       "      <td>154.272594</td>\n",
       "      <td>89.627500</td>\n",
       "      <td>13827</td>\n",
       "    </tr>\n",
       "    <tr>\n",
       "      <th>23</th>\n",
       "      <td>Withdrawal Fee</td>\n",
       "      <td>SRM</td>\n",
       "      <td>219.827571</td>\n",
       "      <td>2.613000</td>\n",
       "      <td>574</td>\n",
       "    </tr>\n",
       "    <tr>\n",
       "      <th>24</th>\n",
       "      <td>Withdrawal Fee</td>\n",
       "      <td>STEP</td>\n",
       "      <td>16.330453</td>\n",
       "      <td>0.165500</td>\n",
       "      <td>2</td>\n",
       "    </tr>\n",
       "    <tr>\n",
       "      <th>25</th>\n",
       "      <td>Withdrawal Fee</td>\n",
       "      <td>USDC</td>\n",
       "      <td>10912.415569</td>\n",
       "      <td>1.000000</td>\n",
       "      <td>10912</td>\n",
       "    </tr>\n",
       "    <tr>\n",
       "      <th>26</th>\n",
       "      <td>Withdrawal Fee</td>\n",
       "      <td>UST</td>\n",
       "      <td>425.566555</td>\n",
       "      <td>1.000000</td>\n",
       "      <td>425</td>\n",
       "    </tr>\n",
       "    <tr>\n",
       "      <th>27</th>\n",
       "      <td>Withdrawal Fee</td>\n",
       "      <td>mSOL</td>\n",
       "      <td>103.591086</td>\n",
       "      <td>92.316325</td>\n",
       "      <td>9563</td>\n",
       "    </tr>\n",
       "    <tr>\n",
       "      <th>28</th>\n",
       "      <td>Withdrawal Fee</td>\n",
       "      <td>scnSOL</td>\n",
       "      <td>5.353262</td>\n",
       "      <td>92.316325</td>\n",
       "      <td>494</td>\n",
       "    </tr>\n",
       "    <tr>\n",
       "      <th>29</th>\n",
       "      <td>Withdrawal Fee</td>\n",
       "      <td>tsUSDC</td>\n",
       "      <td>3349.411548</td>\n",
       "      <td>1.000000</td>\n",
       "      <td>3349</td>\n",
       "    </tr>\n",
       "  </tbody>\n",
       "</table>\n",
       "</div>"
      ],
      "text/plain": [
       "            FeeType  symbol        amount         price  usdc_value\n",
       "0   Performance Fee     BTC      1.388323  41373.000000       57439\n",
       "1   Performance Fee     ETH      4.292708   2873.900000       12336\n",
       "2   Performance Fee     FTT    531.417061     44.095000       23432\n",
       "3   Performance Fee    LUNA    504.763571     91.349000       46109\n",
       "4   Performance Fee    MNGO  22098.953302      0.151275        3343\n",
       "5   Performance Fee     RAY    231.926626      2.712900         629\n",
       "6   Performance Fee     SBR  85893.930697      0.040000        3435\n",
       "7   Performance Fee     SOL   1735.005001     89.627500      155504\n",
       "8   Performance Fee     SRM  20159.080000      2.613000       52675\n",
       "9   Performance Fee    STEP    725.778038      0.165500         120\n",
       "10  Performance Fee    USDC  58689.701570      1.000000       58689\n",
       "11  Performance Fee     UST   3912.364308      1.000000        3912\n",
       "12  Performance Fee    mSOL    561.077512     92.316325       51796\n",
       "13  Performance Fee  scnSOL     62.217521     92.316325        5743\n",
       "14  Performance Fee  tsUSDC   8290.858470      1.000000        8290\n",
       "15   Withdrawal Fee     BTC      0.263747  41373.000000       10912\n",
       "16   Withdrawal Fee     ETH      1.546723   2873.900000        4445\n",
       "17   Withdrawal Fee     FTT     61.220766     44.095000        2699\n",
       "18   Withdrawal Fee    LUNA     94.975402     91.349000        8675\n",
       "19   Withdrawal Fee    MNGO   3499.265779      0.151275         529\n",
       "20   Withdrawal Fee     RAY      4.801589      2.712900          13\n",
       "21   Withdrawal Fee     SBR   6783.790275      0.040000         271\n",
       "22   Withdrawal Fee     SOL    154.272594     89.627500       13827\n",
       "23   Withdrawal Fee     SRM    219.827571      2.613000         574\n",
       "24   Withdrawal Fee    STEP     16.330453      0.165500           2\n",
       "25   Withdrawal Fee    USDC  10912.415569      1.000000       10912\n",
       "26   Withdrawal Fee     UST    425.566555      1.000000         425\n",
       "27   Withdrawal Fee    mSOL    103.591086     92.316325        9563\n",
       "28   Withdrawal Fee  scnSOL      5.353262     92.316325         494\n",
       "29   Withdrawal Fee  tsUSDC   3349.411548      1.000000        3349"
      ]
     },
     "execution_count": 19,
     "metadata": {},
     "output_type": "execute_result"
    }
   ],
   "source": [
    "xavier"
   ]
  },
  {
   "cell_type": "markdown",
   "id": "2c9eb232",
   "metadata": {},
   "source": [
    "# If you want to mess with the actual withdrawals and performance fees, use this dataframe\n",
    "\n",
    "\n",
    "## FeeType == \"Performance Fee\"\n",
    "\n",
    "\n",
    "## FeeType == \"Withdrawal Fee\""
   ]
  },
  {
   "cell_type": "code",
   "execution_count": 20,
   "id": "9eb74bf6",
   "metadata": {},
   "outputs": [
    {
     "name": "stdout",
     "output_type": "stream",
     "text": [
      "<class 'pandas.core.frame.DataFrame'>\n",
      "RangeIndex: 384 entries, 0 to 383\n",
      "Data columns (total 10 columns):\n",
      " #   Column                              Non-Null Count  Dtype  \n",
      "---  ------                              --------------  -----  \n",
      " 0   amount                              384 non-null    float64\n",
      " 1   symbol                              384 non-null    object \n",
      " 2   cash                                384 non-null    object \n",
      " 3   date                                384 non-null    object \n",
      " 4   signer                              384 non-null    object \n",
      " 5   tx_id                               384 non-null    object \n",
      " 6   transaction.innerInstructionsCount  384 non-null    int64  \n",
      " 7   receiver                            384 non-null    object \n",
      " 8   asset                               384 non-null    object \n",
      " 9   FeeType                             384 non-null    object \n",
      "dtypes: float64(1), int64(1), object(8)\n",
      "memory usage: 30.1+ KB\n"
     ]
    }
   ],
   "source": [
    "df.info()"
   ]
  },
  {
   "cell_type": "code",
   "execution_count": 21,
   "id": "47eea7ab",
   "metadata": {},
   "outputs": [
    {
     "data": {
      "text/html": [
       "<div>\n",
       "<style scoped>\n",
       "    .dataframe tbody tr th:only-of-type {\n",
       "        vertical-align: middle;\n",
       "    }\n",
       "\n",
       "    .dataframe tbody tr th {\n",
       "        vertical-align: top;\n",
       "    }\n",
       "\n",
       "    .dataframe thead th {\n",
       "        text-align: right;\n",
       "    }\n",
       "</style>\n",
       "<table border=\"1\" class=\"dataframe\">\n",
       "  <thead>\n",
       "    <tr style=\"text-align: right;\">\n",
       "      <th></th>\n",
       "      <th>amount</th>\n",
       "      <th>symbol</th>\n",
       "      <th>cash</th>\n",
       "      <th>date</th>\n",
       "      <th>signer</th>\n",
       "      <th>tx_id</th>\n",
       "      <th>transaction.innerInstructionsCount</th>\n",
       "      <th>receiver</th>\n",
       "      <th>asset</th>\n",
       "      <th>FeeType</th>\n",
       "    </tr>\n",
       "  </thead>\n",
       "  <tbody>\n",
       "    <tr>\n",
       "      <th>0</th>\n",
       "      <td>8.218337</td>\n",
       "      <td>tsUSDC</td>\n",
       "      <td>Cvvh8nsKZet59nsDDo3orMa3rZnPWQhpgrMCVcRDRgip</td>\n",
       "      <td>2022-02-06T02:35:21Z</td>\n",
       "      <td>GVs4XuqEC27ppPBsXocH6PNzLAaJhy8JjBZJdYzGbXnX</td>\n",
       "      <td>https://solscan.io/tx/4FhqyXunsNFivUtazhp6rqc5PQUADvFckV1NXrueAN1Dc5VG22brXDGVPSA5rSFb5rBA78wYY8eecfR2MJBMgaRc</td>\n",
       "      <td>4</td>\n",
       "      <td>3KjJiWBfaw96qGhysq6Fc9FTxdPgPTNY6shM7Bwfp8EJ</td>\n",
       "      <td>SOL-P (tsUSDC)</td>\n",
       "      <td>Performance Fee</td>\n",
       "    </tr>\n",
       "  </tbody>\n",
       "</table>\n",
       "</div>"
      ],
      "text/plain": [
       "     amount  symbol                                          cash  \\\n",
       "0  8.218337  tsUSDC  Cvvh8nsKZet59nsDDo3orMa3rZnPWQhpgrMCVcRDRgip   \n",
       "\n",
       "                   date                                        signer  \\\n",
       "0  2022-02-06T02:35:21Z  GVs4XuqEC27ppPBsXocH6PNzLAaJhy8JjBZJdYzGbXnX   \n",
       "\n",
       "                                                                                                            tx_id  \\\n",
       "0  https://solscan.io/tx/4FhqyXunsNFivUtazhp6rqc5PQUADvFckV1NXrueAN1Dc5VG22brXDGVPSA5rSFb5rBA78wYY8eecfR2MJBMgaRc   \n",
       "\n",
       "   transaction.innerInstructionsCount  \\\n",
       "0                                   4   \n",
       "\n",
       "                                       receiver           asset  \\\n",
       "0  3KjJiWBfaw96qGhysq6Fc9FTxdPgPTNY6shM7Bwfp8EJ  SOL-P (tsUSDC)   \n",
       "\n",
       "           FeeType  \n",
       "0  Performance Fee  "
      ]
     },
     "execution_count": 21,
     "metadata": {},
     "output_type": "execute_result"
    }
   ],
   "source": [
    "df.head(1)"
   ]
  },
  {
   "cell_type": "code",
   "execution_count": 22,
   "id": "e567a891",
   "metadata": {},
   "outputs": [],
   "source": [
    "pdf = (pd.DataFrame(pricedf).T).reset_index()\n",
    "pdf.columns=[\"symbol\", \"price\"]"
   ]
  },
  {
   "cell_type": "code",
   "execution_count": 23,
   "id": "0d402f83",
   "metadata": {},
   "outputs": [],
   "source": [
    "zz = pd.merge(df, pdf, on=\"symbol\")"
   ]
  },
  {
   "cell_type": "code",
   "execution_count": 24,
   "id": "3547a152",
   "metadata": {},
   "outputs": [],
   "source": [
    "zz[\"usdc\"] = zz[\"price\"]*zz[\"amount\"]"
   ]
  },
  {
   "cell_type": "code",
   "execution_count": 25,
   "id": "e0761b3e",
   "metadata": {},
   "outputs": [],
   "source": [
    "from matplotlib.ticker import FuncFormatter\n",
    "import matplotlib.pyplot as plt\n",
    "def millions(x, pos):\n",
    "    'The two args are the value and tick position'\n",
    "    return '%1.1fM' % (x * 1e-6)\n",
    "\n",
    "\n",
    "formatter = FuncFormatter(millions)"
   ]
  },
  {
   "cell_type": "code",
   "execution_count": 26,
   "id": "2f1df184",
   "metadata": {},
   "outputs": [],
   "source": [
    "from matplotlib.ticker import FuncFormatter\n",
    "import matplotlib.pyplot as plt\n",
    "def thousands(x, pos):\n",
    "    'The two args are the value and tick position'\n",
    "    return '%1.1fK' % (x * 1e-3)\n",
    "\n",
    "\n",
    "formatter2 = FuncFormatter(thousands)"
   ]
  },
  {
   "cell_type": "code",
   "execution_count": 27,
   "id": "964c8dba",
   "metadata": {},
   "outputs": [],
   "source": [
    "from matplotlib.ticker import FuncFormatter\n",
    "import matplotlib.pyplot as plt\n",
    "def pct(x, pos):\n",
    "    'The two args are the value and tick position'\n",
    "    return '%1.1%%' % (x * 100)\n",
    "\n",
    "\n",
    "formatter3 = FuncFormatter(pct)"
   ]
  },
  {
   "cell_type": "code",
   "execution_count": 28,
   "id": "a76f2bc6",
   "metadata": {},
   "outputs": [
    {
     "data": {
      "text/plain": [
       "Text(0.5, 1.0, 'USDC value of Friktion Fees by Date')"
      ]
     },
     "execution_count": 28,
     "metadata": {},
     "output_type": "execute_result"
    },
    {
     "data": {
      "image/png": "[encoded data removed]",
      "text/plain": [
       "<Figure size 432x288 with 1 Axes>"
      ]
     },
     "metadata": {
      "needs_background": "light"
     },
     "output_type": "display_data"
    }
   ],
   "source": [
    "zz.groupby([\"date\", \"FeeType\"])[[\"usdc\"]].sum().unstack(1).fillna(0).cumsum().plot(grid=True)\n",
    "plt.xticks(rotation=30)\n",
    "plt.title(\"USDC value of Friktion Fees by Date\")"
   ]
  },
  {
   "cell_type": "code",
   "execution_count": 29,
   "id": "65180c56",
   "metadata": {},
   "outputs": [],
   "source": [
    "zz[\"churn\"] = zz[\"usdc\"]*1000"
   ]
  },
  {
   "cell_type": "code",
   "execution_count": 30,
   "id": "1d765f98",
   "metadata": {},
   "outputs": [
    {
     "data": {
      "image/png": "[encoded data removed]",
      "text/plain": [
       "<Figure size 432x288 with 1 Axes>"
      ]
     },
     "metadata": {
      "needs_background": "light"
     },
     "output_type": "display_data"
    }
   ],
   "source": [
    "ax = plt.figure().gca()\n",
    "zz.loc[zz.FeeType==\"Withdrawal Fee\"].groupby([\"date\", \"FeeType\"])[[\"churn\"]].sum().unstack(1).fillna(0).cumsum().plot(grid=True, ax=ax)\n",
    "plt.xticks(rotation=30)\n",
    "ax.set_title(\"Total USDC Withdrawn\")\n",
    "ax.yaxis.set_major_formatter(formatter)"
   ]
  },
  {
   "cell_type": "code",
   "execution_count": 31,
   "id": "509ae792",
   "metadata": {},
   "outputs": [
    {
     "ename": "NameError",
     "evalue": "name 'ff' is not defined",
     "output_type": "error",
     "traceback": [
      "\u001b[0;31m---------------------------------------------------------------------------\u001b[0m",
      "\u001b[0;31mNameError\u001b[0m                                 Traceback (most recent call last)",
      "\u001b[0;32m/var/folders/t5/lm3g0brx0dsf0ymt1ldc8xdr0000gp/T/ipykernel_22916/3748164461.py\u001b[0m in \u001b[0;36m<module>\u001b[0;34m\u001b[0m\n\u001b[0;32m----> 1\u001b[0;31m \u001b[0mff\u001b[0m\u001b[0;34m[\u001b[0m\u001b[0;34m\"datestr\"\u001b[0m\u001b[0;34m]\u001b[0m \u001b[0;34m=\u001b[0m \u001b[0mpd\u001b[0m\u001b[0;34m.\u001b[0m\u001b[0mto_datetime\u001b[0m\u001b[0;34m(\u001b[0m\u001b[0mff\u001b[0m\u001b[0;34m.\u001b[0m\u001b[0mtime\u001b[0m\u001b[0;34m)\u001b[0m\u001b[0;34m.\u001b[0m\u001b[0mdt\u001b[0m\u001b[0;34m.\u001b[0m\u001b[0mstrftime\u001b[0m\u001b[0;34m(\u001b[0m\u001b[0;34m\"%Y-%m-%d\"\u001b[0m\u001b[0;34m)\u001b[0m\u001b[0;34m\u001b[0m\u001b[0;34m\u001b[0m\u001b[0m\n\u001b[0m",
      "\u001b[0;31mNameError\u001b[0m: name 'ff' is not defined"
     ]
    }
   ],
   "source": [
    "ff[\"datestr\"] = pd.to_datetime(ff.time).dt.strftime(\"%Y-%m-%d\")"
   ]
  },
  {
   "cell_type": "code",
   "execution_count": null,
   "id": "87536ed2",
   "metadata": {},
   "outputs": [],
   "source": [
    "churn_rate = zz.loc[zz.FeeType==\"Withdrawal Fee\"].usdc.sum() / ff.groupby(\"datestr\").tvl.mean().sum()"
   ]
  },
  {
   "cell_type": "code",
   "execution_count": null,
   "id": "7a3b9b4a",
   "metadata": {},
   "outputs": [],
   "source": [
    "perf_fee_rate = zz.loc[zz.FeeType==\"Performance Fee\"].usdc.sum()/ff.groupby(\"datestr\").tvl.mean().sum()"
   ]
  },
  {
   "cell_type": "code",
   "execution_count": null,
   "id": "d6f8e8ee",
   "metadata": {},
   "outputs": [],
   "source": [
    "perf_fee_rate"
   ]
  },
  {
   "cell_type": "code",
   "execution_count": null,
   "id": "055ab3b7",
   "metadata": {},
   "outputs": [],
   "source": [
    "withdrawals = (1+np.arange(1, 279) * 0.01)*1.2e8"
   ]
  },
  {
   "cell_type": "code",
   "execution_count": null,
   "id": "01e8415e",
   "metadata": {},
   "outputs": [],
   "source": [
    "plt.plot(withdrawals)"
   ]
  },
  {
   "cell_type": "code",
   "execution_count": null,
   "id": "0cc5e8e6",
   "metadata": {},
   "outputs": [],
   "source": [
    "withdrawals.sum()*churn_rate"
   ]
  },
  {
   "cell_type": "code",
   "execution_count": null,
   "id": "017492ae",
   "metadata": {},
   "outputs": [],
   "source": [
    "ff = pd.read_json(\"../derived_timeseries/tvl.json\")\n",
    "\n",
    "ff.columns=[\"time\", \"tvl\"]\n",
    "\n",
    "ff[\"time\"] = ff.time.astype(dtype='datetime64[ms]')#.dt.strftime('%Y-%m-%d')\n",
    "\n",
    "ff"
   ]
  },
  {
   "cell_type": "code",
   "execution_count": null,
   "id": "cf75628d",
   "metadata": {},
   "outputs": [],
   "source": [
    "ax = plt.figure().gca()\n",
    "ff.groupby(\"time\").tvl.mean().plot(grid=True, title=\"Friktion TVL in USDC by Time\", ax=ax)\n",
    "ax.yaxis.set_major_formatter(formatter)"
   ]
  },
  {
   "cell_type": "code",
   "execution_count": null,
   "id": "16b28b5f",
   "metadata": {},
   "outputs": [],
   "source": [
    "mean = ff.groupby(\"time\").tvl.mean().reset_index()"
   ]
  },
  {
   "cell_type": "code",
   "execution_count": null,
   "id": "6bda99cf",
   "metadata": {
    "scrolled": true
   },
   "outputs": [],
   "source": [
    "mean"
   ]
  },
  {
   "cell_type": "code",
   "execution_count": null,
   "id": "b2bb30d6",
   "metadata": {},
   "outputs": [],
   "source": [
    "mean[\"2% annualized\"]  = mean.tvl*0.02/365"
   ]
  },
  {
   "cell_type": "code",
   "execution_count": null,
   "id": "4a58351b",
   "metadata": {},
   "outputs": [],
   "source": [
    "mean[\"1% annualized\"]  = mean.tvl*0.01/365"
   ]
  },
  {
   "cell_type": "code",
   "execution_count": null,
   "id": "f89ca235",
   "metadata": {},
   "outputs": [],
   "source": [
    "mean.set_index(\"time\")[\"2% annualized\"].cumsum().plot(grid=True, label=\"2% annualized\")\n",
    "mean.set_index(\"time\")[\"1% annualized\"].cumsum().plot(grid=True, label=\"1% annualized\")"
   ]
  },
  {
   "cell_type": "markdown",
   "id": "97f41f0f",
   "metadata": {},
   "source": [
    "# REAL STUF"
   ]
  },
  {
   "cell_type": "code",
   "execution_count": null,
   "id": "2adaece1",
   "metadata": {},
   "outputs": [],
   "source": [
    "y = pd.DataFrame(pd.date_range('2022-03-26', '2022-12-31'))\n",
    "\n",
    "y.columns = [\"date\"]\n",
    "\n",
    "y[\"future_tvl_bull\"] = (1+np.arange(1, y.shape[0]+1) * 0.025)*1.2e8*(1+np.sin(y.index/8)*0.10)\n",
    "y[\"future_tvl_realistic\"] = (1+np.arange(1, y.shape[0]+1) * 0.007)*1.2e8*(1+np.sin(y.index/10)*0.10)\n",
    "y[\"future_tvl_bear\"] = (1+np.arange(1, y.shape[0]+1) * 0.002)*1.2e8*(1+np.sin(y.index/10)*0.10)\n",
    "\n",
    "y = y.set_index(\"date\")\n",
    "plt.xticks(rotation=45)\n",
    "plt.plot(y.future_tvl_bull)\n",
    "plt.plot(y.future_tvl_realistic)\n",
    "plt.plot(y.future_tvl_bear)"
   ]
  },
  {
   "cell_type": "code",
   "execution_count": null,
   "id": "d2699b69",
   "metadata": {},
   "outputs": [],
   "source": [
    "zz[\"date\"] = pd.to_datetime(zz.date)#.dt.strftime(\"%Y-%m-%d\")"
   ]
  },
  {
   "cell_type": "code",
   "execution_count": null,
   "id": "ccfafa8f",
   "metadata": {},
   "outputs": [],
   "source": [
    "qp = zz.groupby([\"date\", \"FeeType\"])[[\"usdc\"]].sum().unstack(1).fillna(0).cumsum().reset_index()\n",
    "qp.columns = qp.columns.get_level_values(0)\n",
    "\n",
    "qp.columns = [\"date\", \"performance_fee\", \"withdrawal_fee\"]"
   ]
  },
  {
   "cell_type": "code",
   "execution_count": null,
   "id": "2d9c601b",
   "metadata": {},
   "outputs": [],
   "source": [
    "ff.groupby(\"time\").tvl.mean()"
   ]
  },
  {
   "cell_type": "code",
   "execution_count": null,
   "id": "ddc9fa95",
   "metadata": {},
   "outputs": [],
   "source": [
    "ax = plt.figure().gca()\n",
    "ff[\"time\"] = pd.to_datetime(ff.time)\n",
    "ff.groupby(\"time\").tvl.mean().plot(grid=True, title=\"Friktion TVL in USDC by Time\", ax=ax, label=\"Friktion Historical TVL\", color='C0')\n",
    "\n",
    "y.future_tvl_bull.plot(ax=ax, label=\"hypothetical bull case\", linestyle='dashed', alpha=0.9, color='green')\n",
    "y.future_tvl_realistic.plot(ax=ax, label=\"target case\", linestyle='dashed', c='C0')\n",
    "y.future_tvl_bear.plot(ax=ax, label=\"hypothetical bear case\", linestyle='dashed', alpha=0.9, color='red')\n",
    "\n",
    "plt.legend()\n",
    "plt.grid(True)\n",
    "ax.yaxis.set_major_formatter(formatter)"
   ]
  },
  {
   "cell_type": "code",
   "execution_count": null,
   "id": "fe05e615",
   "metadata": {},
   "outputs": [],
   "source": [
    "ax = plt.figure().gca()\n",
    "\n",
    "qp.set_index(\"date\")[[\"withdrawal_fee\"]].plot(grid=True, ax=ax)\n",
    "plt.xticks(rotation=30)\n",
    "ax.set_title(\"USDC value of Friktion Withdrawal Fees by Date\")\n",
    "\n",
    "ax.plot(y.future_tvl_bear.cumsum()*churn_rate + qp.withdrawal_fee.iloc[-1], label=\"bear case withdrawal fees\", linestyle='dashed', color='red')\n",
    "ax.plot(y.future_tvl_realistic.cumsum()*churn_rate + qp.withdrawal_fee.iloc[-1], label=\"target withdrawal fees\", linestyle='dashed', color='C0')\n",
    "ax.plot(y.future_tvl_bull.cumsum()*churn_rate + qp.withdrawal_fee.iloc[-1], label=\"bull case withdrawal fees\", linestyle='dashed', color='green')\n",
    "\n",
    "plt.legend()\n",
    "\n",
    "ax.yaxis.set_major_formatter(formatter2)\n",
    "\n",
    "total_fees_bear = y.future_tvl_bear.cumsum()*perf_fee_rate + qp.performance_fee.iloc[-1]+y.future_tvl_bear.cumsum()*churn_rate + qp.withdrawal_fee.iloc[-1]\n",
    "total_fees_target = y.future_tvl_realistic.cumsum()*perf_fee_rate + qp.performance_fee.iloc[-1]+y.future_tvl_realistic.cumsum()*churn_rate + qp.withdrawal_fee.iloc[-1]\n",
    "total_fees_bull = y.future_tvl_bull.cumsum()*perf_fee_rate + qp.performance_fee.iloc[-1]+y.future_tvl_bull.cumsum()*churn_rate + qp.withdrawal_fee.iloc[-1]"
   ]
  },
  {
   "cell_type": "code",
   "execution_count": null,
   "id": "25f5b523",
   "metadata": {},
   "outputs": [],
   "source": [
    "ax = plt.figure().gca()\n",
    "\n",
    "qp.set_index(\"date\")[[\"performance_fee\"]].plot(grid=True, ax=ax, label=\"realized performance fees\")\n",
    "plt.xticks(rotation=30)\n",
    "ax.set_title(\"USDC value of Friktion Performance Fees by Date\")\n",
    "\n",
    "ax.plot(total_fees_bear, label=\"bear case performance fees\", linestyle='dashed', color='red')\n",
    "ax.plot(total_fees_target, label=\"target case performance fees\", linestyle='dashed', color='C0')\n",
    "ax.plot(total_fees_bull, label=\"bull case performance fees\", linestyle='dashed', color='green')\n",
    "\n",
    "plt.legend()\n",
    "\n",
    "ax.yaxis.set_major_formatter(formatter)"
   ]
  },
  {
   "cell_type": "code",
   "execution_count": null,
   "id": "c6c09d3f",
   "metadata": {},
   "outputs": [],
   "source": [
    "total_fees = qp.set_index(\"date\")[\"performance_fee\"]+qp.set_index(\"date\")[\"withdrawal_fee\"]\n",
    "\n",
    "ax = plt.figure().gca()\n",
    "total_fees.plot(grid=True, ax=ax, label=\"realized performance fees\")\n",
    "plt.xticks(rotation=30)\n",
    "ax.set_title(\"USDC value of Friktion Total Fees by Date\")\n",
    "\n",
    "ax.plot(y.future_tvl_bear.cumsum()*perf_fee_rate + qp.performance_fee.iloc[-1], label=\"bear case total fees\", linestyle='dashed', color='red')\n",
    "ax.plot(y.future_tvl_realistic.cumsum()*perf_fee_rate + qp.performance_fee.iloc[-1], label=\"target case total fees\", linestyle='dashed', color='C0')\n",
    "ax.plot(y.future_tvl_bull.cumsum()*perf_fee_rate + qp.performance_fee.iloc[-1], label=\"bull case total fees\", linestyle='dashed', color='green')\n",
    "\n",
    "plt.legend()\n",
    "\n",
    "ax.yaxis.set_major_formatter(formatter)"
   ]
  },
  {
   "cell_type": "markdown",
   "id": "7f2c0f00",
   "metadata": {},
   "source": [
    "# V2"
   ]
  },
  {
   "cell_type": "code",
   "execution_count": null,
   "id": "65867559",
   "metadata": {},
   "outputs": [],
   "source": [
    "tvl = ff.groupby(\"time\").tvl.mean().reset_index()"
   ]
  },
  {
   "cell_type": "code",
   "execution_count": null,
   "id": "37399f69",
   "metadata": {},
   "outputs": [],
   "source": [
    "tvl"
   ]
  },
  {
   "cell_type": "code",
   "execution_count": null,
   "id": "28a715c1",
   "metadata": {},
   "outputs": [],
   "source": [
    "tvl.groupby(pd.Grouper(key=\"time\", freq=\"1W\")).tvl.mean().sum()"
   ]
  },
  {
   "cell_type": "code",
   "execution_count": null,
   "id": "6b794258",
   "metadata": {},
   "outputs": [],
   "source": [
    "y = pd.DataFrame(pd.date_range('2022-03-26', '2022-12-31'))\n",
    "\n",
    "y.columns = [\"date\"]\n",
    "y[\"future_tvl_bull\"] = (1+np.arange(1, y.shape[0]+1) * 0.025)*1.2e8*(1+np.sin(y.index/8)*0.10)\n",
    "y[\"future_tvl_realistic\"] = (1+np.arange(1, y.shape[0]+1) * 0.007)*1.2e8*(1+np.sin(y.index/10)*0.10)\n",
    "y[\"future_tvl_bear\"] = (1+np.arange(1, y.shape[0]+1) * 0.002)*1.2e8*(1+np.sin(y.index/10)*0.10)"
   ]
  },
  {
   "cell_type": "code",
   "execution_count": null,
   "id": "85a84375",
   "metadata": {},
   "outputs": [],
   "source": [
    "FEE_BPS = 0.0005"
   ]
  },
  {
   "cell_type": "code",
   "execution_count": null,
   "id": "2f4c9e52",
   "metadata": {
    "scrolled": true
   },
   "outputs": [],
   "source": [
    "ax = plt.figure().gca()\n",
    "\n",
    "inertia_revenue = (y.groupby(pd.Grouper(key=\"date\", freq=\"D\"))[[\"future_tvl_bull\", \"future_tvl_realistic\", \"future_tvl_bear\"]].mean()*FEE_BPS/7).cumsum()\n",
    "inertia_revenue.plot(grid=True, title=\"Inertia Fees at {} Bps\".format(FEE_BPS), ax=ax)\n",
    "\n",
    "ax.yaxis.set_major_formatter(formatter)"
   ]
  },
  {
   "cell_type": "code",
   "execution_count": null,
   "id": "8d143adf",
   "metadata": {},
   "outputs": [],
   "source": [
    "y=y.set_index(\"date\")"
   ]
  },
  {
   "cell_type": "code",
   "execution_count": null,
   "id": "8338bc90",
   "metadata": {},
   "outputs": [],
   "source": [
    "ax = plt.figure().gca()\n",
    "\n",
    "qp.set_index(\"date\")[[\"performance_fee\"]].plot(grid=True, ax=ax, label=\"realized performance fees\")\n",
    "plt.xticks(rotation=30)\n",
    "ax.set_title(\"USDC value of Friktion Total Fees by Date\")\n",
    "\n",
    "ax.plot(y.future_tvl_bear.cumsum()*perf_fee_rate + qp.performance_fee.iloc[-1], label=\"bear case total fees\", linestyle='dashed', color='red')\n",
    "ax.plot(y.future_tvl_realistic.cumsum()*perf_fee_rate + qp.performance_fee.iloc[-1], label=\"target case total fees\", linestyle='dashed', color='C0')\n",
    "ax.plot(y.future_tvl_bull.cumsum()*perf_fee_rate + qp.performance_fee.iloc[-1], label=\"bull case total fees\", linestyle='dashed', color='green')\n",
    "\n",
    "plt.legend()\n",
    "\n",
    "ax.yaxis.set_major_formatter(formatter)"
   ]
  },
  {
   "cell_type": "code",
   "execution_count": null,
   "id": "1fcf92fb",
   "metadata": {},
   "outputs": [],
   "source": [
    "ax = plt.figure().gca()\n",
    "\n",
    "qp.set_index(\"date\")[[\"withdrawal_fee\"]].plot(grid=True, ax=ax)\n",
    "plt.xticks(rotation=30)\n",
    "ax.set_title(\"USDC value of Friktion Withdrawal Fees by Date\")\n",
    "\n",
    "ax.plot(y.future_tvl_bear.cumsum()*churn_rate + qp.withdrawal_fee.iloc[-1], label=\"bear case withdrawal fees\", linestyle='dashed', color='red')\n",
    "ax.plot(y.future_tvl_realistic.cumsum()*churn_rate + qp.withdrawal_fee.iloc[-1], label=\"target withdrawal fees\", linestyle='dashed', color='C0')\n",
    "ax.plot(y.future_tvl_bull.cumsum()*churn_rate + qp.withdrawal_fee.iloc[-1], label=\"bull case withdrawal fees\", linestyle='dashed', color='green')\n",
    "\n",
    "plt.legend()\n",
    "\n",
    "ax.yaxis.set_major_formatter(formatter2)\n",
    "\n",
    "total_fees_bear = y.future_tvl_bear.cumsum()*perf_fee_rate + qp.performance_fee.iloc[-1]+y.future_tvl_bear.cumsum()*churn_rate + qp.withdrawal_fee.iloc[-1]\n",
    "total_fees_target = y.future_tvl_realistic.cumsum()*perf_fee_rate + qp.performance_fee.iloc[-1]+y.future_tvl_realistic.cumsum()*churn_rate + qp.withdrawal_fee.iloc[-1]\n",
    "total_fees_bull = y.future_tvl_bull.cumsum()*perf_fee_rate + qp.performance_fee.iloc[-1]+y.future_tvl_bull.cumsum()*churn_rate + qp.withdrawal_fee.iloc[-1]"
   ]
  },
  {
   "cell_type": "code",
   "execution_count": null,
   "id": "f63eb295",
   "metadata": {},
   "outputs": [],
   "source": [
    "target_withdrawal = y.future_tvl_realistic.cumsum()*churn_rate + qp.withdrawal_fee.iloc[-1]\n",
    "\n",
    "target_performance = y.future_tvl_realistic.cumsum()*perf_fee_rate + qp.performance_fee.iloc[-1]\n",
    "\n",
    "ax = plt.figure().gca()\n",
    "\n",
    "total_fees.plot(grid=True, ax=ax, label=\"Realized Fees\")\n",
    "\n",
    "_ = ax.stackplot(target_withdrawal.index, target_withdrawal, \n",
    "                 target_performance, colors=[\"#e74c3c\", \"#2ecc71\"],labels=[\"Target Projected Withdrawal Fees\", \"Target Projected Performance Fees\"])\n",
    "plt.grid(True)\n",
    "plt.xticks(rotation=45)\n",
    "\n",
    "plt.legend(loc='upper left')\n",
    "\n",
    "plt.title(\"Friktion Revenue Breakdown Target Case\")\n",
    "\n",
    "ax.yaxis.set_major_formatter(formatter)"
   ]
  },
  {
   "cell_type": "code",
   "execution_count": null,
   "id": "0058e460",
   "metadata": {},
   "outputs": [],
   "source": [
    "ax = plt.figure().gca()\n",
    "total_fees.plot(grid=True, ax=ax, label=\"Realized Fees\")\n",
    "ax.fill_between(total_fees.index, total_fees, color='#539ecd')\n",
    "\n",
    "_ = ax.stackplot(target_withdrawal.index, target_withdrawal, target_performance, inertia_revenue.future_tvl_realistic,\n",
    "                 colors=[\"#e74c3c\", \"#2ecc71\", \"#ba81c7\"],labels=[\"Target Projected Withdrawal Fees\", \"Target Projected Performance Fees\", \"Inertia Fees at 5bps\"])\n",
    "plt.grid(True)\n",
    "plt.xticks(rotation=45)\n",
    "\n",
    "plt.legend(loc='upper left')\n",
    "\n",
    "plt.title(\"Friktion Revenue Breakdown Target Case\")\n",
    "\n",
    "ax.yaxis.set_major_formatter(formatter)"
   ]
  },
  {
   "cell_type": "code",
   "execution_count": null,
   "id": "0a23228d",
   "metadata": {},
   "outputs": [],
   "source": [
    "bull_withdrawal = y.future_tvl_bull.cumsum()*churn_rate + qp.withdrawal_fee.iloc[-1]\n",
    "\n",
    "bull_performance = y.future_tvl_bull.cumsum()*perf_fee_rate + qp.performance_fee.iloc[-1]\n",
    "\n",
    "ax = plt.figure().gca()\n",
    "\n",
    "total_fees.plot(grid=True, ax=ax, label=\"Realized Fees\")\n",
    "ax.fill_between(total_fees.index, total_fees, color='#539ecd')\n",
    "\n",
    "_ = ax.stackplot(bull_withdrawal.index, bull_withdrawal, \n",
    "                 bull_performance, colors=[\"#e74c3c\", \"#2ecc71\"],labels=[\"Bull Projected Withdrawal Fees\", \"bull Projected Performance Fees\"])\n",
    "plt.grid(True)\n",
    "plt.xticks(rotation=45)\n",
    "\n",
    "plt.legend(loc='upper left')\n",
    "\n",
    "plt.title(\"Friktion Revenue Breakdown Bull Case\")\n",
    "\n",
    "ax.yaxis.set_major_formatter(formatter)"
   ]
  },
  {
   "cell_type": "code",
   "execution_count": null,
   "id": "e161824b",
   "metadata": {},
   "outputs": [],
   "source": [
    "ax = plt.figure().gca()\n",
    "total_fees.plot(grid=True, ax=ax, label=\"Realized Fees\")\n",
    "ax.fill_between(total_fees.index, total_fees, color='#539ecd')\n",
    "\n",
    "_ = ax.stackplot(bull_withdrawal.index, bull_withdrawal, bull_performance, inertia_revenue.future_tvl_bull,\n",
    "                 colors=[\"#e74c3c\", \"#2ecc71\", \"#ba81c7\"],labels=[\"Bull Projected Withdrawal Fees\", \"Bull Projected Performance Fees\", \"Inertia Fees at 5bps\"])\n",
    "plt.grid(True)\n",
    "plt.xticks(rotation=45)\n",
    "\n",
    "plt.legend(loc='upper left')\n",
    "\n",
    "plt.title(\"Friktion Revenue Breakdown Bull Case\")\n",
    "\n",
    "ax.yaxis.set_major_formatter(formatter)"
   ]
  },
  {
   "cell_type": "code",
   "execution_count": null,
   "id": "3a3ca32c",
   "metadata": {},
   "outputs": [],
   "source": [
    "bear_withdrawal = y.future_tvl_bear.cumsum()*churn_rate + qp.withdrawal_fee.iloc[-1]\n",
    "\n",
    "bear_performance = y.future_tvl_bear.cumsum()*perf_fee_rate + qp.performance_fee.iloc[-1]\n",
    "\n",
    "ax = plt.figure().gca()\n",
    "\n",
    "total_fees.plot(grid=True, ax=ax, label=\"Realized Fees\")\n",
    "ax.fill_between(total_fees.index, total_fees, color='#539ecd')\n",
    "\n",
    "_ = ax.stackplot(bear_withdrawal.index, bear_withdrawal, \n",
    "                 bear_performance, colors=[\"#e74c3c\", \"#2ecc71\"],labels=[\"Bear Projected Withdrawal Fees\", \"bear Projected Performance Fees\"])\n",
    "plt.grid(True)\n",
    "plt.xticks(rotation=45)\n",
    "\n",
    "plt.legend(loc='upper left')\n",
    "\n",
    "plt.title(\"Friktion Revenue Breakdown bear Case\")\n",
    "\n",
    "ax.yaxis.set_major_formatter(formatter)"
   ]
  },
  {
   "cell_type": "code",
   "execution_count": null,
   "id": "fd4774e5",
   "metadata": {},
   "outputs": [],
   "source": [
    "ax = plt.figure().gca()\n",
    "total_fees.plot(grid=True, ax=ax, label=\"Realized Fees\")\n",
    "ax.fill_between(total_fees.index, total_fees, color='#539ecd')\n",
    "\n",
    "_ = ax.stackplot(bear_withdrawal.index, bear_withdrawal, bear_performance, inertia_revenue.future_tvl_bear,\n",
    "                 colors=[\"#e74c3c\", \"#2ecc71\", \"#ba81c7\"],labels=[\"Bear Projected Withdrawal Fees\", \"Bear Projected Performance Fees\", \"Inertia Fees at 5bps\"])\n",
    "plt.grid(True)\n",
    "plt.xticks(rotation=45)\n",
    "\n",
    "plt.legend(loc='upper left')\n",
    "\n",
    "plt.title(\"Friktion Revenue Breakdown Bear Case\")\n",
    "\n",
    "ax.yaxis.set_major_formatter(formatter)"
   ]
  },
  {
   "cell_type": "markdown",
   "id": "92415faf",
   "metadata": {},
   "source": [
    "# ENTROPY"
   ]
  },
  {
   "cell_type": "code",
   "execution_count": null,
   "id": "031e3ab5",
   "metadata": {},
   "outputs": [],
   "source": [
    "# "
   ]
  },
  {
   "cell_type": "code",
   "execution_count": 32,
   "id": "e34f8dab",
   "metadata": {},
   "outputs": [],
   "source": [
    "deribit_avg_options_volume = 1e9"
   ]
  },
  {
   "cell_type": "code",
   "execution_count": 33,
   "id": "375ebed7",
   "metadata": {},
   "outputs": [],
   "source": [
    "entropy_market_share = 0.02"
   ]
  },
  {
   "cell_type": "code",
   "execution_count": 34,
   "id": "5f83ddb3",
   "metadata": {},
   "outputs": [],
   "source": [
    "entropy_daily_volume = entropy_market_share*deribit_avg_options_volume"
   ]
  },
  {
   "cell_type": "code",
   "execution_count": 35,
   "id": "4059d13c",
   "metadata": {},
   "outputs": [
    {
     "data": {
      "text/plain": [
       "20000000.0"
      ]
     },
     "execution_count": 35,
     "metadata": {},
     "output_type": "execute_result"
    }
   ],
   "source": [
    "entropy_daily_volume"
   ]
  },
  {
   "cell_type": "code",
   "execution_count": 36,
   "id": "0cd4b30b",
   "metadata": {},
   "outputs": [],
   "source": [
    "ENTROPY_FEE = 0.005"
   ]
  },
  {
   "cell_type": "code",
   "execution_count": 37,
   "id": "a27e12a3",
   "metadata": {},
   "outputs": [
    {
     "data": {
      "text/plain": [
       "100000.0"
      ]
     },
     "execution_count": 37,
     "metadata": {},
     "output_type": "execute_result"
    }
   ],
   "source": [
    "ENTROPY_FEE*entropy_daily_volume"
   ]
  },
  {
   "cell_type": "code",
   "execution_count": 38,
   "id": "90ea977b",
   "metadata": {},
   "outputs": [],
   "source": [
    "yyy = y.reset_index()\n",
    "\n",
    "hypothetical_entropy_market_share = (1+np.arange(1, yyy.shape[0]+1) * 0.6)*0.0001*(1+np.sin(yyy.index/7)*0.2)\n"
   ]
  },
  {
   "cell_type": "code",
   "execution_count": 39,
   "id": "fe6c54f1",
   "metadata": {},
   "outputs": [],
   "source": [
    "ms = pd.DataFrame(hypothetical_entropy_market_share)\n",
    "\n",
    "ms.index = yyy.date\n",
    "\n",
    "ms.columns=[\"entropy_market_share\"]"
   ]
  },
  {
   "cell_type": "code",
   "execution_count": 40,
   "id": "f5ecae94",
   "metadata": {},
   "outputs": [
    {
     "data": {
      "image/png": "[encoded data removed]",
      "text/plain": [
       "<Figure size 432x288 with 1 Axes>"
      ]
     },
     "metadata": {
      "needs_background": "light"
     },
     "output_type": "display_data"
    }
   ],
   "source": [
    "ax=plt.figure().gca()\n",
    "(ms.entropy_market_share).plot(title=\"Entropy Projected Market Share as a pct of Deribit\", grid=True, ax=ax)\n",
    "\n",
    "ax.yaxis.set_major_formatter(FuncFormatter(lambda y, _: '{:.1%}'.format(y))) \n"
   ]
  },
  {
   "cell_type": "code",
   "execution_count": 41,
   "id": "6ed223c5",
   "metadata": {
    "scrolled": true
   },
   "outputs": [
    {
     "data": {
      "image/png": "[encoded data removed]",
      "text/plain": [
       "<Figure size 432x288 with 1 Axes>"
      ]
     },
     "metadata": {
      "needs_background": "light"
     },
     "output_type": "display_data"
    }
   ],
   "source": [
    "qq = ms*deribit_avg_options_volume\n",
    "qq.columns=[\"Daily Volume\"]\n",
    "\n",
    "ax = plt.figure().gca()\n",
    "\n",
    "qq.plot(grid=True, ax=ax)\n",
    "plt.title(\"Projected Entropy Average Daily Traded Volume\")\n",
    "ax.yaxis.set_major_formatter(formatter)"
   ]
  },
  {
   "cell_type": "code",
   "execution_count": 46,
   "id": "df55b779",
   "metadata": {},
   "outputs": [
    {
     "data": {
      "text/plain": [
       "array([<AxesSubplot:>, <AxesSubplot:>], dtype=object)"
      ]
     },
     "execution_count": 46,
     "metadata": {},
     "output_type": "execute_result"
    },
    {
     "data": {
      "image/png": "[encoded data removed]",
      "text/plain": [
       "<Figure size 432x288 with 2 Axes>"
      ]
     },
     "metadata": {
      "needs_background": "light"
     },
     "output_type": "display_data"
    }
   ],
   "source": [
    "plt.figure().subplots(1, 2)"
   ]
  },
  {
   "cell_type": "code",
   "execution_count": 59,
   "id": "fd6532de",
   "metadata": {},
   "outputs": [
    {
     "data": {
      "text/html": [
       "<div>\n",
       "<style scoped>\n",
       "    .dataframe tbody tr th:only-of-type {\n",
       "        vertical-align: middle;\n",
       "    }\n",
       "\n",
       "    .dataframe tbody tr th {\n",
       "        vertical-align: top;\n",
       "    }\n",
       "\n",
       "    .dataframe thead th {\n",
       "        text-align: right;\n",
       "    }\n",
       "</style>\n",
       "<table border=\"1\" class=\"dataframe\">\n",
       "  <thead>\n",
       "    <tr style=\"text-align: right;\">\n",
       "      <th></th>\n",
       "      <th>Daily Volume</th>\n",
       "    </tr>\n",
       "    <tr>\n",
       "      <th>date</th>\n",
       "      <th></th>\n",
       "    </tr>\n",
       "  </thead>\n",
       "  <tbody>\n",
       "    <tr>\n",
       "      <th>2022-03-26</th>\n",
       "      <td>800.000000</td>\n",
       "    </tr>\n",
       "    <tr>\n",
       "      <th>2022-03-27</th>\n",
       "      <td>1131.321781</td>\n",
       "    </tr>\n",
       "    <tr>\n",
       "      <th>2022-03-28</th>\n",
       "      <td>1478.915999</td>\n",
       "    </tr>\n",
       "    <tr>\n",
       "      <th>2022-03-29</th>\n",
       "      <td>1841.294431</td>\n",
       "    </tr>\n",
       "    <tr>\n",
       "      <th>2022-03-30</th>\n",
       "      <td>2216.333685</td>\n",
       "    </tr>\n",
       "    <tr>\n",
       "      <th>...</th>\n",
       "      <td>...</td>\n",
       "    </tr>\n",
       "    <tr>\n",
       "      <th>2022-12-27</th>\n",
       "      <td>100109.986242</td>\n",
       "    </tr>\n",
       "    <tr>\n",
       "      <th>2022-12-28</th>\n",
       "      <td>99922.988351</td>\n",
       "    </tr>\n",
       "    <tr>\n",
       "      <th>2022-12-29</th>\n",
       "      <td>99404.472785</td>\n",
       "    </tr>\n",
       "    <tr>\n",
       "      <th>2022-12-30</th>\n",
       "      <td>98568.844607</td>\n",
       "    </tr>\n",
       "    <tr>\n",
       "      <th>2022-12-31</th>\n",
       "      <td>97437.119202</td>\n",
       "    </tr>\n",
       "  </tbody>\n",
       "</table>\n",
       "<p>281 rows × 1 columns</p>\n",
       "</div>"
      ],
      "text/plain": [
       "             Daily Volume\n",
       "date                     \n",
       "2022-03-26     800.000000\n",
       "2022-03-27    1131.321781\n",
       "2022-03-28    1478.915999\n",
       "2022-03-29    1841.294431\n",
       "2022-03-30    2216.333685\n",
       "...                   ...\n",
       "2022-12-27  100109.986242\n",
       "2022-12-28   99922.988351\n",
       "2022-12-29   99404.472785\n",
       "2022-12-30   98568.844607\n",
       "2022-12-31   97437.119202\n",
       "\n",
       "[281 rows x 1 columns]"
      ]
     },
     "execution_count": 59,
     "metadata": {},
     "output_type": "execute_result"
    }
   ],
   "source": [
    "(qq*ENTROPY_FEE)"
   ]
  },
  {
   "cell_type": "code",
   "execution_count": 74,
   "id": "193c0126",
   "metadata": {},
   "outputs": [
    {
     "data": {
      "text/plain": [
       "date\n",
       "2022-03-26    0.000160\n",
       "2022-03-27    0.000226\n",
       "2022-03-28    0.000296\n",
       "2022-03-29    0.000368\n",
       "2022-03-30    0.000443\n",
       "                ...   \n",
       "2022-12-27    0.020022\n",
       "2022-12-28    0.019985\n",
       "2022-12-29    0.019881\n",
       "2022-12-30    0.019714\n",
       "2022-12-31    0.019487\n",
       "Name: entropy_market_share, Length: 281, dtype: float64"
      ]
     },
     "execution_count": 74,
     "metadata": {},
     "output_type": "execute_result"
    }
   ],
   "source": [
    "(ms.entropy_market_share)"
   ]
  },
  {
   "cell_type": "code",
   "execution_count": 100,
   "id": "e1d38b74",
   "metadata": {},
   "outputs": [
    {
     "data": {
      "image/png": "[encoded data removed]",
      "text/plain": [
       "<Figure size 432x288 with 2 Axes>"
      ]
     },
     "metadata": {
      "needs_background": "light"
     },
     "output_type": "display_data"
    }
   ],
   "source": [
    "ax1 = plt.figure().gca()\n",
    "\n",
    "ax2 = ax1.twinx()\n",
    "mktshr = (ms.entropy_market_share)\n",
    "mktshr.columns = [\"Mkt Share\"]\n",
    "mktshr.plot(title=\"Entropy Projected Market Share as a pct of Deribit\", ax=ax2, label=\"Market Share\")\n",
    "ax1.set_ylabel(\"Cumulative Fees\")\n",
    "ax2.set_title(\"Projected Entropy Cumulative Fees\")\n",
    "# ax1.yaxis.set_major_formatter(formatter2)\n",
    "ax2.legend(loc='lower right')\n",
    "\n",
    "\n",
    "fuck12 = (qq*ENTROPY_FEE).cumsum()\n",
    "fuck12.columns = [\"Cumulative Fees\"]\n",
    "fuck12.plot(grid=True, ax=ax1, color='red', label=\"Cumulative Fees\", alpha=0.5)\n",
    "ax1.fill_between(fuck12.index, 0, fuck12[\"Cumulative Fees\"].values, color='red', alpha=0.3)\n",
    "\n",
    "ax\n",
    "ax1.set_title(\"Projected Entropy Cumulative Fees\")\n",
    "ax2.set_ylabel(\"Mkt Share of Deribit Options\")\n",
    "ax1.yaxis.set_major_formatter(formatter)\n"
   ]
  },
  {
   "cell_type": "code",
   "execution_count": 85,
   "id": "14507cc2",
   "metadata": {},
   "outputs": [
    {
     "data": {
      "text/html": [
       "<div>\n",
       "<style scoped>\n",
       "    .dataframe tbody tr th:only-of-type {\n",
       "        vertical-align: middle;\n",
       "    }\n",
       "\n",
       "    .dataframe tbody tr th {\n",
       "        vertical-align: top;\n",
       "    }\n",
       "\n",
       "    .dataframe thead th {\n",
       "        text-align: right;\n",
       "    }\n",
       "</style>\n",
       "<table border=\"1\" class=\"dataframe\">\n",
       "  <thead>\n",
       "    <tr style=\"text-align: right;\">\n",
       "      <th></th>\n",
       "      <th>Cumulative Fees</th>\n",
       "    </tr>\n",
       "    <tr>\n",
       "      <th>date</th>\n",
       "      <th></th>\n",
       "    </tr>\n",
       "  </thead>\n",
       "  <tbody>\n",
       "    <tr>\n",
       "      <th>2022-03-26</th>\n",
       "      <td>8.000000e+02</td>\n",
       "    </tr>\n",
       "    <tr>\n",
       "      <th>2022-03-27</th>\n",
       "      <td>1.931322e+03</td>\n",
       "    </tr>\n",
       "    <tr>\n",
       "      <th>2022-03-28</th>\n",
       "      <td>3.410238e+03</td>\n",
       "    </tr>\n",
       "    <tr>\n",
       "      <th>2022-03-29</th>\n",
       "      <td>5.251532e+03</td>\n",
       "    </tr>\n",
       "    <tr>\n",
       "      <th>2022-03-30</th>\n",
       "      <td>7.467866e+03</td>\n",
       "    </tr>\n",
       "    <tr>\n",
       "      <th>...</th>\n",
       "      <td>...</td>\n",
       "    </tr>\n",
       "    <tr>\n",
       "      <th>2022-12-27</th>\n",
       "      <td>1.172014e+07</td>\n",
       "    </tr>\n",
       "    <tr>\n",
       "      <th>2022-12-28</th>\n",
       "      <td>1.182006e+07</td>\n",
       "    </tr>\n",
       "    <tr>\n",
       "      <th>2022-12-29</th>\n",
       "      <td>1.191947e+07</td>\n",
       "    </tr>\n",
       "    <tr>\n",
       "      <th>2022-12-30</th>\n",
       "      <td>1.201804e+07</td>\n",
       "    </tr>\n",
       "    <tr>\n",
       "      <th>2022-12-31</th>\n",
       "      <td>1.211548e+07</td>\n",
       "    </tr>\n",
       "  </tbody>\n",
       "</table>\n",
       "<p>281 rows × 1 columns</p>\n",
       "</div>"
      ],
      "text/plain": [
       "            Cumulative Fees\n",
       "date                       \n",
       "2022-03-26     8.000000e+02\n",
       "2022-03-27     1.931322e+03\n",
       "2022-03-28     3.410238e+03\n",
       "2022-03-29     5.251532e+03\n",
       "2022-03-30     7.467866e+03\n",
       "...                     ...\n",
       "2022-12-27     1.172014e+07\n",
       "2022-12-28     1.182006e+07\n",
       "2022-12-29     1.191947e+07\n",
       "2022-12-30     1.201804e+07\n",
       "2022-12-31     1.211548e+07\n",
       "\n",
       "[281 rows x 1 columns]"
      ]
     },
     "execution_count": 85,
     "metadata": {},
     "output_type": "execute_result"
    }
   ],
   "source": [
    "fuck12"
   ]
  },
  {
   "cell_type": "code",
   "execution_count": null,
   "id": "93c3dd4c",
   "metadata": {},
   "outputs": [],
   "source": []
  },
  {
   "cell_type": "code",
   "execution_count": null,
   "id": "ea99cd25",
   "metadata": {},
   "outputs": [],
   "source": []
  }
 ],
 "metadata": {
  "kernelspec": {
   "display_name": "Python 3 (ipykernel)",
   "language": "python",
   "name": "python3"
  },
  "language_info": {
   "codemirror_mode": {
    "name": "ipython",
    "version": 3
   },
   "file_extension": ".py",
   "mimetype": "text/x-python",
   "name": "python",
   "nbconvert_exporter": "python",
   "pygments_lexer": "ipython3",
   "version": "3.8.9"
  }
 },
 "nbformat": 4,
 "nbformat_minor": 5
}
