{
 "cells": [
  {
   "cell_type": "code",
   "execution_count": 2,
   "id": "c497fe60",
   "metadata": {},
   "outputs": [],
   "source": [
    "import pandas as pd\n",
    "import requests\n",
    "import numpy as np\n",
    "import json\n",
    "import datetime\n",
    "import matplotlib.pyplot as plt\n",
    "\n",
    "pd.set_option('display.max_colwidth', None)\n",
    "\n",
    "def run_query(query):  # A simple function to use requests.post to make the API call.\n",
    "    headers = {'X-API-KEY': 'BQYCaXaMZlqZrPCSQVsiJrKtxKRVcSe4'}\n",
    "    request = requests.post('https://graphql.bitquery.io/', json={'query': query}, headers=headers)\n",
    "    if request.status_code == 200:\n",
    "        return request.json()\n",
    "    else:\n",
    "        print(request.reason)\n",
    "        raise Exception('Query failed and return code is {}.{}'.format(request.status_code, query))"
   ]
  },
  {
   "cell_type": "code",
   "execution_count": 3,
   "id": "ef297410",
   "metadata": {},
   "outputs": [],
   "source": [
    "query_date = '\"2021-12-16\", \"{}\"'.format(str(datetime.date.today()))"
   ]
  },
  {
   "cell_type": "code",
   "execution_count": 4,
   "id": "a02caf3b",
   "metadata": {},
   "outputs": [],
   "source": [
    "signature_list = str([\"5UHdyopipQSkskE1bgZ4Vuz1KK6dNfXBNAViLsirotCjpefoFNAgsM8iErdBKFjrPUPNNwMbHy5V4it9Zj8jpAXX\"]*100)[1:-1]"
   ]
  },
  {
   "cell_type": "code",
   "execution_count": 5,
   "id": "9ba33069",
   "metadata": {
    "scrolled": true
   },
   "outputs": [],
   "source": [
    "signature_list = signature_list.replace(\"\\'\", \"\\\"\")"
   ]
  },
  {
   "cell_type": "code",
   "execution_count": 6,
   "id": "47f4c089",
   "metadata": {},
   "outputs": [],
   "source": [
    "query = \"\"\"query MyQuery {\n",
    "  solana {\n",
    "    instructions(\n",
    "      programId: {is: \"VoLT1mJz1sbnxwq5Fv2SXjdVDgPXrb9tJyC8WpMDkSp\"}\n",
    "      signature: {in: [\"\"\" + signature_list + \"\"\"]}\n",
    "      date: {between: [\"2022-03-01\", \"2022-03-25\"]}\n",
    "      success: {is: true}\n",
    "    ) {\n",
    "      log {\n",
    "        consumed\n",
    "        instruction\n",
    "        logs\n",
    "      }\n",
    "      transaction {\n",
    "        signature\n",
    "        success\n",
    "        feePayer\n",
    "      }\n",
    "      data {\n",
    "        base58\n",
    "        hex\n",
    "      }\n",
    "      block {\n",
    "        timestamp {\n",
    "          iso8601\n",
    "        }\n",
    "      }\n",
    "    }\n",
    "  }\n",
    "}\n",
    "\n",
    "\"\"\""
   ]
  },
  {
   "cell_type": "code",
   "execution_count": 68,
   "id": "3d0679a7",
   "metadata": {},
   "outputs": [],
   "source": [
    "result = run_query(query)\n",
    "# convert GraphQL json to pandas dataframe\n",
    "df = pd.json_normalize(result['data']['solana']['instructions'])"
   ]
  },
  {
   "cell_type": "code",
   "execution_count": 69,
   "id": "c1a115cc",
   "metadata": {},
   "outputs": [],
   "source": [
    "df = df.rename(columns={\"block.timestamp.iso8601\": \"date\", \"currency.symbol\": \"symbol\", \n",
    "                        \"transaction.signer\":\"signer\", \"currency.address\":\"cash\",\n",
    "                        \"receiver.address\":\"receiver\", \"sender.address\":\"sender\", \"transaction.signature\": \"tx_id\"})"
   ]
  },
  {
   "cell_type": "code",
   "execution_count": 70,
   "id": "a2d86fce",
   "metadata": {},
   "outputs": [
    {
     "data": {
      "text/plain": [
       "log.instruction\n",
       "Withdraw    1\n",
       "Name: data.hex, dtype: int64"
      ]
     },
     "execution_count": 70,
     "metadata": {},
     "output_type": "execute_result"
    }
   ],
   "source": [
    "df.groupby(\"log.instruction\")[\"data.hex\"].count()"
   ]
  },
  {
   "cell_type": "code",
   "execution_count": 71,
   "id": "4d433247",
   "metadata": {
    "scrolled": true
   },
   "outputs": [
    {
     "data": {
      "text/html": [
       "<div>\n",
       "<style scoped>\n",
       "    .dataframe tbody tr th:only-of-type {\n",
       "        vertical-align: middle;\n",
       "    }\n",
       "\n",
       "    .dataframe tbody tr th {\n",
       "        vertical-align: top;\n",
       "    }\n",
       "\n",
       "    .dataframe thead th {\n",
       "        text-align: right;\n",
       "    }\n",
       "</style>\n",
       "<table border=\"1\" class=\"dataframe\">\n",
       "  <thead>\n",
       "    <tr style=\"text-align: right;\">\n",
       "      <th></th>\n",
       "      <th>log.consumed</th>\n",
       "      <th>log.instruction</th>\n",
       "      <th>log.logs</th>\n",
       "      <th>tx_id</th>\n",
       "      <th>transaction.success</th>\n",
       "      <th>transaction.feePayer</th>\n",
       "      <th>data.base58</th>\n",
       "      <th>data.hex</th>\n",
       "    </tr>\n",
       "  </thead>\n",
       "  <tbody>\n",
       "    <tr>\n",
       "      <th>0</th>\n",
       "      <td>135080</td>\n",
       "      <td>Withdraw</td>\n",
       "      <td>Program VoLT1mJz1sbnxwq5Fv2SXjdVDgPXrb9tJyC8WpMDkSp invoke [1];Program log: Instruction: Withdraw;Program VoLT1mJz1sbnxwq5Fv2SXjdVDgPXrb9tJyC8WpMDkSp consumed 135080 of 200000 compute units;Program VoLT1mJz1sbnxwq5Fv2SXjdVDgPXrb9tJyC8WpMDkSp success</td>\n",
       "      <td>5UHdyopipQSkskE1bgZ4Vuz1KK6dNfXBNAViLsirotCjpefoFNAgsM8iErdBKFjrPUPNNwMbHy5V4it9Zj8jpAXX</td>\n",
       "      <td>True</td>\n",
       "      <td>2E3Kn91xgPwux9uxRgjJsKKpcZuQA23wiw2BeAWv6WaQ</td>\n",
       "      <td>PcB3tF1KHa1mxTi5gB1xbH</td>\n",
       "      <td>000001480dc09d0022a16d949c4612b7</td>\n",
       "    </tr>\n",
       "  </tbody>\n",
       "</table>\n",
       "</div>"
      ],
      "text/plain": [
       "  log.consumed log.instruction  \\\n",
       "0       135080        Withdraw   \n",
       "\n",
       "                                                                                                                                                                                                                                                    log.logs  \\\n",
       "0  Program VoLT1mJz1sbnxwq5Fv2SXjdVDgPXrb9tJyC8WpMDkSp invoke [1];Program log: Instruction: Withdraw;Program VoLT1mJz1sbnxwq5Fv2SXjdVDgPXrb9tJyC8WpMDkSp consumed 135080 of 200000 compute units;Program VoLT1mJz1sbnxwq5Fv2SXjdVDgPXrb9tJyC8WpMDkSp success   \n",
       "\n",
       "                                                                                      tx_id  \\\n",
       "0  5UHdyopipQSkskE1bgZ4Vuz1KK6dNfXBNAViLsirotCjpefoFNAgsM8iErdBKFjrPUPNNwMbHy5V4it9Zj8jpAXX   \n",
       "\n",
       "   transaction.success                          transaction.feePayer  \\\n",
       "0                 True  2E3Kn91xgPwux9uxRgjJsKKpcZuQA23wiw2BeAWv6WaQ   \n",
       "\n",
       "              data.base58                          data.hex  \n",
       "0  PcB3tF1KHa1mxTi5gB1xbH  000001480dc09d0022a16d949c4612b7  "
      ]
     },
     "execution_count": 71,
     "metadata": {},
     "output_type": "execute_result"
    }
   ],
   "source": [
    "df.loc[df[\"log.instruction\"]==\"Withdraw\"]"
   ]
  },
  {
   "cell_type": "code",
   "execution_count": 72,
   "id": "b2a9a818",
   "metadata": {
    "scrolled": true
   },
   "outputs": [
    {
     "data": {
      "text/html": [
       "<div>\n",
       "<style scoped>\n",
       "    .dataframe tbody tr th:only-of-type {\n",
       "        vertical-align: middle;\n",
       "    }\n",
       "\n",
       "    .dataframe tbody tr th {\n",
       "        vertical-align: top;\n",
       "    }\n",
       "\n",
       "    .dataframe thead th {\n",
       "        text-align: right;\n",
       "    }\n",
       "</style>\n",
       "<table border=\"1\" class=\"dataframe\">\n",
       "  <thead>\n",
       "    <tr style=\"text-align: right;\">\n",
       "      <th></th>\n",
       "      <th>log.consumed</th>\n",
       "      <th>log.instruction</th>\n",
       "      <th>log.logs</th>\n",
       "      <th>tx_id</th>\n",
       "      <th>transaction.success</th>\n",
       "      <th>transaction.feePayer</th>\n",
       "      <th>data.base58</th>\n",
       "      <th>data.hex</th>\n",
       "    </tr>\n",
       "  </thead>\n",
       "  <tbody>\n",
       "  </tbody>\n",
       "</table>\n",
       "</div>"
      ],
      "text/plain": [
       "Empty DataFrame\n",
       "Columns: [log.consumed, log.instruction, log.logs, tx_id, transaction.success, transaction.feePayer, data.base58, data.hex]\n",
       "Index: []"
      ]
     },
     "execution_count": 72,
     "metadata": {},
     "output_type": "execute_result"
    }
   ],
   "source": [
    "df.loc[df[\"log.instruction\"]==\"Deposit\"]"
   ]
  },
  {
   "cell_type": "code",
   "execution_count": null,
   "id": "6d8643eb",
   "metadata": {},
   "outputs": [],
   "source": []
  }
 ],
 "metadata": {
  "kernelspec": {
   "display_name": "Python 3 (ipykernel)",
   "language": "python",
   "name": "python3"
  },
  "language_info": {
   "codemirror_mode": {
    "name": "ipython",
    "version": 3
   },
   "file_extension": ".py",
   "mimetype": "text/x-python",
   "name": "python",
   "nbconvert_exporter": "python",
   "pygments_lexer": "ipython3",
   "version": "3.8.9"
  }
 },
 "nbformat": 4,
 "nbformat_minor": 5
}
