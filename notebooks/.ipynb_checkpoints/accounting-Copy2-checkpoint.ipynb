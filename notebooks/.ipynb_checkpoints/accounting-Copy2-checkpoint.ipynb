{
 "cells": [
  {
   "cell_type": "code",
   "execution_count": 1,
   "id": "0727d883",
   "metadata": {},
   "outputs": [],
   "source": [
    "\"\"\"\n",
    "Python script to scrape Friktion User Data from Bitquery GraphQL API.\n",
    "\n",
    "\"\"\"\n",
    "\n",
    "import json\n",
    "import requests\n",
    "import requests\n",
    "import traceback\n",
    "import time\n",
    "\n",
    "import numpy as np\n",
    "import pandas as pd\n",
    "from datetime import datetime\n",
    "import matplotlib.pyplot as plt\n",
    "from os.path import exists"
   ]
  },
  {
   "cell_type": "code",
   "execution_count": 56,
   "id": "84de3c29",
   "metadata": {},
   "outputs": [],
   "source": [
    "globalId = \"mainnet_income_call_luna\"\n",
    "\n",
    "users = pd.read_csv(\"luna_call_addresses.csv\")\n",
    "\n",
    "shareprice = pd.read_json(f\"../derived_timeseries/{globalId}_sharePricesByGlobalId.json\")\n",
    "\n",
    "shareprice[0]/=1000"
   ]
  },
  {
   "cell_type": "code",
   "execution_count": 168,
   "id": "518df100",
   "metadata": {},
   "outputs": [],
   "source": [
    "res = {}"
   ]
  },
  {
   "cell_type": "code",
   "execution_count": 235,
   "id": "21b8170a",
   "metadata": {},
   "outputs": [],
   "source": [
    "def calc_amount(addr):\n",
    "    success = False\n",
    "    while not success:\n",
    "        try:\n",
    "            query = \"\"\"https://solana-stream-dev-ztbl.ue1-eks-0.prod-czff.zettablock.dev/graphql?query={userTransactions(userAddress:\\\"%s\\\"){Hash,Amount,Decimal,InstructionAction,InstructionIndex,InnerIndex,UserAddress,Timestamp,UnixTime,CurrencyName,CurrencyAddress,SenderAddress,SenderTokenMint,ReceiverAddress,UserAction,GlobalID,VaultAuthority,ShareTokenMint,DepositTokenSymbol,DepositTokenCoingeckoId}}\"\"\"\n",
    "            x = pd.DataFrame(json.loads(requests.get(query%addr).content)[\"userTransactions\"])\n",
    "\n",
    "            success = True\n",
    "        except Exception as e:\n",
    "            print(\"Failed... sleeping for 5\")\n",
    "            time.sleep(5)\n",
    "            continue\n",
    "            \n",
    "    cutoff = 1651802400\n",
    "    if x.empty:\n",
    "        return\n",
    "\n",
    "    df = x.loc[x.UnixTime < cutoff].loc[x.GlobalID == globalId]\n",
    "\n",
    "    df = df.sort_values(\"UnixTime\")\n",
    "\n",
    "    shareprice[\"timestamp\"] = shareprice[0].astype('int')\n",
    "    shareprice[\"sharePrice\"] = shareprice[1]\n",
    "\n",
    "    asimov = pd.merge_asof(shareprice, df,  right_on=\"UnixTime\", left_on=\"timestamp\")\n",
    "\n",
    "    pos = asimov.query(\"UserAction=='Deposit'\")\n",
    "    pos = (pos.Amount/pos.sharePrice.fillna(1)/10**pos.Decimal).sum()\n",
    "\n",
    "    pos2 = asimov.query(\"UserAction == 'CancelPendingWithdrawal'\")\n",
    "    if pos2.empty:\n",
    "        pos2 = 0\n",
    "    else:\n",
    "        pos2 = (pos2.Amount/10**pos2.Decimal).sum()\n",
    "\n",
    "    neg = asimov.query(\"UserAction=='Withdraw'\")\n",
    "    if neg.empty:\n",
    "        neg = 0\n",
    "    else:\n",
    "        neg = (neg.Amount/10**neg.Decimal).sum()\n",
    "\n",
    "    neg2 = asimov.query(\"UserAction=='CancelPendingDeposit'\")\n",
    "    if neg2.empty:\n",
    "        neg2 = 0\n",
    "    else:\n",
    "        neg2= (neg2.Amount/neg2.sharePrice.fillna(1)/10**neg2.Decimal).sum()\n",
    "\n",
    "    amount = pos+pos2-neg-neg2\n",
    "    print(addr, amount)\n",
    "    res[addr] = amount"
   ]
  },
  {
   "cell_type": "code",
   "execution_count": null,
   "id": "e9c54ad4",
   "metadata": {},
   "outputs": [
    {
     "name": "stdout",
     "output_type": "stream",
     "text": [
      "CQikhhQ9STuD1S3A45DGvUAtCdSs5pw2YwJ8Mk6U9Fs7 167.31631615062557\n",
      "ETv2idiPjun5RReJNSLBd2RUMcYSBMqjFQxhVpLeDqkm 21.491051897144857\n",
      "GZYHrKmMPQLrmVGw7PRny7tP9wQZnFCC5vYfuaQiVTdh 47.90744675209186\n",
      "24CoH2cYsEPv3EpigCUjsqs26n1XeDrtHug4kwX7UZGD 1218.2926896510255\n",
      "8vRaeK5hp4T3n8vyzfeHkHaUYqsXRrWBiAh3DDBn9dqe 0.9521405428432465\n",
      "2TGaPLxbFVgp2T2UycxEexbifxGeKbQGDVfiy2xZnoMN 593.438153412824\n",
      "E3Jwp134uzpA2MyCadYmeqWAxK8zDBmcNXTvSRrVK7EN 131.3290480089553\n",
      "BxC131fG5TgGE1Wek7WtU4cTJcHWAs5cTmEmnx5BmQus 6.333300189471147\n",
      "BRNYKBf4wSfV8iZRa64fmjaerVUJjE38zR1Jmb8kQFkE 151.44655797817077\n",
      "HdaigHQuEdsR6LsXZbgT37ohcbs1ZxEtSR2cudpWzZ2S -37.24938678221915\n",
      "43o5vw2xsdC5qghLzrCrEB9z8Xz1JWFQU524nwAjFyKo 70.83693598616394\n",
      "FPcL3sFutPQcV4hSvwBrhz19oJ6MNeGsaSMSYP1o4Rfh 1257.7624134141672\n",
      "CTgwTfirY2dtLbEBKYFe3T9KmeDLtf6QrHmtuAMwDTsP 1850.6292402287545\n",
      "7cqa7tPYNgWw8eRNDcBosEQxYJ4uKXfDMHFmBhxH3uQN 7.562335677724484\n",
      "775ANAGx3kyFQV6YHvQXmfA7gB6DFkyojsQZXVdF4vwr 1.3669747866880941\n",
      "E6JjHtYpJkZqaYXa2WDccS39wABSkvkjzhwhe28rVKeZ 5.7655992364474855\n",
      "7g2UxLyBrHMFpGHKi938Mr4zXp8zBKhV3KN8Gb6TATBT 65.05177357895047\n",
      "7FY5mjWJC2pxgQBS6tyAXHYUJMdL6Rq9ejWLt21iB9NL 6911.123575067983\n",
      "Dp6hdYiKLaNVwcYPXBERsThutY6UQaX4hP5UBa8iQg23 163.95778955627597\n",
      "7cicXjFKkmPNvLrpyfqP1mABLnT8UZr9tSFvC6ypccix 8.32646617997158\n",
      "2vQAstUtByTJfnuWsoF5cVt6oBsfzEboaKfQNxMEzoTr 2.4468917719250176\n",
      "AHkjmbB9Ty1uby964erLNEgUDSDiiaDbohVyR224eCYG 7.634472009572871\n",
      "BxC131fG5TgGE1Wek7WtU4cTJcHWAs5cTmEmnx5BmQus 6.333300189471147\n"
     ]
    }
   ],
   "source": [
    "for addr in users.userAddress:\n",
    "    calc_amount(addr)\n",
    "    time.sleep(0.5)"
   ]
  },
  {
   "cell_type": "code",
   "execution_count": 216,
   "id": "e8d1e00b",
   "metadata": {
    "scrolled": true
   },
   "outputs": [
    {
     "data": {
      "text/plain": [
       "1210"
      ]
     },
     "execution_count": 216,
     "metadata": {},
     "output_type": "execute_result"
    }
   ],
   "source": [
    "len(res)"
   ]
  },
  {
   "cell_type": "code",
   "execution_count": 234,
   "id": "9ae68f04",
   "metadata": {},
   "outputs": [
    {
     "data": {
      "text/plain": [
       "1097"
      ]
     },
     "execution_count": 234,
     "metadata": {},
     "output_type": "execute_result"
    }
   ],
   "source": [
    "len(list(filter(lambda y: y[1] > 0.01, res.items())))"
   ]
  },
  {
   "cell_type": "code",
   "execution_count": null,
   "id": "22c60be6",
   "metadata": {},
   "outputs": [],
   "source": [
    "pd.DataFrame(res, columns=\"userAddress\", \"vaultTokens\")"
   ]
  }
 ],
 "metadata": {
  "kernelspec": {
   "display_name": "Python 3 (ipykernel)",
   "language": "python",
   "name": "python3"
  },
  "language_info": {
   "codemirror_mode": {
    "name": "ipython",
    "version": 3
   },
   "file_extension": ".py",
   "mimetype": "text/x-python",
   "name": "python",
   "nbconvert_exporter": "python",
   "pygments_lexer": "ipython3",
   "version": "3.8.9"
  }
 },
 "nbformat": 4,
 "nbformat_minor": 5
}
