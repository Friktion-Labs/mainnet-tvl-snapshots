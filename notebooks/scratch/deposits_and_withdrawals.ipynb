{
 "cells": [
  {
   "cell_type": "code",
   "execution_count": 161,
   "id": "daa788b2",
   "metadata": {},
   "outputs": [],
   "source": [
    "import pandas as pd\n",
    "import requests\n",
    "import numpy as np\n",
    "import json\n",
    "import matplotlib.pyplot as plt\n",
    "\n",
    "pd.set_option('display.max_colwidth', None)"
   ]
  },
  {
   "cell_type": "code",
   "execution_count": 51,
   "id": "78704178",
   "metadata": {},
   "outputs": [],
   "source": [
    "def run_query(query):  # A simple function to use requests.post to make the API call.\n",
    "    headers = {'X-API-KEY': 'BQYCaXaMZlqZrPCSQVsiJrKtxKRVcSe4'}\n",
    "    request = requests.post('https://graphql.bitquery.io/', json={'query': query}, headers=headers)\n",
    "    if request.status_code == 200:\n",
    "        return request.json()\n",
    "    else:\n",
    "        print(request.reason)\n",
    "        raise Exception('Query failed and return code is {}.{}'.format(request.status_code, query))"
   ]
  },
  {
   "cell_type": "code",
   "execution_count": 54,
   "id": "94700d50",
   "metadata": {
    "scrolled": true
   },
   "outputs": [],
   "source": [
    "registry = dict(json.loads(requests.get(\"https://friktion-labs.github.io/mainnet-tvl-snapshots/friktionSnapshot.json\").content))\n"
   ]
  },
  {
   "cell_type": "markdown",
   "id": "fad90c20",
   "metadata": {},
   "source": [
    "# Withdrawals CSP\n",
    "\n",
    "https://solscan.io/tx/4ogUn5CVKibzz4RXNBM9fGMR3TVSMyGv3zeFy4WxFDZeYqugAbSV7LUJrz8GG1KtuHDa6PuLrZ7p7avENhHgBY6F"
   ]
  },
  {
   "cell_type": "code",
   "execution_count": 65,
   "id": "791a91c6",
   "metadata": {},
   "outputs": [
    {
     "data": {
      "text/plain": [
       "['mainnet_income_call_btc',\n",
       " 'mainnet_income_call_sol',\n",
       " 'mainnet_income_call_sol_high',\n",
       " 'mainnet_income_call_marinade',\n",
       " 'mainnet_income_call_eth',\n",
       " 'mainnet_income_call_ftt',\n",
       " 'mainnet_income_call_srm',\n",
       " 'mainnet_income_call_mngo',\n",
       " 'mainnet_income_call_socean',\n",
       " 'mainnet_income_call_sbr',\n",
       " 'mainnet_income_call_luna',\n",
       " 'mainnet_income_call_ray',\n",
       " 'mainnet_income_call_step',\n",
       " 'mainnet_income_call_stsol',\n",
       " 'mainnet_income_put_luna',\n",
       " 'mainnet_income_put_sol',\n",
       " 'mainnet_income_put_sol_high',\n",
       " 'mainnet_income_put_mngo',\n",
       " 'mainnet_income_put_btc',\n",
       " 'mainnet_income_put_tsUSDC',\n",
       " 'mainnet_income_put_eth',\n",
       " 'mainnet_income_put_sol_step_circuits',\n",
       " 'mainnet_income_put_sol_parrot_circuits',\n",
       " 'mainnet_income_put_sol_uxd_circuits']"
      ]
     },
     "execution_count": 65,
     "metadata": {},
     "output_type": "execute_result"
    }
   ],
   "source": [
    "[x['globalId'] for x in registry['allMainnetVolts']]"
   ]
  },
  {
   "cell_type": "code",
   "execution_count": 71,
   "id": "c31b9ea3",
   "metadata": {},
   "outputs": [],
   "source": [
    "volts02 = list(filter(lambda x: \"put\" in x[\"globalId\"], registry['allMainnetVolts']))"
   ]
  },
  {
   "cell_type": "code",
   "execution_count": null,
   "id": "70cf4e78",
   "metadata": {},
   "outputs": [],
   "source": [
    "volts02_"
   ]
  },
  {
   "cell_type": "code",
   "execution_count": 70,
   "id": "23b519bd",
   "metadata": {},
   "outputs": [
    {
     "data": {
      "text/plain": [
       "[{'globalId': 'mainnet_income_put_luna',\n",
       "  'voltVaultId': '3aL9h1PVt2rbUPo11QZpRbpLJhWHrHCpizsirWhMXiXB',\n",
       "  'extraVaultDataId': '',\n",
       "  'quoteMint': '9vMJfxuKxXBoEa7rM12mYLMwTacLMLDJqHozw96WQL8i',\n",
       "  'underlyingMint': 'F6v4wfAdJB8D8p77bMXZgYt8TDKsYxLYxH5AFhUkYx9W',\n",
       "  'depositTokenMint': '9vMJfxuKxXBoEa7rM12mYLMwTacLMLDJqHozw96WQL8i',\n",
       "  'shareTokenMint': '74ozhToAS71nDVBtFZMMucdkNB95tV2o5fhtFGQeixwS',\n",
       "  'shareTokenSymbol': 'fpLUNA',\n",
       "  'shareTokenDecimals': 6,\n",
       "  'depositPool': '6FVEVQ1FoJD3HbG5s1sHUxNjLD2L53thmrZKvuLmCeVR',\n",
       "  'premiumPool': '4WhTWA9wkL7DBJbPLFsrRv1n5pR1sgYCQaCpdqs3VLsE',\n",
       "  'depositTokenSymbol': 'UST',\n",
       "  'depositTokenCoingeckoId': 'terrausd',\n",
       "  'underlyingTokenSymbol': 'LUNA',\n",
       "  'underlyingTokenCoingeckoId': 'terra-luna',\n",
       "  'voltType': 2,\n",
       "  'apy': 41.92},\n",
       " {'globalId': 'mainnet_income_put_sol',\n",
       "  'voltVaultId': '2evPXRLaTZj92DM93sdryeszwqoC9C6DoWa1TKHn1AzU',\n",
       "  'extraVaultDataId': '',\n",
       "  'quoteMint': 'EPjFWdd5AufqSSqeM2qN1xzybapC8G4wEGGkZwyTDt1v',\n",
       "  'underlyingMint': 'So11111111111111111111111111111111111111112',\n",
       "  'depositTokenMint': 'EPjFWdd5AufqSSqeM2qN1xzybapC8G4wEGGkZwyTDt1v',\n",
       "  'shareTokenMint': 'EBPM7fvPN8EuA65Uc7DT9eGyDUZ1sqMLM8Rb8y2YxBYU',\n",
       "  'shareTokenSymbol': 'fpSOL',\n",
       "  'shareTokenDecimals': 6,\n",
       "  'depositPool': '3P8gKD391aWea5qyGMeSJJhiXYmLx8n7zY4umh1uYk6j',\n",
       "  'premiumPool': 'BxvripadEmktgVyGyf5Nbaxgmpdw3rdkvadRxatFiibj',\n",
       "  'depositTokenSymbol': 'USDC',\n",
       "  'depositTokenCoingeckoId': 'usd-coin',\n",
       "  'underlyingTokenSymbol': 'SOL',\n",
       "  'underlyingTokenCoingeckoId': 'solana',\n",
       "  'voltType': 2,\n",
       "  'apy': 30.82,\n",
       "  'highVoltage': 'mainnet_income_put_sol_high'},\n",
       " {'globalId': 'mainnet_income_put_sol_high',\n",
       "  'voltVaultId': 'BTuiZkgodmKKJtNDhVQGvAzqW1fdSNWasQADDTTyoAxN',\n",
       "  'extraVaultDataId': '',\n",
       "  'quoteMint': 'EPjFWdd5AufqSSqeM2qN1xzybapC8G4wEGGkZwyTDt1v',\n",
       "  'underlyingMint': 'So11111111111111111111111111111111111111112',\n",
       "  'depositTokenMint': 'EPjFWdd5AufqSSqeM2qN1xzybapC8G4wEGGkZwyTDt1v',\n",
       "  'shareTokenMint': 'G8jsAWUA2KdDn7XmV1sBqUdbEXESaPdjPWDEYCsnkRX2',\n",
       "  'shareTokenSymbol': 'fpSOLHigh',\n",
       "  'shareTokenDecimals': 6,\n",
       "  'depositPool': 'A9GuE71hkLTgbzM9HEan8uP59bXq96WVANDYEr6Y22Kc',\n",
       "  'premiumPool': 'PrVrJeV1KqJGowKwtq8UAzF4McL2P1hW82W2Xk9fQMw',\n",
       "  'depositTokenSymbol': 'USDC',\n",
       "  'depositTokenCoingeckoId': 'usd-coin',\n",
       "  'underlyingTokenSymbol': 'SOL',\n",
       "  'underlyingTokenCoingeckoId': 'solana',\n",
       "  'voltType': 2,\n",
       "  'apy': 125.83,\n",
       "  'isVoltage': True},\n",
       " {'globalId': 'mainnet_income_put_mngo',\n",
       "  'voltVaultId': '9SPz2yjNc9V4FmdHrkYF1GfikGbe5rfwg6VPzhQJpPyt',\n",
       "  'extraVaultDataId': '',\n",
       "  'quoteMint': 'EPjFWdd5AufqSSqeM2qN1xzybapC8G4wEGGkZwyTDt1v',\n",
       "  'underlyingMint': 'MangoCzJ36AjZyKwVj3VnYU4GTonjfVEnJmvvWaxLac',\n",
       "  'depositTokenMint': 'EPjFWdd5AufqSSqeM2qN1xzybapC8G4wEGGkZwyTDt1v',\n",
       "  'shareTokenMint': 'CxHG1tPkeEHsAVmPF2UrjZK3W719J5DGFgMaLtUkBoeP',\n",
       "  'shareTokenSymbol': 'fpMNGO',\n",
       "  'shareTokenDecimals': 6,\n",
       "  'depositPool': 'FP7rhnmHexx2Tb4vbt7AX2PjEErSxFgnb8L2NwXwjT1D',\n",
       "  'premiumPool': 'Azx3S3FoQGuh1QFfCfAGNVM4XcfzESsT5XN8TmG4Euip',\n",
       "  'depositTokenSymbol': 'USDC',\n",
       "  'depositTokenCoingeckoId': 'usd-coin',\n",
       "  'underlyingTokenSymbol': 'MNGO',\n",
       "  'underlyingTokenCoingeckoId': 'mango-markets',\n",
       "  'voltType': 2,\n",
       "  'apy': 62.16,\n",
       "  'abnormalEpochLength': 14},\n",
       " {'globalId': 'mainnet_income_put_btc',\n",
       "  'voltVaultId': 'CzFUVBXaAxWRQ3JeJwsZHqDQUxBbUJLZtdoBQ3KPtsuB',\n",
       "  'extraVaultDataId': '',\n",
       "  'quoteMint': 'EPjFWdd5AufqSSqeM2qN1xzybapC8G4wEGGkZwyTDt1v',\n",
       "  'underlyingMint': '9n4nbM75f5Ui33ZbPYXn59EwSgE8CGsHtAeTH5YFeJ9E',\n",
       "  'depositTokenMint': 'EPjFWdd5AufqSSqeM2qN1xzybapC8G4wEGGkZwyTDt1v',\n",
       "  'shareTokenMint': 'THjfJ7GUeW6aMU6dzYYFVs5LnKNvmPzgk2wbh3bWagC',\n",
       "  'shareTokenSymbol': 'fpBTC',\n",
       "  'shareTokenDecimals': 6,\n",
       "  'depositPool': 'Hzh5dx4K7BDYih4oQvBsgkhwe19TaNnTeyzBDpLJwU8D',\n",
       "  'premiumPool': 'H9GxQt8YdrAP8QKCMeqa7kbLC1BNn2716rKD7o4jzMAC',\n",
       "  'depositTokenSymbol': 'USDC',\n",
       "  'depositTokenCoingeckoId': 'usd-coin',\n",
       "  'underlyingTokenSymbol': 'BTC',\n",
       "  'underlyingTokenCoingeckoId': 'bitcoin',\n",
       "  'voltType': 2,\n",
       "  'apy': 24.78},\n",
       " {'globalId': 'mainnet_income_put_tsUSDC',\n",
       "  'voltVaultId': 'FFhHmdwHS9myqQPQUMTu8hX56zQETNPC4Bu95ZGb1j5P',\n",
       "  'extraVaultDataId': '',\n",
       "  'quoteMint': 'EPjFWdd5AufqSSqeM2qN1xzybapC8G4wEGGkZwyTDt1v',\n",
       "  'underlyingMint': 'So11111111111111111111111111111111111111112',\n",
       "  'depositTokenMint': 'Cvvh8nsKZet59nsDDo3orMa3rZnPWQhpgrMCVcRDRgip',\n",
       "  'shareTokenMint': 'Fw8mw9zNyfngvBYuS2L6XWfvFE8fExQ3apZVw4Ery5oy',\n",
       "  'shareTokenSymbol': 'fptsUSDCSOL',\n",
       "  'shareTokenDecimals': 6,\n",
       "  'depositPool': 'HWQn2UdZNzmiPnm8RbuXgeLDnYQGmkw2fJTBD4xso9wD',\n",
       "  'premiumPool': 'EmmBNJZzjjuNMASyo5WkZrKLhptDituFtdb3Fruy7bpG',\n",
       "  'depositTokenSymbol': 'tsUSDC',\n",
       "  'depositTokenCoingeckoId': 'usd-coin',\n",
       "  'underlyingTokenSymbol': 'SOL',\n",
       "  'underlyingTokenCoingeckoId': 'solana',\n",
       "  'voltType': 2,\n",
       "  'apy': 22.09},\n",
       " {'globalId': 'mainnet_income_put_eth',\n",
       "  'voltVaultId': '2QRujUdQwz5p7XNQWh48KbyZ9AMEbG7WbkuqMMS9KdE5',\n",
       "  'extraVaultDataId': '',\n",
       "  'quoteMint': 'EPjFWdd5AufqSSqeM2qN1xzybapC8G4wEGGkZwyTDt1v',\n",
       "  'underlyingMint': '2FPyTwcZLUg1MDrwsyoP4D6s1tM7hAkHYRjkNb5w6Pxk',\n",
       "  'depositTokenMint': 'EPjFWdd5AufqSSqeM2qN1xzybapC8G4wEGGkZwyTDt1v',\n",
       "  'shareTokenMint': '2uTkms42P62dJ7JRaefc1HFkvyBeMP28J6MPmH1gVHoT',\n",
       "  'shareTokenSymbol': 'fpETH',\n",
       "  'shareTokenDecimals': 6,\n",
       "  'depositPool': 'G6ZNyhFk1isVfcjgbp1kvWu2e3vcVegMPqyikj4vykU5',\n",
       "  'premiumPool': 'AcvBwtSAeUMFiifsUCCq3FWN5qV8mDFZe81He4cgDSkQ',\n",
       "  'depositTokenSymbol': 'USDC',\n",
       "  'depositTokenCoingeckoId': 'usd-coin',\n",
       "  'underlyingTokenSymbol': 'ETH',\n",
       "  'underlyingTokenCoingeckoId': 'ethereum',\n",
       "  'voltType': 2,\n",
       "  'apy': 28.84},\n",
       " {'globalId': 'mainnet_income_put_sol_step_circuits',\n",
       "  'voltVaultId': 'DLZxZ9oStXCN9pKisKveLQemCwTSvjmirQb1zyykMg1H',\n",
       "  'extraVaultDataId': 'Hc5KVPshDqkUmFZmeqZg3YjUQmv7KDiPnr1R6WWGm9EB',\n",
       "  'quoteMint': 'EPjFWdd5AufqSSqeM2qN1xzybapC8G4wEGGkZwyTDt1v',\n",
       "  'underlyingMint': 'So11111111111111111111111111111111111111112',\n",
       "  'depositTokenMint': 'EPjFWdd5AufqSSqeM2qN1xzybapC8G4wEGGkZwyTDt1v',\n",
       "  'shareTokenMint': 'Bikt7D3nMQmJSpxX7oczCDKgevrpWk3g4D3VhQZzqAT',\n",
       "  'shareTokenSymbol': 'fpSOL_StepFinanceTreasury',\n",
       "  'shareTokenDecimals': 6,\n",
       "  'depositPool': '3C8SvZ9EcYNbEesWh5nF7hEBZgx632ntvkZk5MQ8Hk6h',\n",
       "  'premiumPool': '4ej5fJ2wP2yNbPpWKyjfaaKG3rm4StfPz84XJkTnYtaa',\n",
       "  'depositTokenSymbol': 'USDC',\n",
       "  'depositTokenCoingeckoId': 'usd-coin',\n",
       "  'underlyingTokenSymbol': 'SOL',\n",
       "  'underlyingTokenCoingeckoId': 'solana',\n",
       "  'voltType': 2,\n",
       "  'apy': 11.91,\n",
       "  'isInCircuits': True},\n",
       " {'globalId': 'mainnet_income_put_sol_parrot_circuits',\n",
       "  'voltVaultId': '7ENaTK9GmFadsS7T584D5wDDMsmf4yP8hudAdZR2RBRW',\n",
       "  'extraVaultDataId': '43SR4wqqZGiTB1oA2cLjDsAGEe7HPwoJHzTLbu3iFLTY',\n",
       "  'quoteMint': 'EPjFWdd5AufqSSqeM2qN1xzybapC8G4wEGGkZwyTDt1v',\n",
       "  'underlyingMint': 'So11111111111111111111111111111111111111112',\n",
       "  'depositTokenMint': 'EPjFWdd5AufqSSqeM2qN1xzybapC8G4wEGGkZwyTDt1v',\n",
       "  'shareTokenMint': 'J1TX6c1R6WykW2wonvrL6xA2g8vZ2FLDqDDF1mLYrMYK',\n",
       "  'shareTokenSymbol': 'fpSOL_ParrotTreasury',\n",
       "  'shareTokenDecimals': 6,\n",
       "  'depositPool': 'P7TTBhKxrQg4BS651fB5cLX9Jn2UyL2LxeNayrLEMbX',\n",
       "  'premiumPool': 'G1zaeJRjMnehdFXpkoXZWzBPEuunTfREqj9Emb7quKZY',\n",
       "  'depositTokenSymbol': 'USDC',\n",
       "  'depositTokenCoingeckoId': 'usd-coin',\n",
       "  'underlyingTokenSymbol': 'SOL',\n",
       "  'underlyingTokenCoingeckoId': 'solana',\n",
       "  'voltType': 2,\n",
       "  'apy': 30.33,\n",
       "  'isInCircuits': True},\n",
       " {'globalId': 'mainnet_income_put_sol_uxd_circuits',\n",
       "  'voltVaultId': '9cHT8d7d35ngj5i8WBZB8ibjnPLnvnym4tp4KoTCQtxw',\n",
       "  'extraVaultDataId': 'FEpmsNqZnRMZCjg9kbSa1NtwrGAp6r7gV7M781F9fWND',\n",
       "  'quoteMint': 'EPjFWdd5AufqSSqeM2qN1xzybapC8G4wEGGkZwyTDt1v',\n",
       "  'underlyingMint': 'So11111111111111111111111111111111111111112',\n",
       "  'depositTokenMint': 'EPjFWdd5AufqSSqeM2qN1xzybapC8G4wEGGkZwyTDt1v',\n",
       "  'shareTokenMint': 'BAyzqZuKUQ4k93Yfm3xp85SkAKtr4xghBsqZLBTZT14z',\n",
       "  'shareTokenSymbol': 'fpSOL_UXDTreasury',\n",
       "  'shareTokenDecimals': 6,\n",
       "  'depositPool': 'CptnNvSuZwM4jsbApVwdPUyZzzyRzBktA28DRdq5K3zR',\n",
       "  'premiumPool': '2A5tXphoJSsbRhZYPZt4XpfPHfh2oc429RmFfZbrMsbw',\n",
       "  'depositTokenSymbol': 'USDC',\n",
       "  'depositTokenCoingeckoId': 'usd-coin',\n",
       "  'underlyingTokenSymbol': 'SOL',\n",
       "  'underlyingTokenCoingeckoId': 'solana',\n",
       "  'voltType': 2,\n",
       "  'apy': 12.5,\n",
       "  'isInCircuits': True}]"
      ]
     },
     "execution_count": 70,
     "metadata": {},
     "output_type": "execute_result"
    }
   ],
   "source": [
    "volts02"
   ]
  },
  {
   "cell_type": "code",
   "execution_count": 35,
   "id": "356fef87",
   "metadata": {},
   "outputs": [],
   "source": [
    "query_date = '\"2021-12-16\", \"2022-03-22\"'"
   ]
  },
  {
   "cell_type": "code",
   "execution_count": null,
   "id": "239afa91",
   "metadata": {},
   "outputs": [],
   "source": []
  },
  {
   "cell_type": "code",
   "execution_count": 129,
   "id": "590cb92b",
   "metadata": {},
   "outputs": [],
   "source": [
    "volt_ids = \"\"\"\"6Nkc8MEiz3WLz1xthYitmSuy3NGwn7782upRHo2iFmXK\",\"GrB6vbG2WP7eEnbwgxUbBGRMeXYq139jo2o9oW8cNK8f\",\"AQRGh6PU7LzDHvvoPNS7wVVQaCBeftw9kVDAnvuEjbs8\",\"EA29Xf3HGMtYziw7UKZDUKby7gkoCbXwmiNKwc7z54Ax\",\n",
    "        \"5kA7FPiB3t2X5s65dK1AoEu5asDjC5d7f5vaB4iY2yrj\",\n",
    "        \"CVrRw6VtxSjokm2tKmaS5RCuoc9EFjN4wEoov6f2PST6\"\n",
    "\"\"\""
   ]
  },
  {
   "cell_type": "code",
   "execution_count": 130,
   "id": "6aaab6e0",
   "metadata": {},
   "outputs": [
    {
     "data": {
      "text/plain": [
       "'\"6Nkc8MEiz3WLz1xthYitmSuy3NGwn7782upRHo2iFmXK\",\"GrB6vbG2WP7eEnbwgxUbBGRMeXYq139jo2o9oW8cNK8f\",\"AQRGh6PU7LzDHvvoPNS7wVVQaCBeftw9kVDAnvuEjbs8\",\"EA29Xf3HGMtYziw7UKZDUKby7gkoCbXwmiNKwc7z54Ax\",\\n        \"5kA7FPiB3t2X5s65dK1AoEu5asDjC5d7f5vaB4iY2yrj\",\\n        \"CVrRw6VtxSjokm2tKmaS5RCuoc9EFjN4wEoov6f2PST6\"\\n'"
      ]
     },
     "execution_count": 130,
     "metadata": {},
     "output_type": "execute_result"
    }
   ],
   "source": [
    "volt_ids"
   ]
  },
  {
   "cell_type": "code",
   "execution_count": 187,
   "id": "3c52e00b",
   "metadata": {},
   "outputs": [],
   "source": [
    "query = \"\"\"\n",
    "    query{\n",
    "    solana(network: solana) {\n",
    "    transfers(\n",
    "      date: {between: [\"\"\"+ query_date +\"\"\"]}\n",
    "      transferType: {is: transfer}\n",
    "      any: [{senderAddress: {in: [\"\"\"+ volt_ids +\"\"\"]}}]\n",
    "    ) {\n",
    "      amount\n",
    "      currency {\n",
    "        symbol\n",
    "        address\n",
    "      }\n",
    "      block {\n",
    "        timestamp {\n",
    "          iso8601\n",
    "        }\n",
    "      }\n",
    "      transaction {\n",
    "        signer\n",
    "        signature\n",
    "        innerInstructionsCount\n",
    "      }\n",
    "      receiver {\n",
    "        address\n",
    "      }\n",
    "      sender {\n",
    "        address\n",
    "      }\n",
    "    }\n",
    "  }\n",
    "}\n",
    "\"\"\"\n",
    "\n",
    "result = run_query(query)"
   ]
  },
  {
   "cell_type": "code",
   "execution_count": 188,
   "id": "c0a6e2a7",
   "metadata": {},
   "outputs": [],
   "source": [
    "FEES_ADDRESS = '3KjJiWBfaw96qGhysq6Fc9FTxdPgPTNY6shM7Bwfp8EJ'\n",
    "\n",
    "MASTER_ADDRESS = 'DxMJgeSVoe1cWo1NPExiAsmn83N3bADvkT86dSP1k7WE'"
   ]
  },
  {
   "cell_type": "code",
   "execution_count": 190,
   "id": "6b19ba20",
   "metadata": {},
   "outputs": [],
   "source": [
    "# convert GraphQL json to pandas dataframe\n",
    "df = pd.json_normalize(result['data']['solana']['transfers'])\n",
    "df = df.rename(columns={\"block.timestamp.iso8601\": \"date\", \"currency.symbol\": \"symbol\", \n",
    "                        \"transaction.signer\":\"signer\", \"currency.address\":\"cash\",\n",
    "                        \"receiver.address\":\"receiver\", \"sender.address\":\"asset\", \"transaction.signature\": \"tx_id\"})\n",
    "# if transaction signer & receiver is diff, drop row\n",
    "\n",
    "# only valid withdrawal if they pay fees to the volt...\n",
    "\n",
    "df = df.query(\"receiver == '{}'\".format(FEES_ADDRESS)).reset_index(drop=True)\n",
    "# assign asset label over address\n",
    "# UST: 9vMJfxuKxXBoEa7rM12mYLMwTacLMLDJqHozw96WQL8i\n",
    "# tsUSDC: Cvvh8nsKZet59nsDDo3orMa3rZnPWQhpgrMCVcRDRgip\n",
    "# USDC: EPjFWdd5AufqSSqeM2qN1xzybapC8G4wEGGkZwyTDt1v\n",
    "# cash_conditions = [\n",
    "#         (df['cash'] == \"9vMJfxuKxXBoEa7rM12mYLMwTacLMLDJqHozw96WQL8i\"),\n",
    "#         (df['cash'] == \"Cvvh8nsKZet59nsDDo3orMa3rZnPWQhpgrMCVcRDRgip\"),\n",
    "#         (df['cash'] == \"EPjFWdd5AufqSSqeM2qN1xzybapC8G4wEGGkZwyTDt1v\"),\n",
    "#     ]\n",
    "\n",
    "# # relabeling addresses as asset labels\n",
    "# cash_Categories = [\"UST\", \"tsUSDC\", \"USDC\"]\n",
    "# df['cash'] = np.select(cash_conditions, cash_Categories)\n",
    "# # remove non-stablecoin assets\n",
    "# df = df[df[\"cash\"] != \"0\"]\n",
    "\n",
    "# Volt 02 SOL Put: 6Nkc8MEiz3WLz1xthYitmSuy3NGwn7782upRHo2iFmXK\n",
    "# Volt 02 SOL Put (tsUSDC): AQRGh6PU7LzDHvvoPNS7wVVQaCBeftw9kVDAnvuEjbs8\n",
    "# Volt 02 SOL Put (High): AQRGh6PU7LzDHvvoPNS7wVVQaCBeftw9kVDAnvuEjbs8\n",
    "# Volt 02 BTC Put: GrB6vbG2WP7eEnbwgxUbBGRMeXYq139jo2o9oW8cNK8f\n",
    "# Volt 02 ETH Put: EA29Xf3HGMtYziw7UKZDUKby7gkoCbXwmiNKwc7z54Ax\n",
    "# Volt 02 LUNA Put: 5kA7FPiB3t2X5s65dK1AoEu5asDjC5d7f5vaB4iY2yrj\n",
    "# Volt 02 MNGO Put: CVrRw6VtxSjokm2tKmaS5RCuoc9EFjN4wEoov6f2PST6\n",
    "\n",
    "asset_conditions = [\n",
    "        (df['asset'] == \"6Nkc8MEiz3WLz1xthYitmSuy3NGwn7782upRHo2iFmXK\"),\n",
    "        (df['asset'] == \"GrB6vbG2WP7eEnbwgxUbBGRMeXYq139jo2o9oW8cNK8f\"),\n",
    "        (df['asset'] == \"AQRGh6PU7LzDHvvoPNS7wVVQaCBeftw9kVDAnvuEjbs8\"),\n",
    "        (df['asset'] == \"EA29Xf3HGMtYziw7UKZDUKby7gkoCbXwmiNKwc7z54Ax\"),\n",
    "        (df['asset'] == \"5kA7FPiB3t2X5s65dK1AoEu5asDjC5d7f5vaB4iY2yrj\"),\n",
    "        (df['asset'] == \"CVrRw6VtxSjokm2tKmaS5RCuoc9EFjN4wEoov6f2PST6\"),\n",
    "    ]\n",
    "\n",
    "# relabeling addresses as asset labels\n",
    "asset_Categories = [\"SOL\", \"BTC\", \"SOL (tsUSDC)\", \"ETH\", \"LUNA\", \"MNGO\"]\n",
    "df['asset'] = np.select(asset_conditions, asset_Categories)"
   ]
  },
  {
   "cell_type": "code",
   "execution_count": 184,
   "id": "08f4868f",
   "metadata": {
    "scrolled": true
   },
   "outputs": [],
   "source": [
    "withdrawals = df.loc[(df.signer==MASTER_ADDRESS) & (df[\"transaction.innerInstructionsCount\"]==1)]"
   ]
  },
  {
   "cell_type": "code",
   "execution_count": 185,
   "id": "aa64b647",
   "metadata": {},
   "outputs": [
    {
     "data": {
      "text/plain": [
       "14576.557185000001"
      ]
     },
     "execution_count": 185,
     "metadata": {},
     "output_type": "execute_result"
    }
   ],
   "source": [
    "withdrawals.amount.sum()"
   ]
  },
  {
   "cell_type": "code",
   "execution_count": 186,
   "id": "c9b6756a",
   "metadata": {},
   "outputs": [
    {
     "data": {
      "image/png": "[encoded data removed]",
      "text/plain": [
       "<Figure size 432x288 with 6 Axes>"
      ]
     },
     "metadata": {
      "needs_background": "light"
     },
     "output_type": "display_data"
    }
   ],
   "source": [
    "withdrawals[\"amount\"].hist(by=withdrawals.asset, edgecolor='black')\n",
    "plt.tight_layout()"
   ]
  },
  {
   "cell_type": "code",
   "execution_count": 194,
   "id": "a5f9c38a",
   "metadata": {},
   "outputs": [],
   "source": [
    "# Label tsUSDC as its own symbol"
   ]
  },
  {
   "cell_type": "code",
   "execution_count": 195,
   "id": "7740ca43",
   "metadata": {},
   "outputs": [
    {
     "data": {
      "text/plain": [
       "array(['', 'USDC', 'UST'], dtype=object)"
      ]
     },
     "execution_count": 195,
     "metadata": {},
     "output_type": "execute_result"
    }
   ],
   "source": [
    "df.symbol.unique()"
   ]
  },
  {
   "cell_type": "markdown",
   "id": "2bf3ab5c",
   "metadata": {},
   "source": [
    "# WITHDRAWALS CALLS"
   ]
  },
  {
   "cell_type": "code",
   "execution_count": 169,
   "id": "0f9ebbee",
   "metadata": {},
   "outputs": [],
   "source": [
    "query = \"\"\"\n",
    "    query{\n",
    "    solana(network: solana) {\n",
    "    transfers(\n",
    "      date: {between: [\"\"\"+ query_date +\"\"\"]}\n",
    "      transferType: {is: transfer}\n",
    "      any: [{senderAddress: {in: [\n",
    "        \"Hxtb6APfNtf9m8jJjh7uYp8fCTGr9aeHxBSfiPqCrV6G\",\n",
    "        \"DA1M8mw7GnPNKU9ReANtHPQyuVzKZtsuuSbCyc2uX2du\",\n",
    "        \"6asST5hurmxJ8uFvh7ZRWkrMfSEzjEAJ4DNR1is3G6eH\",\n",
    "        \"FThcy5XXvab5u3jbA6NjWKdMNiCSV3oY5AAkvEvpa8wp\",\n",
    "        \"7KqHFuUksvNhrWgoacKkqyp2RwfBNdypCYgK9nxD1d6K\",\n",
    "        \"2P427N5sYcEXvZAZwqNzjXEHsBMESQoLyjNquTSmGPMb\",\n",
    "        \"B3yakZxwomkmnCxRr8ZmQtiWgtxtVBuCREDFDdAvcCVQ\",\n",
    "        \"A5MpyajTy6hdsg3S2em5ukcgY1ZBhxTxEKv8BgHajv1A\",\n",
    "        \"BH7Jg3f97FyeGxsPR7FFskvfqGiaLeUnJ9Ksda53Jj8h\",\n",
    "        \"5oV1Yf8q1oQgPYuHjepjmKFuaG2Wng9dzTqbSWhU5W2X\",\n",
    "        \"A6XsYxGj9wpqUZG81XwgQJ2zJ3efCbuWSQfnkHqUSmdM\"]}}]\n",
    "    ) {\n",
    "      amount\n",
    "      currency {\n",
    "        symbol\n",
    "      }\n",
    "      block {\n",
    "        timestamp {\n",
    "          iso8601\n",
    "        }\n",
    "      }\n",
    "      transaction {\n",
    "        signer\n",
    "        signature\n",
    "        innerInstructionsCount\n",
    "      }\n",
    "      receiver {\n",
    "        address\n",
    "      }\n",
    "      sender {\n",
    "        address\n",
    "      }\n",
    "    }\n",
    "  }\n",
    "}\n",
    "\"\"\"\n",
    "\n",
    "result = run_query(query)\n",
    "# convert GraphQL json to pandas dataframe\n",
    "df = pd.json_normalize(result['data']['solana']['transfers'])\n",
    "df = df.rename(columns={\"block.timestamp.iso8601\": \"date\", \"currency.symbol\": \"symbol\", \n",
    "                        \"transaction.signer\":\"signer\", \"currency.address\":\"cash\",\n",
    "                        \"receiver.address\":\"receiver\", \"sender.address\":\"asset\", \"transaction.signature\": \"tx_id\"})\n",
    "# Does json_normalize flatten a json file for you??\n",
    "df[\"tx_id\"] = df[\"tx_id\"].apply(lambda x: \"https://solscan.io/tx/{}\".format(FEES_ADDRESS))\n",
    "# if transaction signer & receiver is diff, drop row\n",
    "df = df.query(\"receiver == '{}'\".format(FEES_ADDRESS)).reset_index(drop=True)\n",
    "\n",
    "# assign asset label over sender address\n",
    "asset_conditions = [\n",
    "        (df['asset'] == \"Hxtb6APfNtf9m8jJjh7uYp8fCTGr9aeHxBSfiPqCrV6G\"),\n",
    "        (df['asset'] == \"DA1M8mw7GnPNKU9ReANtHPQyuVzKZtsuuSbCyc2uX2du\"),\n",
    "        (df['asset'] == \"6asST5hurmxJ8uFvh7ZRWkrMfSEzjEAJ4DNR1is3G6eH\"),\n",
    "        (df['asset'] == \"FThcy5XXvab5u3jbA6NjWKdMNiCSV3oY5AAkvEvpa8wp\"),\n",
    "        (df['asset'] == \"7KqHFuUksvNhrWgoacKkqyp2RwfBNdypCYgK9nxD1d6K\"),\n",
    "        (df['asset'] == \"2P427N5sYcEXvZAZwqNzjXEHsBMESQoLyjNquTSmGPMb\"),\n",
    "        (df['asset'] == \"B3yakZxwomkmnCxRr8ZmQtiWgtxtVBuCREDFDdAvcCVQ\"),\n",
    "        (df['asset'] == \"A5MpyajTy6hdsg3S2em5ukcgY1ZBhxTxEKv8BgHajv1A\"),\n",
    "        (df['asset'] == \"BH7Jg3f97FyeGxsPR7FFskvfqGiaLeUnJ9Ksda53Jj8h\"),\n",
    "        (df['asset'] == \"5oV1Yf8q1oQgPYuHjepjmKFuaG2Wng9dzTqbSWhU5W2X\"),\n",
    "        (df['asset'] == \"A6XsYxGj9wpqUZG81XwgQJ2zJ3efCbuWSQfnkHqUSmdM\")\n",
    "    ]\n",
    "\n",
    "# relabeling addresses as asset labels\n",
    "asset_Categories = [\"SOL\", \"BTC\", \"mSOL\", \"ETH\", \"FTT\", \"SRM\", \"MNGO\", \"scnSOL\", \"SBR\", \"LUNA\", \"RAY\"]\n",
    "df['asset'] = np.select(asset_conditions, asset_Categories)"
   ]
  },
  {
   "cell_type": "code",
   "execution_count": 170,
   "id": "0a6da4d8",
   "metadata": {},
   "outputs": [
    {
     "data": {
      "text/plain": [
       "Index(['amount', 'symbol', 'date', 'signer', 'tx_id', 'transaction.innerInstructionsCount', 'receiver', 'asset'], dtype='object')"
      ]
     },
     "execution_count": 170,
     "metadata": {},
     "output_type": "execute_result"
    }
   ],
   "source": [
    "df.columns"
   ]
  },
  {
   "cell_type": "code",
   "execution_count": 171,
   "id": "9ff6e907",
   "metadata": {},
   "outputs": [
    {
     "data": {
      "text/html": [
       "<div>\n",
       "<style scoped>\n",
       "    .dataframe tbody tr th:only-of-type {\n",
       "        vertical-align: middle;\n",
       "    }\n",
       "\n",
       "    .dataframe tbody tr th {\n",
       "        vertical-align: top;\n",
       "    }\n",
       "\n",
       "    .dataframe thead th {\n",
       "        text-align: right;\n",
       "    }\n",
       "</style>\n",
       "<table border=\"1\" class=\"dataframe\">\n",
       "  <thead>\n",
       "    <tr style=\"text-align: right;\">\n",
       "      <th></th>\n",
       "      <th>amount</th>\n",
       "      <th>symbol</th>\n",
       "      <th>date</th>\n",
       "      <th>signer</th>\n",
       "      <th>tx_id</th>\n",
       "      <th>transaction.innerInstructionsCount</th>\n",
       "      <th>receiver</th>\n",
       "      <th>asset</th>\n",
       "    </tr>\n",
       "  </thead>\n",
       "  <tbody>\n",
       "    <tr>\n",
       "      <th>0</th>\n",
       "      <td>0.000249</td>\n",
       "      <td>BTC</td>\n",
       "      <td>2021-12-31T08:17:54Z</td>\n",
       "      <td>DxMJgeSVoe1cWo1NPExiAsmn83N3bADvkT86dSP1k7WE</td>\n",
       "      <td>https://solscan.io/tx/3KjJiWBfaw96qGhysq6Fc9FTxdPgPTNY6shM7Bwfp8EJ</td>\n",
       "      <td>4</td>\n",
       "      <td>3KjJiWBfaw96qGhysq6Fc9FTxdPgPTNY6shM7Bwfp8EJ</td>\n",
       "      <td>BTC</td>\n",
       "    </tr>\n",
       "    <tr>\n",
       "      <th>1</th>\n",
       "      <td>0.170870</td>\n",
       "      <td>BTC</td>\n",
       "      <td>2022-01-07T08:42:14Z</td>\n",
       "      <td>DxMJgeSVoe1cWo1NPExiAsmn83N3bADvkT86dSP1k7WE</td>\n",
       "      <td>https://solscan.io/tx/3KjJiWBfaw96qGhysq6Fc9FTxdPgPTNY6shM7Bwfp8EJ</td>\n",
       "      <td>4</td>\n",
       "      <td>3KjJiWBfaw96qGhysq6Fc9FTxdPgPTNY6shM7Bwfp8EJ</td>\n",
       "      <td>BTC</td>\n",
       "    </tr>\n",
       "    <tr>\n",
       "      <th>2</th>\n",
       "      <td>0.112000</td>\n",
       "      <td>BTC</td>\n",
       "      <td>2022-01-14T08:34:26Z</td>\n",
       "      <td>DxMJgeSVoe1cWo1NPExiAsmn83N3bADvkT86dSP1k7WE</td>\n",
       "      <td>https://solscan.io/tx/3KjJiWBfaw96qGhysq6Fc9FTxdPgPTNY6shM7Bwfp8EJ</td>\n",
       "      <td>4</td>\n",
       "      <td>3KjJiWBfaw96qGhysq6Fc9FTxdPgPTNY6shM7Bwfp8EJ</td>\n",
       "      <td>BTC</td>\n",
       "    </tr>\n",
       "    <tr>\n",
       "      <th>3</th>\n",
       "      <td>0.060020</td>\n",
       "      <td>BTC</td>\n",
       "      <td>2022-01-21T08:24:52Z</td>\n",
       "      <td>DxMJgeSVoe1cWo1NPExiAsmn83N3bADvkT86dSP1k7WE</td>\n",
       "      <td>https://solscan.io/tx/3KjJiWBfaw96qGhysq6Fc9FTxdPgPTNY6shM7Bwfp8EJ</td>\n",
       "      <td>4</td>\n",
       "      <td>3KjJiWBfaw96qGhysq6Fc9FTxdPgPTNY6shM7Bwfp8EJ</td>\n",
       "      <td>BTC</td>\n",
       "    </tr>\n",
       "    <tr>\n",
       "      <th>4</th>\n",
       "      <td>0.000203</td>\n",
       "      <td>BTC</td>\n",
       "      <td>2022-01-21T08:26:18Z</td>\n",
       "      <td>9FDHtzdTbBKxyncpb8bCzzNgpJBCFLVG9B4anEYPQq95</td>\n",
       "      <td>https://solscan.io/tx/3KjJiWBfaw96qGhysq6Fc9FTxdPgPTNY6shM7Bwfp8EJ</td>\n",
       "      <td>5</td>\n",
       "      <td>3KjJiWBfaw96qGhysq6Fc9FTxdPgPTNY6shM7Bwfp8EJ</td>\n",
       "      <td>BTC</td>\n",
       "    </tr>\n",
       "    <tr>\n",
       "      <th>...</th>\n",
       "      <td>...</td>\n",
       "      <td>...</td>\n",
       "      <td>...</td>\n",
       "      <td>...</td>\n",
       "      <td>...</td>\n",
       "      <td>...</td>\n",
       "      <td>...</td>\n",
       "      <td>...</td>\n",
       "    </tr>\n",
       "    <tr>\n",
       "      <th>235</th>\n",
       "      <td>0.155903</td>\n",
       "      <td>scnSOL</td>\n",
       "      <td>2022-03-04T02:35:04Z</td>\n",
       "      <td>DxMJgeSVoe1cWo1NPExiAsmn83N3bADvkT86dSP1k7WE</td>\n",
       "      <td>https://solscan.io/tx/3KjJiWBfaw96qGhysq6Fc9FTxdPgPTNY6shM7Bwfp8EJ</td>\n",
       "      <td>1</td>\n",
       "      <td>3KjJiWBfaw96qGhysq6Fc9FTxdPgPTNY6shM7Bwfp8EJ</td>\n",
       "      <td>scnSOL</td>\n",
       "    </tr>\n",
       "    <tr>\n",
       "      <th>236</th>\n",
       "      <td>9.483000</td>\n",
       "      <td>scnSOL</td>\n",
       "      <td>2022-03-11T02:38:09Z</td>\n",
       "      <td>DxMJgeSVoe1cWo1NPExiAsmn83N3bADvkT86dSP1k7WE</td>\n",
       "      <td>https://solscan.io/tx/3KjJiWBfaw96qGhysq6Fc9FTxdPgPTNY6shM7Bwfp8EJ</td>\n",
       "      <td>4</td>\n",
       "      <td>3KjJiWBfaw96qGhysq6Fc9FTxdPgPTNY6shM7Bwfp8EJ</td>\n",
       "      <td>scnSOL</td>\n",
       "    </tr>\n",
       "    <tr>\n",
       "      <th>237</th>\n",
       "      <td>0.059191</td>\n",
       "      <td>scnSOL</td>\n",
       "      <td>2022-03-11T02:38:27Z</td>\n",
       "      <td>DxMJgeSVoe1cWo1NPExiAsmn83N3bADvkT86dSP1k7WE</td>\n",
       "      <td>https://solscan.io/tx/3KjJiWBfaw96qGhysq6Fc9FTxdPgPTNY6shM7Bwfp8EJ</td>\n",
       "      <td>1</td>\n",
       "      <td>3KjJiWBfaw96qGhysq6Fc9FTxdPgPTNY6shM7Bwfp8EJ</td>\n",
       "      <td>scnSOL</td>\n",
       "    </tr>\n",
       "    <tr>\n",
       "      <th>238</th>\n",
       "      <td>7.244000</td>\n",
       "      <td>scnSOL</td>\n",
       "      <td>2022-03-18T02:27:34Z</td>\n",
       "      <td>DxMJgeSVoe1cWo1NPExiAsmn83N3bADvkT86dSP1k7WE</td>\n",
       "      <td>https://solscan.io/tx/3KjJiWBfaw96qGhysq6Fc9FTxdPgPTNY6shM7Bwfp8EJ</td>\n",
       "      <td>4</td>\n",
       "      <td>3KjJiWBfaw96qGhysq6Fc9FTxdPgPTNY6shM7Bwfp8EJ</td>\n",
       "      <td>scnSOL</td>\n",
       "    </tr>\n",
       "    <tr>\n",
       "      <th>239</th>\n",
       "      <td>0.078512</td>\n",
       "      <td>scnSOL</td>\n",
       "      <td>2022-03-18T02:27:54Z</td>\n",
       "      <td>DxMJgeSVoe1cWo1NPExiAsmn83N3bADvkT86dSP1k7WE</td>\n",
       "      <td>https://solscan.io/tx/3KjJiWBfaw96qGhysq6Fc9FTxdPgPTNY6shM7Bwfp8EJ</td>\n",
       "      <td>1</td>\n",
       "      <td>3KjJiWBfaw96qGhysq6Fc9FTxdPgPTNY6shM7Bwfp8EJ</td>\n",
       "      <td>scnSOL</td>\n",
       "    </tr>\n",
       "  </tbody>\n",
       "</table>\n",
       "<p>240 rows × 8 columns</p>\n",
       "</div>"
      ],
      "text/plain": [
       "       amount  symbol                  date                                        signer                                                               tx_id  transaction.innerInstructionsCount                                      receiver   asset\n",
       "0    0.000249     BTC  2021-12-31T08:17:54Z  DxMJgeSVoe1cWo1NPExiAsmn83N3bADvkT86dSP1k7WE  https://solscan.io/tx/3KjJiWBfaw96qGhysq6Fc9FTxdPgPTNY6shM7Bwfp8EJ                                   4  3KjJiWBfaw96qGhysq6Fc9FTxdPgPTNY6shM7Bwfp8EJ     BTC\n",
       "1    0.170870     BTC  2022-01-07T08:42:14Z  DxMJgeSVoe1cWo1NPExiAsmn83N3bADvkT86dSP1k7WE  https://solscan.io/tx/3KjJiWBfaw96qGhysq6Fc9FTxdPgPTNY6shM7Bwfp8EJ                                   4  3KjJiWBfaw96qGhysq6Fc9FTxdPgPTNY6shM7Bwfp8EJ     BTC\n",
       "2    0.112000     BTC  2022-01-14T08:34:26Z  DxMJgeSVoe1cWo1NPExiAsmn83N3bADvkT86dSP1k7WE  https://solscan.io/tx/3KjJiWBfaw96qGhysq6Fc9FTxdPgPTNY6shM7Bwfp8EJ                                   4  3KjJiWBfaw96qGhysq6Fc9FTxdPgPTNY6shM7Bwfp8EJ     BTC\n",
       "3    0.060020     BTC  2022-01-21T08:24:52Z  DxMJgeSVoe1cWo1NPExiAsmn83N3bADvkT86dSP1k7WE  https://solscan.io/tx/3KjJiWBfaw96qGhysq6Fc9FTxdPgPTNY6shM7Bwfp8EJ                                   4  3KjJiWBfaw96qGhysq6Fc9FTxdPgPTNY6shM7Bwfp8EJ     BTC\n",
       "4    0.000203     BTC  2022-01-21T08:26:18Z  9FDHtzdTbBKxyncpb8bCzzNgpJBCFLVG9B4anEYPQq95  https://solscan.io/tx/3KjJiWBfaw96qGhysq6Fc9FTxdPgPTNY6shM7Bwfp8EJ                                   5  3KjJiWBfaw96qGhysq6Fc9FTxdPgPTNY6shM7Bwfp8EJ     BTC\n",
       "..        ...     ...                   ...                                           ...                                                                 ...                                 ...                                           ...     ...\n",
       "235  0.155903  scnSOL  2022-03-04T02:35:04Z  DxMJgeSVoe1cWo1NPExiAsmn83N3bADvkT86dSP1k7WE  https://solscan.io/tx/3KjJiWBfaw96qGhysq6Fc9FTxdPgPTNY6shM7Bwfp8EJ                                   1  3KjJiWBfaw96qGhysq6Fc9FTxdPgPTNY6shM7Bwfp8EJ  scnSOL\n",
       "236  9.483000  scnSOL  2022-03-11T02:38:09Z  DxMJgeSVoe1cWo1NPExiAsmn83N3bADvkT86dSP1k7WE  https://solscan.io/tx/3KjJiWBfaw96qGhysq6Fc9FTxdPgPTNY6shM7Bwfp8EJ                                   4  3KjJiWBfaw96qGhysq6Fc9FTxdPgPTNY6shM7Bwfp8EJ  scnSOL\n",
       "237  0.059191  scnSOL  2022-03-11T02:38:27Z  DxMJgeSVoe1cWo1NPExiAsmn83N3bADvkT86dSP1k7WE  https://solscan.io/tx/3KjJiWBfaw96qGhysq6Fc9FTxdPgPTNY6shM7Bwfp8EJ                                   1  3KjJiWBfaw96qGhysq6Fc9FTxdPgPTNY6shM7Bwfp8EJ  scnSOL\n",
       "238  7.244000  scnSOL  2022-03-18T02:27:34Z  DxMJgeSVoe1cWo1NPExiAsmn83N3bADvkT86dSP1k7WE  https://solscan.io/tx/3KjJiWBfaw96qGhysq6Fc9FTxdPgPTNY6shM7Bwfp8EJ                                   4  3KjJiWBfaw96qGhysq6Fc9FTxdPgPTNY6shM7Bwfp8EJ  scnSOL\n",
       "239  0.078512  scnSOL  2022-03-18T02:27:54Z  DxMJgeSVoe1cWo1NPExiAsmn83N3bADvkT86dSP1k7WE  https://solscan.io/tx/3KjJiWBfaw96qGhysq6Fc9FTxdPgPTNY6shM7Bwfp8EJ                                   1  3KjJiWBfaw96qGhysq6Fc9FTxdPgPTNY6shM7Bwfp8EJ  scnSOL\n",
       "\n",
       "[240 rows x 8 columns]"
      ]
     },
     "execution_count": 171,
     "metadata": {},
     "output_type": "execute_result"
    }
   ],
   "source": [
    "df"
   ]
  },
  {
   "cell_type": "code",
   "execution_count": 172,
   "id": "d0227b41",
   "metadata": {},
   "outputs": [],
   "source": [
    "withdrawals01 = df.loc[(df.signer==MASTER_ADDRESS) & (df[\"transaction.innerInstructionsCount\"]==1)]"
   ]
  },
  {
   "cell_type": "code",
   "execution_count": 175,
   "id": "2f843b38",
   "metadata": {},
   "outputs": [
    {
     "data": {
      "text/plain": [
       "asset\n",
       "BTC          0.256253\n",
       "ETH          1.397977\n",
       "FTT         28.859512\n",
       "LUNA        92.565639\n",
       "MNGO      3499.265779\n",
       "RAY          4.801589\n",
       "SBR       6783.790275\n",
       "SOL        144.859883\n",
       "SRM        202.189150\n",
       "mSOL        99.804956\n",
       "scnSOL       5.244235\n",
       "Name: amount, dtype: float64"
      ]
     },
     "execution_count": 175,
     "metadata": {},
     "output_type": "execute_result"
    }
   ],
   "source": [
    "withdrawals01.groupby(\"asset\").amount.sum()"
   ]
  },
  {
   "cell_type": "code",
   "execution_count": 196,
   "id": "78db3720",
   "metadata": {},
   "outputs": [
    {
     "data": {
      "text/plain": [
       "48440.0"
      ]
     },
     "execution_count": 196,
     "metadata": {},
     "output_type": "execute_result"
    }
   ],
   "source": [
    "244*95+30*50+92*100+4000+0.24*44000"
   ]
  },
  {
   "cell_type": "code",
   "execution_count": 177,
   "id": "f3e59476",
   "metadata": {},
   "outputs": [
    {
     "data": {
      "image/png": "[encoded data removed]",
      "text/plain": [
       "<Figure size 432x288 with 12 Axes>"
      ]
     },
     "metadata": {
      "needs_background": "light"
     },
     "output_type": "display_data"
    }
   ],
   "source": [
    "withdrawals01[\"amount\"].hist(by=withdrawals01.asset, edgecolor='black')\n",
    "plt.tight_layout()"
   ]
  }
 ],
 "metadata": {
  "kernelspec": {
   "display_name": "Python 3 (ipykernel)",
   "language": "python",
   "name": "python3"
  },
  "language_info": {
   "codemirror_mode": {
    "name": "ipython",
    "version": 3
   },
   "file_extension": ".py",
   "mimetype": "text/x-python",
   "name": "python",
   "nbconvert_exporter": "python",
   "pygments_lexer": "ipython3",
   "version": "3.8.9"
  }
 },
 "nbformat": 4,
 "nbformat_minor": 5
}
