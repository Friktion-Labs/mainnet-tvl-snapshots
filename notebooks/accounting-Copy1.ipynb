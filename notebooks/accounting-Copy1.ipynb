{
 "cells": [
  {
   "cell_type": "code",
   "execution_count": 1,
   "id": "22f1cb69",
   "metadata": {},
   "outputs": [],
   "source": [
    "\"\"\"\n",
    "Python script to scrape Friktion User Data from Bitquery GraphQL API.\n",
    "\n",
    "\"\"\"\n",
    "\n",
    "import json\n",
    "import requests\n",
    "import requests\n",
    "import traceback\n",
    "import time\n",
    "\n",
    "import numpy as np\n",
    "import pandas as pd\n",
    "from datetime import datetime\n",
    "import matplotlib.pyplot as plt\n",
    "from os.path import exists"
   ]
  },
  {
   "cell_type": "code",
   "execution_count": 79,
   "id": "73fa9382",
   "metadata": {},
   "outputs": [],
   "source": [
    "globalId = \"mainnet_income_put_luna\"\n",
    "\n",
    "users = pd.read_csv(\"luna_call_addresses.csv\")\n",
    "\n",
    "shareprice = pd.read_json(f\"../derived_timeseries/{globalId}_sharePricesByGlobalId.json\")\n",
    "\n",
    "shareprice[0]/=1000"
   ]
  },
  {
   "cell_type": "code",
   "execution_count": 80,
   "id": "c856fd07",
   "metadata": {},
   "outputs": [],
   "source": [
    "res = {}"
   ]
  },
  {
   "cell_type": "code",
   "execution_count": 81,
   "id": "fa3c0d53",
   "metadata": {},
   "outputs": [],
   "source": [
    "def calc_amount(addr):\n",
    "    success = False\n",
    "    while not success:\n",
    "        try:\n",
    "            query = \"\"\"https://solana-stream-dev-ztbl.ue1-eks-0.prod-czff.zettablock.dev/graphql?query={userTransactions(userAddress:\\\"%s\\\"){Hash,Amount,Decimal,InstructionAction,InstructionIndex,InnerIndex,UserAddress,Timestamp,UnixTime,CurrencyName,CurrencyAddress,SenderAddress,SenderTokenMint,ReceiverAddress,UserAction,GlobalID,VaultAuthority,ShareTokenMint,DepositTokenSymbol,DepositTokenCoingeckoId}}\"\"\"\n",
    "            x = pd.DataFrame(json.loads(requests.get(query%addr).content)[\"userTransactions\"])\n",
    "            success = not x.empty\n",
    "        except Exception as e:\n",
    "            print(\"Failed... sleeping for 5\")\n",
    "            time.sleep(5)\n",
    "            continue\n",
    "            \n",
    "    cutoff = 1651802400\n",
    "\n",
    "    df = x.loc[x.UnixTime < cutoff].loc[x.GlobalID == globalId]\n",
    "\n",
    "    df = df.sort_values(\"UnixTime\")\n",
    "\n",
    "    shareprice[\"timestamp\"] = shareprice[0].astype('int')\n",
    "    shareprice[\"sharePrice\"] = shareprice[1]\n",
    "\n",
    "    asimov = pd.merge_asof(df, shareprice, left_on=\"UnixTime\", right_on=\"timestamp\")\n",
    "\n",
    "    pos = asimov.query(\"UserAction=='Deposit'\")\n",
    "    pos = (pos.Amount*pos.sharePrice/10**pos.Decimal).sum()\n",
    "\n",
    "    pos2 = asimov.query(\"UserAction == 'CancelPendingWithdraw'\")\n",
    "    if pos2.empty:\n",
    "        pos2 = 0\n",
    "    else:\n",
    "        pos2 = (pos2.Amount/10**pos2.Decimal).sum()\n",
    "\n",
    "    neg = asimov.query(\"UserAction=='Withdraw'\")\n",
    "    if neg.empty:\n",
    "        neg = 0\n",
    "    else:\n",
    "        neg = (neg.Amount/10**neg.Decimal).sum()\n",
    "\n",
    "    neg2 = asimov.query(\"UserAction=='CancelPendingDeposit'\")\n",
    "    if neg2.empty:\n",
    "        neg2 = 0\n",
    "    else:\n",
    "        neg2= (neg2.Amount*neg2.sharePrice/10**neg2.Decimal).sum()\n",
    "\n",
    "    amount = pos+pos2-neg-neg2\n",
    "    print(addr, amount)\n",
    "    res[addr] = amount"
   ]
  },
  {
   "cell_type": "code",
   "execution_count": 66,
   "id": "00a0a72a",
   "metadata": {},
   "outputs": [
    {
     "name": "stdout",
     "output_type": "stream",
     "text": [
      "CQikhhQ9STuD1S3A45DGvUAtCdSs5pw2YwJ8Mk6U9Fs7 195.97417776146025\n",
      "ETv2idiPjun5RReJNSLBd2RUMcYSBMqjFQxhVpLeDqkm 11.084006874905258\n",
      "GZYHrKmMPQLrmVGw7PRny7tP9wQZnFCC5vYfuaQiVTdh 4.59754700000002\n"
     ]
    },
    {
     "ename": "KeyboardInterrupt",
     "evalue": "",
     "output_type": "error",
     "traceback": [
      "\u001b[0;31m---------------------------------------------------------------------------\u001b[0m",
      "\u001b[0;31mKeyboardInterrupt\u001b[0m                         Traceback (most recent call last)",
      "\u001b[0;32m/var/folders/t5/lm3g0brx0dsf0ymt1ldc8xdr0000gp/T/ipykernel_1019/1659074275.py\u001b[0m in \u001b[0;36m<module>\u001b[0;34m\u001b[0m\n\u001b[1;32m      2\u001b[0m \u001b[0;34m\u001b[0m\u001b[0m\n\u001b[1;32m      3\u001b[0m     \u001b[0mcalc_amount\u001b[0m\u001b[0;34m(\u001b[0m\u001b[0maddr\u001b[0m\u001b[0;34m)\u001b[0m\u001b[0;34m\u001b[0m\u001b[0;34m\u001b[0m\u001b[0m\n\u001b[0;32m----> 4\u001b[0;31m     \u001b[0mtime\u001b[0m\u001b[0;34m.\u001b[0m\u001b[0msleep\u001b[0m\u001b[0;34m(\u001b[0m\u001b[0;36m1\u001b[0m\u001b[0;34m)\u001b[0m\u001b[0;34m\u001b[0m\u001b[0;34m\u001b[0m\u001b[0m\n\u001b[0m",
      "\u001b[0;31mKeyboardInterrupt\u001b[0m: "
     ]
    }
   ],
   "source": [
    "for addr in users.userAddress:\n",
    "    \n",
    "    calc_amount(addr)\n",
    "    time.sleep(1)"
   ]
  },
  {
   "cell_type": "code",
   "execution_count": 88,
   "id": "9805f868",
   "metadata": {},
   "outputs": [],
   "source": [
    "    addr = \"Dnz2w5wxrTRVyPvYZgAuEPBkV5kDFUeCFy1XieCJrBuE\"\n",
    "    query = \"\"\"https://solana-stream-dev-ztbl.ue1-eks-0.prod-czff.zettablock.dev/graphql?query={userTransactions(userAddress:\\\"%s\\\"){Hash,Amount,Decimal,InstructionAction,InstructionIndex,InnerIndex,UserAddress,Timestamp,UnixTime,CurrencyName,CurrencyAddress,SenderAddress,SenderTokenMint,ReceiverAddress,UserAction,GlobalID,VaultAuthority,ShareTokenMint,DepositTokenSymbol,DepositTokenCoingeckoId}}\"\"\"\n",
    "\n",
    "    x = pd.DataFrame(json.loads(requests.get(query%addr).content)[\"userTransactions\"])\n",
    "\n",
    "    cutoff = 165180960000\n",
    "\n",
    "    df = x.loc[x.UnixTime < cutoff].loc[x.GlobalID == globalId]\n",
    "\n",
    "    df = df.sort_values(\"UnixTime\")\n",
    "\n",
    "    shareprice[\"timestamp\"] = shareprice[0].astype('int')\n",
    "    shareprice[\"sharePrice\"] = shareprice[1]\n",
    "\n",
    "    asimov = pd.merge_asof(df, shareprice,  left_on=\"UnixTime\", right_on=\"timestamp\", direction='forward')\n",
    "    asimov = asimov.sort_values(\"timestamp\").drop_duplicates(subset = ['Hash', 'UserAction'], keep='first')\n",
    "    pos = asimov.query(\"UserAction=='Deposit'\")\n",
    "    pos = (pos.Amount/pos.sharePrice/10**pos.Decimal).sum()\n",
    "\n",
    "    pos2 = asimov.query(\"UserAction == 'CancelPendingWithdrawal'\")\n",
    "    if pos2.empty:\n",
    "        pos2 = 0\n",
    "    else:\n",
    "        pos2 = (pos2.Amount/10**pos2.Decimal).sum()\n",
    "\n",
    "    neg = asimov.query(\"UserAction=='Withdraw'\")\n",
    "    if neg.empty:\n",
    "        neg = 0\n",
    "    else:\n",
    "        neg = (neg.Amount/10**neg.Decimal).sum()\n",
    "\n",
    "    neg2 = asimov.query(\"UserAction=='CancelPendingDeposit'\")\n",
    "    if neg2.empty:\n",
    "        neg2 = 0\n",
    "    else:\n",
    "        neg2= (neg2.Amount*neg2.sharePrice/10**neg2.Decimal).sum()\n",
    "\n",
    "    amount = pos+pos2-neg-neg2\n",
    "    \n",
    "    res[addr] = amount"
   ]
  },
  {
   "cell_type": "code",
   "execution_count": 89,
   "id": "fd7e25ab",
   "metadata": {},
   "outputs": [
    {
     "data": {
      "text/html": [
       "<div>\n",
       "<style scoped>\n",
       "    .dataframe tbody tr th:only-of-type {\n",
       "        vertical-align: middle;\n",
       "    }\n",
       "\n",
       "    .dataframe tbody tr th {\n",
       "        vertical-align: top;\n",
       "    }\n",
       "\n",
       "    .dataframe thead th {\n",
       "        text-align: right;\n",
       "    }\n",
       "</style>\n",
       "<table border=\"1\" class=\"dataframe\">\n",
       "  <thead>\n",
       "    <tr style=\"text-align: right;\">\n",
       "      <th></th>\n",
       "      <th>Amount</th>\n",
       "      <th>CurrencyAddress</th>\n",
       "      <th>CurrencyName</th>\n",
       "      <th>Decimal</th>\n",
       "      <th>DepositTokenCoingeckoId</th>\n",
       "      <th>DepositTokenSymbol</th>\n",
       "      <th>GlobalID</th>\n",
       "      <th>Hash</th>\n",
       "      <th>InnerIndex</th>\n",
       "      <th>InstructionAction</th>\n",
       "      <th>InstructionIndex</th>\n",
       "      <th>ReceiverAddress</th>\n",
       "      <th>SenderAddress</th>\n",
       "      <th>SenderTokenMint</th>\n",
       "      <th>ShareTokenMint</th>\n",
       "      <th>Timestamp</th>\n",
       "      <th>UnixTime</th>\n",
       "      <th>UserAction</th>\n",
       "      <th>UserAddress</th>\n",
       "      <th>VaultAuthority</th>\n",
       "    </tr>\n",
       "  </thead>\n",
       "  <tbody>\n",
       "    <tr>\n",
       "      <th>13</th>\n",
       "      <td>20004106</td>\n",
       "      <td>9vMJfxuKxXBoEa7rM12mYLMwTacLMLDJqHozw96WQL8i</td>\n",
       "      <td>UST (Wormhole)</td>\n",
       "      <td>6</td>\n",
       "      <td>terrausd</td>\n",
       "      <td>UST</td>\n",
       "      <td>mainnet_income_put_luna</td>\n",
       "      <td>ai9gLTTwH1rkhhbYkM6XHaBhb84VTotE1yT9dAxFu7AB1B...</td>\n",
       "      <td>1</td>\n",
       "      <td>Transfer</td>\n",
       "      <td>1</td>\n",
       "      <td>5kA7FPiB3t2X5s65dK1AoEu5asDjC5d7f5vaB4iY2yrj</td>\n",
       "      <td>Dnz2w5wxrTRVyPvYZgAuEPBkV5kDFUeCFy1XieCJrBuE</td>\n",
       "      <td>4z8brRdRougR1Lkyfd49noxMYGE67Vbw4pW9eqQePz6H</td>\n",
       "      <td>74ozhToAS71nDVBtFZMMucdkNB95tV2o5fhtFGQeixwS</td>\n",
       "      <td>2022-03-31T18:03:16Z</td>\n",
       "      <td>1648749796</td>\n",
       "      <td>Deposit</td>\n",
       "      <td>Dnz2w5wxrTRVyPvYZgAuEPBkV5kDFUeCFy1XieCJrBuE</td>\n",
       "      <td>5kA7FPiB3t2X5s65dK1AoEu5asDjC5d7f5vaB4iY2yrj</td>\n",
       "    </tr>\n",
       "    <tr>\n",
       "      <th>6</th>\n",
       "      <td>2300000000000</td>\n",
       "      <td>9vMJfxuKxXBoEa7rM12mYLMwTacLMLDJqHozw96WQL8i</td>\n",
       "      <td>UST (Wormhole)</td>\n",
       "      <td>6</td>\n",
       "      <td>terrausd</td>\n",
       "      <td>UST</td>\n",
       "      <td>mainnet_income_put_luna</td>\n",
       "      <td>3Pu7r5sJs75nr6VPmAo8BAFt7bZcYkp9jAcYo1Sd7s5oWb...</td>\n",
       "      <td>0</td>\n",
       "      <td>Transfer</td>\n",
       "      <td>1</td>\n",
       "      <td>5kA7FPiB3t2X5s65dK1AoEu5asDjC5d7f5vaB4iY2yrj</td>\n",
       "      <td>Dnz2w5wxrTRVyPvYZgAuEPBkV5kDFUeCFy1XieCJrBuE</td>\n",
       "      <td>4z8brRdRougR1Lkyfd49noxMYGE67Vbw4pW9eqQePz6H</td>\n",
       "      <td>74ozhToAS71nDVBtFZMMucdkNB95tV2o5fhtFGQeixwS</td>\n",
       "      <td>2022-04-04T20:46:01Z</td>\n",
       "      <td>1649105161</td>\n",
       "      <td>Deposit</td>\n",
       "      <td>Dnz2w5wxrTRVyPvYZgAuEPBkV5kDFUeCFy1XieCJrBuE</td>\n",
       "      <td>5kA7FPiB3t2X5s65dK1AoEu5asDjC5d7f5vaB4iY2yrj</td>\n",
       "    </tr>\n",
       "  </tbody>\n",
       "</table>\n",
       "</div>"
      ],
      "text/plain": [
       "           Amount                               CurrencyAddress  \\\n",
       "13       20004106  9vMJfxuKxXBoEa7rM12mYLMwTacLMLDJqHozw96WQL8i   \n",
       "6   2300000000000  9vMJfxuKxXBoEa7rM12mYLMwTacLMLDJqHozw96WQL8i   \n",
       "\n",
       "      CurrencyName  Decimal DepositTokenCoingeckoId DepositTokenSymbol  \\\n",
       "13  UST (Wormhole)        6                terrausd                UST   \n",
       "6   UST (Wormhole)        6                terrausd                UST   \n",
       "\n",
       "                   GlobalID  \\\n",
       "13  mainnet_income_put_luna   \n",
       "6   mainnet_income_put_luna   \n",
       "\n",
       "                                                 Hash  InnerIndex  \\\n",
       "13  ai9gLTTwH1rkhhbYkM6XHaBhb84VTotE1yT9dAxFu7AB1B...           1   \n",
       "6   3Pu7r5sJs75nr6VPmAo8BAFt7bZcYkp9jAcYo1Sd7s5oWb...           0   \n",
       "\n",
       "   InstructionAction  InstructionIndex  \\\n",
       "13          Transfer                 1   \n",
       "6           Transfer                 1   \n",
       "\n",
       "                                 ReceiverAddress  \\\n",
       "13  5kA7FPiB3t2X5s65dK1AoEu5asDjC5d7f5vaB4iY2yrj   \n",
       "6   5kA7FPiB3t2X5s65dK1AoEu5asDjC5d7f5vaB4iY2yrj   \n",
       "\n",
       "                                   SenderAddress  \\\n",
       "13  Dnz2w5wxrTRVyPvYZgAuEPBkV5kDFUeCFy1XieCJrBuE   \n",
       "6   Dnz2w5wxrTRVyPvYZgAuEPBkV5kDFUeCFy1XieCJrBuE   \n",
       "\n",
       "                                 SenderTokenMint  \\\n",
       "13  4z8brRdRougR1Lkyfd49noxMYGE67Vbw4pW9eqQePz6H   \n",
       "6   4z8brRdRougR1Lkyfd49noxMYGE67Vbw4pW9eqQePz6H   \n",
       "\n",
       "                                  ShareTokenMint             Timestamp  \\\n",
       "13  74ozhToAS71nDVBtFZMMucdkNB95tV2o5fhtFGQeixwS  2022-03-31T18:03:16Z   \n",
       "6   74ozhToAS71nDVBtFZMMucdkNB95tV2o5fhtFGQeixwS  2022-04-04T20:46:01Z   \n",
       "\n",
       "      UnixTime UserAction                                   UserAddress  \\\n",
       "13  1648749796    Deposit  Dnz2w5wxrTRVyPvYZgAuEPBkV5kDFUeCFy1XieCJrBuE   \n",
       "6   1649105161    Deposit  Dnz2w5wxrTRVyPvYZgAuEPBkV5kDFUeCFy1XieCJrBuE   \n",
       "\n",
       "                                  VaultAuthority  \n",
       "13  5kA7FPiB3t2X5s65dK1AoEu5asDjC5d7f5vaB4iY2yrj  \n",
       "6   5kA7FPiB3t2X5s65dK1AoEu5asDjC5d7f5vaB4iY2yrj  "
      ]
     },
     "execution_count": 89,
     "metadata": {},
     "output_type": "execute_result"
    }
   ],
   "source": [
    "df"
   ]
  },
  {
   "cell_type": "code",
   "execution_count": 78,
   "id": "2a526e8e",
   "metadata": {},
   "outputs": [
    {
     "data": {
      "text/html": [
       "<div>\n",
       "<style scoped>\n",
       "    .dataframe tbody tr th:only-of-type {\n",
       "        vertical-align: middle;\n",
       "    }\n",
       "\n",
       "    .dataframe tbody tr th {\n",
       "        vertical-align: top;\n",
       "    }\n",
       "\n",
       "    .dataframe thead th {\n",
       "        text-align: right;\n",
       "    }\n",
       "</style>\n",
       "<table border=\"1\" class=\"dataframe\">\n",
       "  <thead>\n",
       "    <tr style=\"text-align: right;\">\n",
       "      <th></th>\n",
       "      <th>Amount</th>\n",
       "      <th>CurrencyAddress</th>\n",
       "      <th>CurrencyName</th>\n",
       "      <th>Decimal</th>\n",
       "      <th>DepositTokenCoingeckoId</th>\n",
       "      <th>DepositTokenSymbol</th>\n",
       "      <th>GlobalID</th>\n",
       "      <th>Hash</th>\n",
       "      <th>InnerIndex</th>\n",
       "      <th>InstructionAction</th>\n",
       "      <th>...</th>\n",
       "      <th>ShareTokenMint</th>\n",
       "      <th>Timestamp</th>\n",
       "      <th>UnixTime</th>\n",
       "      <th>UserAction</th>\n",
       "      <th>UserAddress</th>\n",
       "      <th>VaultAuthority</th>\n",
       "      <th>0</th>\n",
       "      <th>1</th>\n",
       "      <th>timestamp</th>\n",
       "      <th>sharePrice</th>\n",
       "    </tr>\n",
       "  </thead>\n",
       "  <tbody>\n",
       "    <tr>\n",
       "      <th>0</th>\n",
       "      <td>1000000</td>\n",
       "      <td>F6v4wfAdJB8D8p77bMXZgYt8TDKsYxLYxH5AFhUkYx9W</td>\n",
       "      <td>LUNA (Wormhole)</td>\n",
       "      <td>6</td>\n",
       "      <td>terra-luna</td>\n",
       "      <td>LUNA</td>\n",
       "      <td>mainnet_income_call_luna</td>\n",
       "      <td>59PPj5aoq12bxZrWC7xBHHNmw66o2aDiH2g2o1KoDG26Lb...</td>\n",
       "      <td>1</td>\n",
       "      <td>Transfer</td>\n",
       "      <td>...</td>\n",
       "      <td>95sn4kgeJnnBfRCD8S2quu4HS9Y6vb7JDuXrarnmEjYE</td>\n",
       "      <td>2022-02-04T18:14:09Z</td>\n",
       "      <td>1643998449</td>\n",
       "      <td>Deposit</td>\n",
       "      <td>HdaigHQuEdsR6LsXZbgT37ohcbs1ZxEtSR2cudpWzZ2S</td>\n",
       "      <td>5oV1Yf8q1oQgPYuHjepjmKFuaG2Wng9dzTqbSWhU5W2X</td>\n",
       "      <td>1.644547e+09</td>\n",
       "      <td>1.056219</td>\n",
       "      <td>1644546713</td>\n",
       "      <td>1.056219</td>\n",
       "    </tr>\n",
       "    <tr>\n",
       "      <th>1</th>\n",
       "      <td>7000000</td>\n",
       "      <td>F6v4wfAdJB8D8p77bMXZgYt8TDKsYxLYxH5AFhUkYx9W</td>\n",
       "      <td>LUNA (Wormhole)</td>\n",
       "      <td>6</td>\n",
       "      <td>terra-luna</td>\n",
       "      <td>LUNA</td>\n",
       "      <td>mainnet_income_call_luna</td>\n",
       "      <td>4Kbe3pEGz3gpR3whyjoBP7sktEd5cAf9UraLbNGUZd3WE9...</td>\n",
       "      <td>0</td>\n",
       "      <td>Transfer</td>\n",
       "      <td>...</td>\n",
       "      <td>95sn4kgeJnnBfRCD8S2quu4HS9Y6vb7JDuXrarnmEjYE</td>\n",
       "      <td>2022-02-04T18:32:15Z</td>\n",
       "      <td>1643999535</td>\n",
       "      <td>Deposit</td>\n",
       "      <td>HdaigHQuEdsR6LsXZbgT37ohcbs1ZxEtSR2cudpWzZ2S</td>\n",
       "      <td>5oV1Yf8q1oQgPYuHjepjmKFuaG2Wng9dzTqbSWhU5W2X</td>\n",
       "      <td>1.644547e+09</td>\n",
       "      <td>1.056219</td>\n",
       "      <td>1644546713</td>\n",
       "      <td>1.056219</td>\n",
       "    </tr>\n",
       "    <tr>\n",
       "      <th>2</th>\n",
       "      <td>1098491</td>\n",
       "      <td>F6v4wfAdJB8D8p77bMXZgYt8TDKsYxLYxH5AFhUkYx9W</td>\n",
       "      <td>LUNA (Wormhole)</td>\n",
       "      <td>6</td>\n",
       "      <td>terra-luna</td>\n",
       "      <td>LUNA</td>\n",
       "      <td>mainnet_income_call_luna</td>\n",
       "      <td>3p6PgCeuKUg4WnTqQRmuQhBg974Hqwme9nGuCteJNdqVjF...</td>\n",
       "      <td>0</td>\n",
       "      <td>Transfer</td>\n",
       "      <td>...</td>\n",
       "      <td>95sn4kgeJnnBfRCD8S2quu4HS9Y6vb7JDuXrarnmEjYE</td>\n",
       "      <td>2022-02-13T03:45:15Z</td>\n",
       "      <td>1644723915</td>\n",
       "      <td>Deposit</td>\n",
       "      <td>HdaigHQuEdsR6LsXZbgT37ohcbs1ZxEtSR2cudpWzZ2S</td>\n",
       "      <td>5oV1Yf8q1oQgPYuHjepjmKFuaG2Wng9dzTqbSWhU5W2X</td>\n",
       "      <td>1.645152e+09</td>\n",
       "      <td>1.068417</td>\n",
       "      <td>1645152424</td>\n",
       "      <td>1.068417</td>\n",
       "    </tr>\n",
       "    <tr>\n",
       "      <th>3</th>\n",
       "      <td>992881</td>\n",
       "      <td>95sn4kgeJnnBfRCD8S2quu4HS9Y6vb7JDuXrarnmEjYE</td>\n",
       "      <td></td>\n",
       "      <td>6</td>\n",
       "      <td>terra-luna</td>\n",
       "      <td>LUNA</td>\n",
       "      <td>mainnet_income_call_luna</td>\n",
       "      <td>UNyr2X8WuBF3sjnsRQjXrjaidZnVefbnvCbeVPMcN51Mbn...</td>\n",
       "      <td>1</td>\n",
       "      <td>Burn</td>\n",
       "      <td>...</td>\n",
       "      <td>95sn4kgeJnnBfRCD8S2quu4HS9Y6vb7JDuXrarnmEjYE</td>\n",
       "      <td>2022-03-17T15:32:46Z</td>\n",
       "      <td>1647531166</td>\n",
       "      <td>Withdraw</td>\n",
       "      <td>HdaigHQuEdsR6LsXZbgT37ohcbs1ZxEtSR2cudpWzZ2S</td>\n",
       "      <td>5oV1Yf8q1oQgPYuHjepjmKFuaG2Wng9dzTqbSWhU5W2X</td>\n",
       "      <td>1.647572e+09</td>\n",
       "      <td>1.010797</td>\n",
       "      <td>1647572109</td>\n",
       "      <td>1.010797</td>\n",
       "    </tr>\n",
       "    <tr>\n",
       "      <th>4</th>\n",
       "      <td>1002597</td>\n",
       "      <td>F6v4wfAdJB8D8p77bMXZgYt8TDKsYxLYxH5AFhUkYx9W</td>\n",
       "      <td>LUNA (Wormhole)</td>\n",
       "      <td>6</td>\n",
       "      <td>terra-luna</td>\n",
       "      <td>LUNA</td>\n",
       "      <td>mainnet_income_call_luna</td>\n",
       "      <td>3nQVXWanrC9FhjpgUKxdZ7BGkphNme2hzSphfs3RYim1WW...</td>\n",
       "      <td>0</td>\n",
       "      <td>Transfer</td>\n",
       "      <td>...</td>\n",
       "      <td>95sn4kgeJnnBfRCD8S2quu4HS9Y6vb7JDuXrarnmEjYE</td>\n",
       "      <td>2022-03-23T12:59:20Z</td>\n",
       "      <td>1648040360</td>\n",
       "      <td>ClaimPendingWithdrawal</td>\n",
       "      <td>HdaigHQuEdsR6LsXZbgT37ohcbs1ZxEtSR2cudpWzZ2S</td>\n",
       "      <td>5oV1Yf8q1oQgPYuHjepjmKFuaG2Wng9dzTqbSWhU5W2X</td>\n",
       "      <td>1.648180e+09</td>\n",
       "      <td>1.016702</td>\n",
       "      <td>1648179512</td>\n",
       "      <td>1.016702</td>\n",
       "    </tr>\n",
       "    <tr>\n",
       "      <th>5</th>\n",
       "      <td>304384</td>\n",
       "      <td>F6v4wfAdJB8D8p77bMXZgYt8TDKsYxLYxH5AFhUkYx9W</td>\n",
       "      <td>LUNA (Wormhole)</td>\n",
       "      <td>6</td>\n",
       "      <td>terra-luna</td>\n",
       "      <td>LUNA</td>\n",
       "      <td>mainnet_income_call_luna</td>\n",
       "      <td>2SaUaTQ4L5CBoB3oSUaXtWjrLepXFrbP8M6Cea3CHkZHif...</td>\n",
       "      <td>0</td>\n",
       "      <td>Transfer</td>\n",
       "      <td>...</td>\n",
       "      <td>95sn4kgeJnnBfRCD8S2quu4HS9Y6vb7JDuXrarnmEjYE</td>\n",
       "      <td>2022-03-23T13:12:17Z</td>\n",
       "      <td>1648041137</td>\n",
       "      <td>Deposit</td>\n",
       "      <td>HdaigHQuEdsR6LsXZbgT37ohcbs1ZxEtSR2cudpWzZ2S</td>\n",
       "      <td>5oV1Yf8q1oQgPYuHjepjmKFuaG2Wng9dzTqbSWhU5W2X</td>\n",
       "      <td>1.648180e+09</td>\n",
       "      <td>1.016702</td>\n",
       "      <td>1648179512</td>\n",
       "      <td>1.016702</td>\n",
       "    </tr>\n",
       "    <tr>\n",
       "      <th>6</th>\n",
       "      <td>7908837</td>\n",
       "      <td>95sn4kgeJnnBfRCD8S2quu4HS9Y6vb7JDuXrarnmEjYE</td>\n",
       "      <td></td>\n",
       "      <td>6</td>\n",
       "      <td>terra-luna</td>\n",
       "      <td>LUNA</td>\n",
       "      <td>mainnet_income_call_luna</td>\n",
       "      <td>2uEKPpivnvAavdsLvfT66wNUFV393YsUc62sT3WczYkxf1...</td>\n",
       "      <td>0</td>\n",
       "      <td>Burn</td>\n",
       "      <td>...</td>\n",
       "      <td>95sn4kgeJnnBfRCD8S2quu4HS9Y6vb7JDuXrarnmEjYE</td>\n",
       "      <td>2022-03-31T01:58:37Z</td>\n",
       "      <td>1648691917</td>\n",
       "      <td>Withdraw</td>\n",
       "      <td>HdaigHQuEdsR6LsXZbgT37ohcbs1ZxEtSR2cudpWzZ2S</td>\n",
       "      <td>5oV1Yf8q1oQgPYuHjepjmKFuaG2Wng9dzTqbSWhU5W2X</td>\n",
       "      <td>1.648788e+09</td>\n",
       "      <td>1.019346</td>\n",
       "      <td>1648788461</td>\n",
       "      <td>1.019346</td>\n",
       "    </tr>\n",
       "  </tbody>\n",
       "</table>\n",
       "<p>7 rows × 24 columns</p>\n",
       "</div>"
      ],
      "text/plain": [
       "    Amount                               CurrencyAddress     CurrencyName  \\\n",
       "0  1000000  F6v4wfAdJB8D8p77bMXZgYt8TDKsYxLYxH5AFhUkYx9W  LUNA (Wormhole)   \n",
       "1  7000000  F6v4wfAdJB8D8p77bMXZgYt8TDKsYxLYxH5AFhUkYx9W  LUNA (Wormhole)   \n",
       "2  1098491  F6v4wfAdJB8D8p77bMXZgYt8TDKsYxLYxH5AFhUkYx9W  LUNA (Wormhole)   \n",
       "3   992881  95sn4kgeJnnBfRCD8S2quu4HS9Y6vb7JDuXrarnmEjYE                    \n",
       "4  1002597  F6v4wfAdJB8D8p77bMXZgYt8TDKsYxLYxH5AFhUkYx9W  LUNA (Wormhole)   \n",
       "5   304384  F6v4wfAdJB8D8p77bMXZgYt8TDKsYxLYxH5AFhUkYx9W  LUNA (Wormhole)   \n",
       "6  7908837  95sn4kgeJnnBfRCD8S2quu4HS9Y6vb7JDuXrarnmEjYE                    \n",
       "\n",
       "   Decimal DepositTokenCoingeckoId DepositTokenSymbol  \\\n",
       "0        6              terra-luna               LUNA   \n",
       "1        6              terra-luna               LUNA   \n",
       "2        6              terra-luna               LUNA   \n",
       "3        6              terra-luna               LUNA   \n",
       "4        6              terra-luna               LUNA   \n",
       "5        6              terra-luna               LUNA   \n",
       "6        6              terra-luna               LUNA   \n",
       "\n",
       "                   GlobalID  \\\n",
       "0  mainnet_income_call_luna   \n",
       "1  mainnet_income_call_luna   \n",
       "2  mainnet_income_call_luna   \n",
       "3  mainnet_income_call_luna   \n",
       "4  mainnet_income_call_luna   \n",
       "5  mainnet_income_call_luna   \n",
       "6  mainnet_income_call_luna   \n",
       "\n",
       "                                                Hash  InnerIndex  \\\n",
       "0  59PPj5aoq12bxZrWC7xBHHNmw66o2aDiH2g2o1KoDG26Lb...           1   \n",
       "1  4Kbe3pEGz3gpR3whyjoBP7sktEd5cAf9UraLbNGUZd3WE9...           0   \n",
       "2  3p6PgCeuKUg4WnTqQRmuQhBg974Hqwme9nGuCteJNdqVjF...           0   \n",
       "3  UNyr2X8WuBF3sjnsRQjXrjaidZnVefbnvCbeVPMcN51Mbn...           1   \n",
       "4  3nQVXWanrC9FhjpgUKxdZ7BGkphNme2hzSphfs3RYim1WW...           0   \n",
       "5  2SaUaTQ4L5CBoB3oSUaXtWjrLepXFrbP8M6Cea3CHkZHif...           0   \n",
       "6  2uEKPpivnvAavdsLvfT66wNUFV393YsUc62sT3WczYkxf1...           0   \n",
       "\n",
       "  InstructionAction  ...                                ShareTokenMint  \\\n",
       "0          Transfer  ...  95sn4kgeJnnBfRCD8S2quu4HS9Y6vb7JDuXrarnmEjYE   \n",
       "1          Transfer  ...  95sn4kgeJnnBfRCD8S2quu4HS9Y6vb7JDuXrarnmEjYE   \n",
       "2          Transfer  ...  95sn4kgeJnnBfRCD8S2quu4HS9Y6vb7JDuXrarnmEjYE   \n",
       "3              Burn  ...  95sn4kgeJnnBfRCD8S2quu4HS9Y6vb7JDuXrarnmEjYE   \n",
       "4          Transfer  ...  95sn4kgeJnnBfRCD8S2quu4HS9Y6vb7JDuXrarnmEjYE   \n",
       "5          Transfer  ...  95sn4kgeJnnBfRCD8S2quu4HS9Y6vb7JDuXrarnmEjYE   \n",
       "6              Burn  ...  95sn4kgeJnnBfRCD8S2quu4HS9Y6vb7JDuXrarnmEjYE   \n",
       "\n",
       "              Timestamp    UnixTime              UserAction  \\\n",
       "0  2022-02-04T18:14:09Z  1643998449                 Deposit   \n",
       "1  2022-02-04T18:32:15Z  1643999535                 Deposit   \n",
       "2  2022-02-13T03:45:15Z  1644723915                 Deposit   \n",
       "3  2022-03-17T15:32:46Z  1647531166                Withdraw   \n",
       "4  2022-03-23T12:59:20Z  1648040360  ClaimPendingWithdrawal   \n",
       "5  2022-03-23T13:12:17Z  1648041137                 Deposit   \n",
       "6  2022-03-31T01:58:37Z  1648691917                Withdraw   \n",
       "\n",
       "                                    UserAddress  \\\n",
       "0  HdaigHQuEdsR6LsXZbgT37ohcbs1ZxEtSR2cudpWzZ2S   \n",
       "1  HdaigHQuEdsR6LsXZbgT37ohcbs1ZxEtSR2cudpWzZ2S   \n",
       "2  HdaigHQuEdsR6LsXZbgT37ohcbs1ZxEtSR2cudpWzZ2S   \n",
       "3  HdaigHQuEdsR6LsXZbgT37ohcbs1ZxEtSR2cudpWzZ2S   \n",
       "4  HdaigHQuEdsR6LsXZbgT37ohcbs1ZxEtSR2cudpWzZ2S   \n",
       "5  HdaigHQuEdsR6LsXZbgT37ohcbs1ZxEtSR2cudpWzZ2S   \n",
       "6  HdaigHQuEdsR6LsXZbgT37ohcbs1ZxEtSR2cudpWzZ2S   \n",
       "\n",
       "                                 VaultAuthority             0         1  \\\n",
       "0  5oV1Yf8q1oQgPYuHjepjmKFuaG2Wng9dzTqbSWhU5W2X  1.644547e+09  1.056219   \n",
       "1  5oV1Yf8q1oQgPYuHjepjmKFuaG2Wng9dzTqbSWhU5W2X  1.644547e+09  1.056219   \n",
       "2  5oV1Yf8q1oQgPYuHjepjmKFuaG2Wng9dzTqbSWhU5W2X  1.645152e+09  1.068417   \n",
       "3  5oV1Yf8q1oQgPYuHjepjmKFuaG2Wng9dzTqbSWhU5W2X  1.647572e+09  1.010797   \n",
       "4  5oV1Yf8q1oQgPYuHjepjmKFuaG2Wng9dzTqbSWhU5W2X  1.648180e+09  1.016702   \n",
       "5  5oV1Yf8q1oQgPYuHjepjmKFuaG2Wng9dzTqbSWhU5W2X  1.648180e+09  1.016702   \n",
       "6  5oV1Yf8q1oQgPYuHjepjmKFuaG2Wng9dzTqbSWhU5W2X  1.648788e+09  1.019346   \n",
       "\n",
       "    timestamp sharePrice  \n",
       "0  1644546713   1.056219  \n",
       "1  1644546713   1.056219  \n",
       "2  1645152424   1.068417  \n",
       "3  1647572109   1.010797  \n",
       "4  1648179512   1.016702  \n",
       "5  1648179512   1.016702  \n",
       "6  1648788461   1.019346  \n",
       "\n",
       "[7 rows x 24 columns]"
      ]
     },
     "execution_count": 78,
     "metadata": {},
     "output_type": "execute_result"
    }
   ],
   "source": [
    "asimov"
   ]
  },
  {
   "cell_type": "code",
   "execution_count": 50,
   "id": "bc2d0e57",
   "metadata": {},
   "outputs": [
    {
     "data": {
      "text/html": [
       "<div>\n",
       "<style scoped>\n",
       "    .dataframe tbody tr th:only-of-type {\n",
       "        vertical-align: middle;\n",
       "    }\n",
       "\n",
       "    .dataframe tbody tr th {\n",
       "        vertical-align: top;\n",
       "    }\n",
       "\n",
       "    .dataframe thead th {\n",
       "        text-align: right;\n",
       "    }\n",
       "</style>\n",
       "<table border=\"1\" class=\"dataframe\">\n",
       "  <thead>\n",
       "    <tr style=\"text-align: right;\">\n",
       "      <th></th>\n",
       "      <th>timestamp</th>\n",
       "      <th>UnixTime</th>\n",
       "    </tr>\n",
       "  </thead>\n",
       "  <tbody>\n",
       "    <tr>\n",
       "      <th>0</th>\n",
       "      <td>1640931286</td>\n",
       "      <td>0</td>\n",
       "    </tr>\n",
       "  </tbody>\n",
       "</table>\n",
       "</div>"
      ],
      "text/plain": [
       "    timestamp  UnixTime\n",
       "0  1640931286         0"
      ]
     },
     "execution_count": 50,
     "metadata": {},
     "output_type": "execute_result"
    }
   ],
   "source": [
    "asimov.sort_values(\"timestamp\").drop_duplicates(subset = ['Hash', 'UserAction'], keep='first')[[\"timestamp\", \"UnixTime\"]].fillna(0).astype('int')"
   ]
  },
  {
   "cell_type": "code",
   "execution_count": null,
   "id": "9859e125",
   "metadata": {},
   "outputs": [],
   "source": []
  },
  {
   "cell_type": "code",
   "execution_count": 44,
   "id": "9d7ec620",
   "metadata": {},
   "outputs": [
    {
     "data": {
      "text/plain": [
       "Index([                        0,                         1,\n",
       "                     'timestamp',              'sharePrice',\n",
       "                        'Amount',         'CurrencyAddress',\n",
       "                  'CurrencyName',                 'Decimal',\n",
       "       'DepositTokenCoingeckoId',      'DepositTokenSymbol',\n",
       "                      'GlobalID',                    'Hash',\n",
       "                    'InnerIndex',       'InstructionAction',\n",
       "              'InstructionIndex',         'ReceiverAddress',\n",
       "                 'SenderAddress',         'SenderTokenMint',\n",
       "                'ShareTokenMint',               'Timestamp',\n",
       "                      'UnixTime',              'UserAction',\n",
       "                   'UserAddress',          'VaultAuthority'],\n",
       "      dtype='object')"
      ]
     },
     "execution_count": 44,
     "metadata": {},
     "output_type": "execute_result"
    }
   ],
   "source": [
    "asimov.columns"
   ]
  },
  {
   "cell_type": "code",
   "execution_count": 20,
   "id": "f064432a",
   "metadata": {},
   "outputs": [
    {
     "data": {
      "text/plain": [
       "-208.58390497893265"
      ]
     },
     "execution_count": 20,
     "metadata": {},
     "output_type": "execute_result"
    }
   ],
   "source": [
    "amount"
   ]
  },
  {
   "cell_type": "code",
   "execution_count": 21,
   "id": "6d312813",
   "metadata": {},
   "outputs": [
    {
     "ename": "SyntaxError",
     "evalue": "invalid syntax (3961119424.py, line 1)",
     "output_type": "error",
     "traceback": [
      "\u001b[0;36m  File \u001b[0;32m\"/var/folders/t5/lm3g0brx0dsf0ymt1ldc8xdr0000gp/T/ipykernel_1019/3961119424.py\"\u001b[0;36m, line \u001b[0;32m1\u001b[0m\n\u001b[0;31m    df.Amount*\u001b[0m\n\u001b[0m              ^\u001b[0m\n\u001b[0;31mSyntaxError\u001b[0m\u001b[0;31m:\u001b[0m invalid syntax\n"
     ]
    }
   ],
   "source": [
    "df.Amount*"
   ]
  },
  {
   "cell_type": "code",
   "execution_count": 25,
   "id": "8c0b60e8",
   "metadata": {},
   "outputs": [],
   "source": [
    "pos = asimov.query(\"UserAction=='Deposit'\")"
   ]
  },
  {
   "cell_type": "code",
   "execution_count": 26,
   "id": "3865f692",
   "metadata": {},
   "outputs": [
    {
     "data": {
      "text/plain": [
       "128.45520002106738"
      ]
     },
     "execution_count": 26,
     "metadata": {},
     "output_type": "execute_result"
    }
   ],
   "source": [
    "(pos.Amount/pos.sharePrice.fillna(0)/10**pos.Decimal).sum()"
   ]
  },
  {
   "cell_type": "code",
   "execution_count": 28,
   "id": "3a03d0bd",
   "metadata": {},
   "outputs": [
    {
     "data": {
      "text/plain": [
       "1000000"
      ]
     },
     "execution_count": 28,
     "metadata": {},
     "output_type": "execute_result"
    }
   ],
   "source": [
    "10**6"
   ]
  },
  {
   "cell_type": "code",
   "execution_count": 30,
   "id": "91269428",
   "metadata": {},
   "outputs": [
    {
     "data": {
      "text/plain": [
       "0    210.209253\n",
       "1      0.092372\n",
       "2     66.613782\n",
       "4     40.000000\n",
       "5     23.000000\n",
       "Name: Amount, dtype: float64"
      ]
     },
     "execution_count": 30,
     "metadata": {},
     "output_type": "execute_result"
    }
   ],
   "source": [
    "pos.Amount/1000000"
   ]
  },
  {
   "cell_type": "code",
   "execution_count": 31,
   "id": "791384b1",
   "metadata": {},
   "outputs": [
    {
     "data": {
      "text/plain": [
       "0         NaN\n",
       "1         NaN\n",
       "2    1.000000\n",
       "4    1.018735\n",
       "5    1.018735\n",
       "Name: sharePrice, dtype: float64"
      ]
     },
     "execution_count": 31,
     "metadata": {},
     "output_type": "execute_result"
    }
   ],
   "source": [
    "pos.sharePrice"
   ]
  },
  {
   "cell_type": "code",
   "execution_count": 17,
   "id": "bcc7eded",
   "metadata": {},
   "outputs": [
    {
     "data": {
      "text/plain": [
       "61.348739"
      ]
     },
     "execution_count": 17,
     "metadata": {},
     "output_type": "execute_result"
    }
   ],
   "source": [
    "pos2"
   ]
  },
  {
   "cell_type": "code",
   "execution_count": 15,
   "id": "55509d6c",
   "metadata": {},
   "outputs": [
    {
     "data": {
      "text/plain": [
       "398.38784400000003"
      ]
     },
     "execution_count": 15,
     "metadata": {},
     "output_type": "execute_result"
    }
   ],
   "source": [
    "neg"
   ]
  },
  {
   "cell_type": "code",
   "execution_count": 9,
   "id": "d7f3fcca",
   "metadata": {},
   "outputs": [
    {
     "data": {
      "text/plain": [
       "0"
      ]
     },
     "execution_count": 9,
     "metadata": {},
     "output_type": "execute_result"
    }
   ],
   "source": [
    "neg2"
   ]
  },
  {
   "cell_type": "code",
   "execution_count": null,
   "id": "cb6049a3",
   "metadata": {},
   "outputs": [],
   "source": []
  }
 ],
 "metadata": {
  "kernelspec": {
   "display_name": "Python 3 (ipykernel)",
   "language": "python",
   "name": "python3"
  },
  "language_info": {
   "codemirror_mode": {
    "name": "ipython",
    "version": 3
   },
   "file_extension": ".py",
   "mimetype": "text/x-python",
   "name": "python",
   "nbconvert_exporter": "python",
   "pygments_lexer": "ipython3",
   "version": "3.8.9"
  }
 },
 "nbformat": 4,
 "nbformat_minor": 5
}
