{
 "cells": [
  {
   "cell_type": "code",
   "execution_count": 1,
   "id": "74d2d616",
   "metadata": {},
   "outputs": [],
   "source": [
    "\"\"\"\n",
    "Python script to scrape Friktion User Data from Bitquery GraphQL API.\n",
    "\n",
    "\"\"\"\n",
    "\n",
    "import json\n",
    "import requests\n",
    "import requests\n",
    "import traceback\n",
    "import time\n",
    "\n",
    "import numpy as np\n",
    "import pandas as pd\n",
    "from datetime import datetime\n",
    "import matplotlib.pyplot as plt\n",
    "from os.path import exists"
   ]
  },
  {
   "cell_type": "code",
   "execution_count": 56,
   "id": "ec404166",
   "metadata": {},
   "outputs": [],
   "source": [
    "globalId = \"mainnet_income_call_luna\"\n",
    "\n",
    "users = pd.read_csv(\"luna_call_addresses.csv\")\n",
    "\n",
    "shareprice = pd.read_json(f\"../derived_timeseries/{globalId}_sharePricesByGlobalId.json\")\n",
    "\n",
    "shareprice[0]/=1000"
   ]
  },
  {
   "cell_type": "code",
   "execution_count": 168,
   "id": "b39e1a2b",
   "metadata": {},
   "outputs": [],
   "source": [
    "res = {}"
   ]
  },
  {
   "cell_type": "code",
   "execution_count": 185,
   "id": "feff0e89",
   "metadata": {},
   "outputs": [],
   "source": [
    "def calc_amount(addr):\n",
    "    success = False\n",
    "    while not success:\n",
    "        try:\n",
    "            query = \"\"\"https://solana-stream-dev-ztbl.ue1-eks-0.prod-czff.zettablock.dev/graphql?query={userTransactions(userAddress:\\\"%s\\\"){Hash,Amount,Decimal,InstructionAction,InstructionIndex,InnerIndex,UserAddress,Timestamp,UnixTime,CurrencyName,CurrencyAddress,SenderAddress,SenderTokenMint,ReceiverAddress,UserAction,GlobalID,VaultAuthority,ShareTokenMint,DepositTokenSymbol,DepositTokenCoingeckoId}}\"\"\"\n",
    "            x = pd.DataFrame(json.loads(requests.get(query%addr).content)[\"userTransactions\"])\n",
    "            success = not x.empty\n",
    "        except Exception as e:\n",
    "            print(\"Failed... sleeping for 5\")\n",
    "            time.sleep(5)\n",
    "            continue\n",
    "            \n",
    "    cutoff = 1651802400\n",
    "\n",
    "    df = x.loc[x.UnixTime < cutoff].loc[x.GlobalID == globalId]\n",
    "\n",
    "    df = df.sort_values(\"UnixTime\")\n",
    "\n",
    "    shareprice[\"timestamp\"] = shareprice[0].astype('int')\n",
    "    shareprice[\"sharePrice\"] = shareprice[1]\n",
    "\n",
    "    asimov = pd.merge_asof(df, shareprice, left_on=\"UnixTime\", right_on=\"timestamp\")\n",
    "\n",
    "    pos = asimov.query(\"UserAction=='Deposit'\")\n",
    "    pos = (pos.Amount*pos.sharePrice/10**pos.Decimal).sum()\n",
    "\n",
    "    pos2 = asimov.query(\"UserAction == 'CancelPendingWithdraw'\")\n",
    "    if pos2.empty:\n",
    "        pos2 = 0\n",
    "    else:\n",
    "        pos2 = (pos2.Amount/10**pos2.Decimal).sum()\n",
    "\n",
    "    neg = asimov.query(\"UserAction=='Withdraw'\")\n",
    "    if neg.empty:\n",
    "        neg = 0\n",
    "    else:\n",
    "        neg = (neg.Amount/10**neg.Decimal).sum()\n",
    "\n",
    "    neg2 = asimov.query(\"UserAction=='CancelPendingDeposit'\")\n",
    "    if neg2.empty:\n",
    "        neg2 = 0\n",
    "    else:\n",
    "        neg2= (neg2.Amount*neg2.sharePrice/10**neg2.Decimal).sum()\n",
    "\n",
    "    amount = pos+pos2-neg-neg2\n",
    "    print(addr, amount)\n",
    "    res[addr] = amount"
   ]
  },
  {
   "cell_type": "code",
   "execution_count": null,
   "id": "082132fe",
   "metadata": {},
   "outputs": [
    {
     "name": "stdout",
     "output_type": "stream",
     "text": [
      "CQikhhQ9STuD1S3A45DGvUAtCdSs5pw2YwJ8Mk6U9Fs7 195.97417776146025\n",
      "ETv2idiPjun5RReJNSLBd2RUMcYSBMqjFQxhVpLeDqkm 11.084006874905258\n",
      "GZYHrKmMPQLrmVGw7PRny7tP9wQZnFCC5vYfuaQiVTdh 4.59754700000002\n",
      "24CoH2cYsEPv3EpigCUjsqs26n1XeDrtHug4kwX7UZGD 108.77665307938855\n",
      "8vRaeK5hp4T3n8vyzfeHkHaUYqsXRrWBiAh3DDBn9dqe 0.03151028386032351\n",
      "2TGaPLxbFVgp2T2UycxEexbifxGeKbQGDVfiy2xZnoMN 39.51572607598667\n",
      "E3Jwp134uzpA2MyCadYmeqWAxK8zDBmcNXTvSRrVK7EN 13.0976492239495\n",
      "BxC131fG5TgGE1Wek7WtU4cTJcHWAs5cTmEmnx5BmQus 3.440586813284971\n",
      "BRNYKBf4wSfV8iZRa64fmjaerVUJjE38zR1Jmb8kQFkE 10.084489286372714\n",
      "HdaigHQuEdsR6LsXZbgT37ohcbs1ZxEtSR2cudpWzZ2S 0.9959013211577119\n",
      "43o5vw2xsdC5qghLzrCrEB9z8Xz1JWFQU524nwAjFyKo 1.0336365757025625\n",
      "FPcL3sFutPQcV4hSvwBrhz19oJ6MNeGsaSMSYP1o4Rfh 55.03318797287034\n",
      "CTgwTfirY2dtLbEBKYFe3T9KmeDLtf6QrHmtuAMwDTsP 132.78717766346676\n",
      "7cqa7tPYNgWw8eRNDcBosEQxYJ4uKXfDMHFmBhxH3uQN 2.0428828490081017\n",
      "775ANAGx3kyFQV6YHvQXmfA7gB6DFkyojsQZXVdF4vwr 0.522967795138561\n",
      "E6JjHtYpJkZqaYXa2WDccS39wABSkvkjzhwhe28rVKeZ 0.12092856357906179\n",
      "7g2UxLyBrHMFpGHKi938Mr4zXp8zBKhV3KN8Gb6TATBT 10.361441983548952\n",
      "7FY5mjWJC2pxgQBS6tyAXHYUJMdL6Rq9ejWLt21iB9NL 16.587945999999988\n",
      "Dp6hdYiKLaNVwcYPXBERsThutY6UQaX4hP5UBa8iQg23 10.18734725302352\n",
      "7cicXjFKkmPNvLrpyfqP1mABLnT8UZr9tSFvC6ypccix 0.7301913664680661\n",
      "2vQAstUtByTJfnuWsoF5cVt6oBsfzEboaKfQNxMEzoTr 2.746986422518896\n",
      "AHkjmbB9Ty1uby964erLNEgUDSDiiaDbohVyR224eCYG -0.8919712012674947\n",
      "BxC131fG5TgGE1Wek7WtU4cTJcHWAs5cTmEmnx5BmQus 3.440586813284971\n",
      "G2aUAB7A6HLyLsabWfA1zJRTy7BfNfKJBcrVXmmpoHQR 0.2073906776357215\n",
      "74TEWNiHWwxzedz4kqjhWE9zb8aHE47DyHLdQ8JEEPnY 7.475368239509106\n",
      "2eSbj1qRaZ38XCbbmoXBvzaSjXMvyNd8aXW1gHm4qifa -3.5854725066544333\n",
      "Ch2r6gTY9kS6QasuacxTCD5kyPqyQ85fqwfGWpZy3WMy -267.59377430595185\n",
      "BXTLZRYixNymJXc15k96tPuoqwAj8oK7VZ6aejcD4Xg4 1.1111587439657171\n",
      "3qyzQNx1FEnk5XjfUVQeuCuyPg8zMh3GheadcgFWknwR 4.027811333459397\n",
      "BYCyJqhgpfdHFG82NJsHdvL6dpJhDCjhCmmqRDSjBmXB 2.861445933668027\n",
      "ETv2idiPjun5RReJNSLBd2RUMcYSBMqjFQxhVpLeDqkm 11.084006874905258\n",
      "7DUWP14kbwAdjcXJ4qezNWhiaF7VkFuPHaPGtfZHWeSU -881.2297925928672\n",
      "8Kk9qTyX8U76454QAueRsKxSLt4SwK8HHEH6WyEqBMjM 0.0\n",
      "BFaJuSN9SYQrDLF7PdV8NjsYf6jEdxKt49LwMCBwkgwc 93.5857540575736\n",
      "4W1h17fVq4eexNLUY3D3RBZ661AeVLgfhHqBtz6NkeUo -8.494557536910929\n",
      "4BjzQDeMAtL1vp8qQaAHRMhfXkmbyJzaMK1zMDRjD8mp 0.1018734725302352\n",
      "46NAjBDQZMQ3LW6kofZkYug2kLjDeiWW6ewUFAAMsB1S 3586.2541339823183\n",
      "9HjwETtADboQtnoHaYETUPBbv7tqt6PfYZpXJkVaBSep 20.36283320966838\n",
      "CDoKt4dsr2ucxtf9LCpa1gPdq2Fa1V1evu6Lawj1yfvY 11.405190672150951\n",
      "BHy4zdTN8Uur96EqGasAEd8En6v9Da3RFEMR6AWnpo63 51.11723133379792\n",
      "9eMU2jUUJo7RLDsFiumQ1DBffNCxwQC69NAfCMqWsqdq 4.1\n",
      "2giJncPE3qzhXwy9kWicun78CDECWKNyucZU77TMwqAy -6.028487182129273\n",
      "HFRjUoVVho1rDyK2TfuV97GnyEU316q7KDJCdt7XhvEv 0.4199895122178079\n",
      "CQikhhQ9STuD1S3A45DGvUAtCdSs5pw2YwJ8Mk6U9Fs7 195.97417776146025\n",
      "D9JHAEqeDQom6CtedSwkexQYeQRVYJ7hQeWFzKXK3VCU 0.01195400000000002\n",
      "77iRZBCmt27GkQ7eagC7dDShXuTucHtGsLHgmUW5RQYH 0.10206599999999977\n",
      "GohFH3q2TjLhpYRhatV2o7xezFeMFmRz2drVpdCqHNL1 12.97611227030835\n",
      "FBK68ee9NTjnwC1oAay9CQbPKEQeoeycjK4RNwkjzGk3 15.069410401829828\n",
      "HRqqFaNYGxGEMSZbECU3NDFUnQ4rriqy3BToKduSxFEh 1.7943769919624128\n",
      "HisQcQxxdSUTpMrPLQdwfvknBGheQqLUBpToQrVdngsq 18.024870474218574\n",
      "GaEnqRiSJunWTUPRmu5jPocAxAubC6mtCfR1ub1ptbdv 1.3896397315406261\n",
      "6izds6DGJnyMnbRzeCRSme3aJmCP7p8tzokanY92JD7b 0.14028446620232515\n",
      "s9u6Guq5MdKDEcyYCmz6XGeR4dHYwNWqk8LVHxs8R4y 0.36107684989667205\n",
      "7h4Vtp7cpSaXLVhVJv7wWBMts5dyrRLPEHRHMq5idZ85 1.037399825495834\n",
      "FDZzTbawNsDtt9uAfxUd91VqCuVfZxnFUabcza93X5vu 55.101277225860485\n",
      "DjFykgN7rTrumALiq9nxXjYUNYb3Ciunn39m3avDtEDP 0.6741788795352797\n",
      "8e39msK18Saboyvx2kH6kbx4YPJrujYHjaD3SNB8L6h7 6.043897482067692\n",
      "HujdR55NiQFahCYJ7vzpKhenagHc7oBsYZZRmrzzXVz2 1.3369676983046153\n",
      "2hCXhnXJEbWicUfgdDGsaPQuYcAo1MSn2qKEP11anMt1 0.33618245934977614\n",
      "6VbqEJ2VzbpnTpvSLwmk8yv87ZVb7Yjng2CqEFivXdw2 158.0963328956306\n",
      "bGnjF3w4dRU3MeZg5eXz1YiyjRSzLzH4bEoaNKTckSe 5.13457979157831\n",
      "27javo7PGk6ErQ2XH2zjgUbMWMMPykQPuQW5WwdcSFDd -99.46915035124314\n",
      "A6H48c775KFso9iV6PTQEec1yVbzHQcWgdFersvMqN2E 73.73334332837106\n",
      "9XJhF1Yrui9n9XQkkAWbHFr3eDSiVfX1WV1ov7hrYSVC 2.222867635491099\n",
      "3VzFsnqH5z5iuia2nQ8q6Zskhcz4nbV6UU1sScKKy8ni 6.458497601009518\n",
      "2FW7nPGesjzhJ7JSGx8DTQbDgtyKvy6MRWLvCNrzvw16 2.074799650991668\n"
     ]
    }
   ],
   "source": [
    "for addr in users.userAddress:\n",
    "    \n",
    "    calc_amount(addr)"
   ]
  },
  {
   "cell_type": "code",
   "execution_count": 178,
   "id": "2906adb7",
   "metadata": {},
   "outputs": [],
   "source": [
    "    addr = \"CDoKt4dsr2ucxtf9LCpa1gPdq2Fa1V1evu6Lawj1yfvY\"\n",
    "    query = \"\"\"https://solana-stream-dev-ztbl.ue1-eks-0.prod-czff.zettablock.dev/graphql?query={userTransactions(userAddress:\\\"%s\\\"){Hash,Amount,Decimal,InstructionAction,InstructionIndex,InnerIndex,UserAddress,Timestamp,UnixTime,CurrencyName,CurrencyAddress,SenderAddress,SenderTokenMint,ReceiverAddress,UserAction,GlobalID,VaultAuthority,ShareTokenMint,DepositTokenSymbol,DepositTokenCoingeckoId}}\"\"\"\n",
    "\n",
    "    x = pd.DataFrame(json.loads(requests.get(query%addr).content)[\"userTransactions\"])\n",
    "\n",
    "    cutoff = 1651802400\n",
    "\n",
    "    df = x.loc[x.UnixTime < cutoff].loc[x.GlobalID == globalId]\n",
    "\n",
    "    df = df.sort_values(\"UnixTime\")\n",
    "\n",
    "    shareprice[\"timestamp\"] = shareprice[0].astype('int')\n",
    "    shareprice[\"sharePrice\"] = shareprice[1]\n",
    "\n",
    "    asimov = pd.merge_asof(df, shareprice, left_on=\"UnixTime\", right_on=\"timestamp\")\n",
    "\n",
    "    pos = asimov.query(\"UserAction=='Deposit'\")\n",
    "    pos = (pos.Amount*pos.sharePrice/10**pos.Decimal).sum()\n",
    "\n",
    "    pos2 = asimov.query(\"UserAction == 'CancelPendingWithdraw'\")\n",
    "    if pos2.empty:\n",
    "        pos2 = 0\n",
    "    else:\n",
    "        pos2 = (pos2.Amount/10**pos2.Decimal).sum()\n",
    "\n",
    "    neg = asimov.query(\"UserAction=='Withdraw'\")\n",
    "    if neg.empty:\n",
    "        neg = 0\n",
    "    else:\n",
    "        neg = (neg.Amount/10**neg.Decimal).sum()\n",
    "\n",
    "    neg2 = asimov.query(\"UserAction=='CancelPendingDeposit'\")\n",
    "    if neg2.empty:\n",
    "        neg2 = 0\n",
    "    else:\n",
    "        neg2= (neg2.Amount*neg2.sharePrice/10**neg2.Decimal).sum()\n",
    "\n",
    "    amount = pos+pos2-neg-neg2\n",
    "    \n",
    "    res[addr] = amount"
   ]
  },
  {
   "cell_type": "code",
   "execution_count": 179,
   "id": "fc110bdd",
   "metadata": {},
   "outputs": [
    {
     "data": {
      "text/plain": [
       "11.405190672150951"
      ]
     },
     "execution_count": 179,
     "metadata": {},
     "output_type": "execute_result"
    }
   ],
   "source": [
    "amount"
   ]
  },
  {
   "cell_type": "code",
   "execution_count": 177,
   "id": "9dc4b6a0",
   "metadata": {},
   "outputs": [
    {
     "data": {
      "text/plain": [
       "0"
      ]
     },
     "execution_count": 177,
     "metadata": {},
     "output_type": "execute_result"
    }
   ],
   "source": [
    "neg2"
   ]
  },
  {
   "cell_type": "code",
   "execution_count": null,
   "id": "10cf87ba",
   "metadata": {},
   "outputs": [],
   "source": []
  }
 ],
 "metadata": {
  "kernelspec": {
   "display_name": "Python 3 (ipykernel)",
   "language": "python",
   "name": "python3"
  },
  "language_info": {
   "codemirror_mode": {
    "name": "ipython",
    "version": 3
   },
   "file_extension": ".py",
   "mimetype": "text/x-python",
   "name": "python",
   "nbconvert_exporter": "python",
   "pygments_lexer": "ipython3",
   "version": "3.8.9"
  }
 },
 "nbformat": 4,
 "nbformat_minor": 5
}
