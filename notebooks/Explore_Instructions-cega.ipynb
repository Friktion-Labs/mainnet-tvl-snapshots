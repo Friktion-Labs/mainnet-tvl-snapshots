{
 "cells": [
  {
   "cell_type": "code",
   "execution_count": 1,
   "id": "7f9deb77",
   "metadata": {},
   "outputs": [],
   "source": [
    "import json\n",
    "import requests\n",
    "import requests\n",
    "import traceback\n",
    "import time\n",
    "\n",
    "import numpy as np\n",
    "import pandas as pd\n",
    "from datetime import datetime\n",
    "import matplotlib.pyplot as plt\n",
    "from os.path import exists"
   ]
  },
  {
   "cell_type": "code",
   "execution_count": 3,
   "id": "5be7ca80",
   "metadata": {},
   "outputs": [],
   "source": [
    "# TODO: Add retry logic to this in case of hangups.\n",
    "def run_query(query, retries=10):\n",
    "    \"\"\"\n",
    "    Query graphQL API.\n",
    "\n",
    "    If timeerror\n",
    "    \"\"\"\n",
    "    headers = {\"X-API-KEY\": \"BQYCaXaMZlqZrPCSQVsiJrKtxKRVcSe4\"}\n",
    "\n",
    "    retries_counter = 0\n",
    "    try:\n",
    "        request = requests.post(\n",
    "            \"https://graphql.bitquery.io/\", json={\"query\": query}, headers=headers\n",
    "        )\n",
    "        result = request.json()\n",
    "        # print(dir(request.content))\n",
    "        # Make sure that there is no error message\n",
    "        # assert not request.content.errors\n",
    "        assert \"errors\" not in result\n",
    "    except:\n",
    "        while (\n",
    "            (request.status_code != 200\n",
    "            or \"errors\" in result)\n",
    "            and retries_counter < 10\n",
    "        ):\n",
    "            print(datetime.now(), f\"Retry number {retries_counter}\")\n",
    "            if \"errors\" in result:\n",
    "                print(result[\"errors\"])\n",
    "            print(datetime.now(), f\"Query failed for reason: {request.reason}. sleeping for {150*retries_counter} seconds and retrying...\")\n",
    "            time.sleep(150*retries_counter)\n",
    "            request = requests.post(\n",
    "                \"https://graphql.bitquery.io/\",\n",
    "                json={\"query\": query},\n",
    "                headers=headers,\n",
    "            )\n",
    "            retries_counter += 1\n",
    "        if retries_counter >= retries:\n",
    "            raise Exception(\n",
    "                \"Query failed after {} retries and return code is {}.{}\".format(\n",
    "                    retries_counter, request.status_code, query\n",
    "                )\n",
    "            )\n",
    "    return request.json()"
   ]
  },
  {
   "cell_type": "code",
   "execution_count": 4,
   "id": "68d7d34a",
   "metadata": {},
   "outputs": [],
   "source": [
    "query = \"\"\"\n",
    "    query MyQuery {\n",
    "          solana {\n",
    "            instructions(\n",
    "              time: {between: [\"2022-07-01\", \"2022-07-07\"]}\n",
    "              success: {is: true}\n",
    "              programId: {is: \"3HUeooitcfKX1TSCx2xEpg2W31n6Qfmizu7nnbaEWYzs\"}\n",
    "              options: {limit: 8700}\n",
    "            ) {\n",
    "              block {\n",
    "                timestamp {\n",
    "                  iso8601\n",
    "                }\n",
    "              }\n",
    "              transaction {\n",
    "                signature\n",
    "                feePayer\n",
    "              }\n",
    "              data {\n",
    "                base58\n",
    "              }\n",
    "              log {\n",
    "                instruction\n",
    "                result\n",
    "                logs\n",
    "              }              \n",
    "              \n",
    "            }\n",
    "          }\n",
    "        }\n",
    "\"\"\""
   ]
  },
  {
   "cell_type": "code",
   "execution_count": 5,
   "id": "2257be4c",
   "metadata": {},
   "outputs": [],
   "source": [
    "result = run_query(query)"
   ]
  },
  {
   "cell_type": "code",
   "execution_count": 6,
   "id": "9f3363ef",
   "metadata": {},
   "outputs": [],
   "source": [
    "df = pd.json_normalize(result[\"data\"][\"solana\"][\"instructions\"])\n"
   ]
  },
  {
   "cell_type": "code",
   "execution_count": 7,
   "id": "1799b154",
   "metadata": {},
   "outputs": [
    {
     "data": {
      "text/plain": [
       "array(['CalculateCurrentYield', 'CalculationAgent',\n",
       "       'OverrideObservationPeriod', 'DepositVault', 'WithdrawVault'],\n",
       "      dtype=object)"
      ]
     },
     "execution_count": 7,
     "metadata": {},
     "output_type": "execute_result"
    }
   ],
   "source": [
    "df[\"log.instruction\"].unique()"
   ]
  },
  {
   "cell_type": "code",
   "execution_count": 8,
   "id": "0e99a695",
   "metadata": {},
   "outputs": [
    {
     "data": {
      "text/html": [
       "<div>\n",
       "<style scoped>\n",
       "    .dataframe tbody tr th:only-of-type {\n",
       "        vertical-align: middle;\n",
       "    }\n",
       "\n",
       "    .dataframe tbody tr th {\n",
       "        vertical-align: top;\n",
       "    }\n",
       "\n",
       "    .dataframe thead th {\n",
       "        text-align: right;\n",
       "    }\n",
       "</style>\n",
       "<table border=\"1\" class=\"dataframe\">\n",
       "  <thead>\n",
       "    <tr style=\"text-align: right;\">\n",
       "      <th></th>\n",
       "      <th>block.timestamp.iso8601</th>\n",
       "      <th>transaction.signature</th>\n",
       "      <th>transaction.feePayer</th>\n",
       "      <th>data.base58</th>\n",
       "      <th>log.instruction</th>\n",
       "      <th>log.result</th>\n",
       "      <th>log.logs</th>\n",
       "    </tr>\n",
       "  </thead>\n",
       "  <tbody>\n",
       "  </tbody>\n",
       "</table>\n",
       "</div>"
      ],
      "text/plain": [
       "Empty DataFrame\n",
       "Columns: [block.timestamp.iso8601, transaction.signature, transaction.feePayer, data.base58, log.instruction, log.result, log.logs]\n",
       "Index: []"
      ]
     },
     "execution_count": 8,
     "metadata": {},
     "output_type": "execute_result"
    }
   ],
   "source": [
    "df.loc[df[\"log.instruction\"]==\"EndRound\"]"
   ]
  },
  {
   "cell_type": "code",
   "execution_count": null,
   "id": "cfabfaf2",
   "metadata": {},
   "outputs": [],
   "source": []
  }
 ],
 "metadata": {
  "kernelspec": {
   "display_name": "Python 3 (ipykernel)",
   "language": "python",
   "name": "python3"
  },
  "language_info": {
   "codemirror_mode": {
    "name": "ipython",
    "version": 3
   },
   "file_extension": ".py",
   "mimetype": "text/x-python",
   "name": "python",
   "nbconvert_exporter": "python",
   "pygments_lexer": "ipython3",
   "version": "3.8.13"
  }
 },
 "nbformat": 4,
 "nbformat_minor": 5
}
