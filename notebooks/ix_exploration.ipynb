{
 "cells": [
  {
   "cell_type": "code",
   "execution_count": 26,
   "id": "19f23f3e",
   "metadata": {},
   "outputs": [],
   "source": [
    "import pandas as pd\n",
    "pd.set_option('display.max_colwidth', None)"
   ]
  },
  {
   "cell_type": "code",
   "execution_count": 3,
   "id": "62f759fd",
   "metadata": {},
   "outputs": [],
   "source": [
    "y = pd.read_csv(\"friktion_ix.csv\")"
   ]
  },
  {
   "cell_type": "code",
   "execution_count": 7,
   "id": "66cccbc9",
   "metadata": {},
   "outputs": [],
   "source": [
    "y[\"anchor_descriptor\"] = y.instructionData.str[:8]"
   ]
  },
  {
   "cell_type": "code",
   "execution_count": 12,
   "id": "d2bf8019",
   "metadata": {},
   "outputs": [
    {
     "name": "stderr",
     "output_type": "stream",
     "text": [
      "/var/folders/t5/lm3g0brx0dsf0ymt1ldc8xdr0000gp/T/ipykernel_66655/4010948344.py:1: FutureWarning: Series.dt.weekofyear and Series.dt.week have been deprecated. Please use Series.dt.isocalendar().week instead.\n",
      "  y[\"week\"] = pd.to_datetime(y.timestamp).dt.week\n"
     ]
    }
   ],
   "source": [
    "y[\"week\"] = pd.to_datetime(y.timestamp).dt.week"
   ]
  },
  {
   "cell_type": "code",
   "execution_count": 21,
   "id": "4ea55be9",
   "metadata": {},
   "outputs": [],
   "source": [
    "counts = y.groupby([\"anchor_descriptor\", \"week\"]).txSigner.count()"
   ]
  },
  {
   "cell_type": "code",
   "execution_count": 23,
   "id": "8b0fa5c6",
   "metadata": {},
   "outputs": [
    {
     "data": {
      "text/plain": [
       "anchor_descriptor  week\n",
       "11AfU34Y           12      16\n",
       "                   14      17\n",
       "11AheXAg           9       19\n",
       "11Ahf23r           13      17\n",
       "11AhfWw2           2       16\n",
       "                           ..\n",
       "WvyNQBKA           14      24\n",
       "                   16      24\n",
       "                   17      27\n",
       "                   19      24\n",
       "dxUbSCWk           10      20\n",
       "Name: txSigner, Length: 137, dtype: int64"
      ]
     },
     "execution_count": 23,
     "metadata": {},
     "output_type": "execute_result"
    }
   ],
   "source": [
    "counts.loc[counts>15].loc[counts<30]"
   ]
  },
  {
   "cell_type": "markdown",
   "id": "70e518da",
   "metadata": {},
   "source": [
    "# Let's look at WvyNQBKA"
   ]
  },
  {
   "cell_type": "code",
   "execution_count": 27,
   "id": "b5fe17ce",
   "metadata": {},
   "outputs": [
    {
     "data": {
      "text/plain": [
       "2110     3KWp1T5FJTPgHUBYnLCRg3qV6A5jYwiEFgBZ4FQVSdqV5FfmuHBBd814qvB8U5cKdksHTtDwErYA3kFbnXM5pyTq\n",
       "2115     58diFpprbd8UV5zPMJq7ZoAgBsE2KFqmaCWaEJJpXzDMfXTXQ437v7mphCtp9m1SGPaFUPcdixeXYFDgummzhXLr\n",
       "2136     4kk6idgeZHjJ9uqpn7qLWH4JWaby4cM7NbXTdZ5JTZenUAxfDrMywLsWTd483BrpTpWnmfASmWetKpF2BsL6n9Yn\n",
       "2141     2D3FPL79TYkM4jb8jMBtLoM3YMTfQmUkZJob4YP4t7RZB88n9WVqaYmzcKas7sj6C9znMxxSRiqFeqWH8fGj1nWh\n",
       "2183     4CvBXZy6mJCrtMy4hV7rnR5uh6jGaA5MufRmcsWQ5Tnm98ZMs2mf19DVwYCaiMRxm2jY3jaLopQ5PxbCxymV6c7r\n",
       "                                                   ...                                           \n",
       "92819    5vqGYPpHatgQsTJAVy122zv9DhVZzoMn1nPdqxNHxMcsJnsaS3QA14s8qQBHyDzgFgD2kHtxJZ6bxgU9PD8mkNKZ\n",
       "92846    2kPYx4k2Hk2bZ3eR61BXzx2etup2mzqccbNpd692DnStQ9ZySwsqkPWsFeNvytwiRSrmYrgxYhyuWmMLoLW6drKz\n",
       "93003    2TLTX9QcFfMzUAyt4VPdE9YbZsfU6XsFQ3ADJAC7JJXnHnwTqYvAg1AGqrWxVaz3eQa3CMnm87sZJm3zLY7zAUhn\n",
       "93030    5MdLhoXiPSbsSDTJG3VAFFyLQxo1zjCqw3s7NS317gQdxginvsGL5A2ysGwFE7tzmpm7tJP9fbG9WegVnZYAT9BV\n",
       "93045    24qW4QiMUajrQagYosuwgHRwo3L4mXBikT7g1moTTnffiE5TPPH4VuESFWeSUHR6zue8z3zuVX3B1EA13FYPH8rj\n",
       "Name: txSignature, Length: 467, dtype: object"
      ]
     },
     "execution_count": 27,
     "metadata": {},
     "output_type": "execute_result"
    }
   ],
   "source": [
    "y.loc[y.anchor_descriptor==\"WvyNQBKA\"].txSignature"
   ]
  },
  {
   "cell_type": "markdown",
   "id": "b65c58c9",
   "metadata": {},
   "source": [
    "#\n",
    "\n",
    "https://solscan.io/tx/3KWp1T5FJTPgHUBYnLCRg3qV6A5jYwiEFgBZ4FQVSdqV5FfmuHBBd814qvB8U5cKdksHTtDwErYA3kFbnXM5pyTq"
   ]
  },
  {
   "cell_type": "markdown",
   "id": "4851751c",
   "metadata": {},
   "source": [
    "It looks like the \"WvyNQBKA\" anchor descriptor maps to RebalancePrepare"
   ]
  },
  {
   "cell_type": "code",
   "execution_count": null,
   "id": "e5cd1419",
   "metadata": {},
   "outputs": [],
   "source": []
  }
 ],
 "metadata": {
  "kernelspec": {
   "display_name": "Python 3 (ipykernel)",
   "language": "python",
   "name": "python3"
  },
  "language_info": {
   "codemirror_mode": {
    "name": "ipython",
    "version": 3
   },
   "file_extension": ".py",
   "mimetype": "text/x-python",
   "name": "python",
   "nbconvert_exporter": "python",
   "pygments_lexer": "ipython3",
   "version": "3.8.9"
  }
 },
 "nbformat": 4,
 "nbformat_minor": 5
}
