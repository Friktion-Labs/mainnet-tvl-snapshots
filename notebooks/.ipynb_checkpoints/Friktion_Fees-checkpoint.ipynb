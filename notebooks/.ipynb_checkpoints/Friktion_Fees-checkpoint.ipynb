{
 "cells": [
  {
   "cell_type": "markdown",
   "id": "96fb09b3",
   "metadata": {},
   "source": [
    "## Mapping \n",
    "\n",
    "RUN THIS NOTEBOOK TO CALCULATE HOW MUCH PERFORMANCE AND WITHDRAWAL FRIKTION HAS GENERATED. \n",
    "\n",
    "DEPENDS ON MANUALLY MAINTAINED LIST OF VOLT ADDRESSES. TO TRACK NEW ONES, NEED TO UPDATE THE MAPPING. "
   ]
  },
  {
   "cell_type": "code",
   "execution_count": 1,
   "id": "e2f3c87a",
   "metadata": {},
   "outputs": [],
   "source": [
    "import pandas as pd\n",
    "import requests\n",
    "import numpy as np\n",
    "import json\n",
    "import datetime\n",
    "import matplotlib.pyplot as plt\n",
    "\n",
    "pd.set_option('display.max_colwidth', None)\n",
    "\n",
    "def run_query(query):  # A simple function to use requests.post to make the API call.\n",
    "    headers = {'X-API-KEY': 'BQYCaXaMZlqZrPCSQVsiJrKtxKRVcSe4'}\n",
    "    request = requests.post('https://graphql.bitquery.io/', json={'query': query}, headers=headers)\n",
    "    if request.status_code == 200:\n",
    "        return request.json()\n",
    "    else:\n",
    "        print(request.reason)\n",
    "        raise Exception('Query failed and return code is {}.{}'.format(request.status_code, query))\n",
    "\n",
    "query_date = '\"2021-12-16\", \"{}\"'.format(str(datetime.date.today()))\n",
    "\n",
    "# Convert this to JSON\n",
    "\n",
    "VOLT_ACCOUNTS = {\n",
    "    # CSP\n",
    "    \"SOL-P\": \"6Nkc8MEiz3WLz1xthYitmSuy3NGwn7782upRHo2iFmXK\",\n",
    "    \"SOL-P-high\": \"JAoeEG2sfQ1xgXUNVVkJ5mCTCw4SLc6oJafDwf6jTf\",\n",
    "    \"BTC-P\": \"GrB6vbG2WP7eEnbwgxUbBGRMeXYq139jo2o9oW8cNK8f\",\n",
    "    \"SOL-P (tsUSDC)\": \"AQRGh6PU7LzDHvvoPNS7wVVQaCBeftw9kVDAnvuEjbs8\",\n",
    "    \"ETH-P\": \"EA29Xf3HGMtYziw7UKZDUKby7gkoCbXwmiNKwc7z54Ax\",\n",
    "    \"LUNA-P\": \"5kA7FPiB3t2X5s65dK1AoEu5asDjC5d7f5vaB4iY2yrj\",\n",
    "    \"MNGO-P\": \"CVrRw6VtxSjokm2tKmaS5RCuoc9EFjN4wEoov6f2PST6\",\n",
    "#     \"SOL-P-Step\": ,\n",
    "#     \"SOL-P-Parrot\": ,\n",
    "#     \"SOL-P-UXD\": ,\n",
    "    \n",
    "    \"SOL-C\": \"Hxtb6APfNtf9m8jJjh7uYp8fCTGr9aeHxBSfiPqCrV6G\",\n",
    "    \"SOL-C-high\": \"DNa849drqW19uBV5X9ohpJ5brRGzq856gk3HDRqveFrA\",\n",
    "    \"BTC-C\": \"DA1M8mw7GnPNKU9ReANtHPQyuVzKZtsuuSbCyc2uX2du\",\n",
    "    \"mSOL-C\": \"6asST5hurmxJ8uFvh7ZRWkrMfSEzjEAJ4DNR1is3G6eH\",\n",
    "    \"ETH-C\": \"FThcy5XXvab5u3jbA6NjWKdMNiCSV3oY5AAkvEvpa8wp\",\n",
    "    \"FTT-C\": \"7KqHFuUksvNhrWgoacKkqyp2RwfBNdypCYgK9nxD1d6K\",\n",
    "    \"SRM-C\": \"2P427N5sYcEXvZAZwqNzjXEHsBMESQoLyjNquTSmGPMb\",\n",
    "    \"MNGO-C\": \"B3yakZxwomkmnCxRr8ZmQtiWgtxtVBuCREDFDdAvcCVQ\",\n",
    "    \"scnSOL-C\": \"A5MpyajTy6hdsg3S2em5ukcgY1ZBhxTxEKv8BgHajv1A\",\n",
    "    \"SBR-C\": \"BH7Jg3f97FyeGxsPR7FFskvfqGiaLeUnJ9Ksda53Jj8h\",\n",
    "    \"LUNA-C\": \"5oV1Yf8q1oQgPYuHjepjmKFuaG2Wng9dzTqbSWhU5W2X\",\n",
    "    \"RAY-C\": \"A6XsYxGj9wpqUZG81XwgQJ2zJ3efCbuWSQfnkHqUSmdM\",\n",
    "    \"STEP-C\": \"FiEHDTKT6X7VFwGaUmsm1XXYr8vvkoSR5EqcY4znpefq\",\n",
    "    \"AVAX-C\": \"HLfkEc6E2HEcABaWm3QZSfDvswzXjh1onF9xEzUAtWNS\",\n",
    "}\n",
    "\n",
    "ACCOUNT_STRING = str(list(VOLT_ACCOUNTS.values())).replace(\"\\'\", \"\\\"\")\n",
    "\n",
    "FEES_ADDRESS = '3KjJiWBfaw96qGhysq6Fc9FTxdPgPTNY6shM7Bwfp8EJ'\n",
    "\n",
    "MASTER_ADDRESS = 'DxMJgeSVoe1cWo1NPExiAsmn83N3bADvkT86dSP1k7WE'\n",
    "\n",
    "query = \"\"\"\n",
    "    query{\n",
    "    solana(network: solana) {\n",
    "    transfers(\n",
    "      date: {between: [\"\"\"+ query_date +\"\"\"]}\n",
    "      transferType: {is: transfer}\n",
    "      any: [{senderAddress: {in: \"\"\" + ACCOUNT_STRING + \"\"\"}}]\n",
    "    ) {\n",
    "      amount\n",
    "      currency {\n",
    "        symbol\n",
    "        address\n",
    "      }\n",
    "      block {\n",
    "        timestamp {\n",
    "          iso8601\n",
    "        }\n",
    "      }\n",
    "      transaction {\n",
    "        signer\n",
    "        signature\n",
    "        innerInstructionsCount\n",
    "      }\n",
    "      receiver {\n",
    "        address\n",
    "      }\n",
    "      sender {\n",
    "        address\n",
    "      }\n",
    "    }\n",
    "  }\n",
    "}\n",
    "\"\"\"\n",
    "\n",
    "result = run_query(query)\n",
    "# convert GraphQL json to pandas dataframe\n",
    "df = pd.json_normalize(result['data']['solana']['transfers'])\n",
    "df = df.rename(columns={\"block.timestamp.iso8601\": \"date\", \"currency.symbol\": \"symbol\", \n",
    "                        \"transaction.signer\":\"signer\", \"currency.address\":\"cash\",\n",
    "                        \"receiver.address\":\"receiver\", \"sender.address\":\"asset\", \"transaction.signature\": \"tx_id\"})\n",
    "# Does json_normalize flatten a json file for you??\n",
    "\n",
    "df[\"tx_id\"] = df[\"tx_id\"].apply(lambda x: \"https://solscan.io/tx/{}\".format(x))\n",
    "# if transaction signer & receiver is diff, drop row\n",
    "df = df.query(\"receiver == '{}'\".format(FEES_ADDRESS)).reset_index(drop=True)\n",
    "\n",
    "def find_key(value, d): \n",
    "    for k, v in d.items():\n",
    "        if value == v:\n",
    "            return k\n",
    "\n",
    "df['asset'] = df.asset.apply(lambda x: find_key(x, VOLT_ACCOUNTS))\n",
    "\n",
    "df['symbol'] = df.apply(lambda x: \"tsUSDC\" if x.cash == \"Cvvh8nsKZet59nsDDo3orMa3rZnPWQhpgrMCVcRDRgip\" else x.symbol, axis=1)\n",
    "\n",
    "df[\"FeeType\"] = df[\"transaction.innerInstructionsCount\"].apply(lambda x: \"Withdrawal Fee\" if x==1 else \"Performance Fee\")"
   ]
  },
  {
   "cell_type": "code",
   "execution_count": 2,
   "id": "53a6dab0",
   "metadata": {},
   "outputs": [
    {
     "data": {
      "text/plain": [
       "FeeType          symbol\n",
       "Performance Fee  BTC           1.388323\n",
       "                 ETH           4.292708\n",
       "                 FTT         531.417061\n",
       "                 LUNA        504.763571\n",
       "                 MNGO      22098.953302\n",
       "                 RAY         231.926626\n",
       "                 SBR       85893.930697\n",
       "                 SOL        1735.005001\n",
       "                 SRM       20159.080000\n",
       "                 STEP        725.778038\n",
       "                 USDC      58689.701570\n",
       "                 UST        3912.364308\n",
       "                 mSOL        561.077512\n",
       "                 scnSOL       62.217521\n",
       "                 tsUSDC     8290.858470\n",
       "Withdrawal Fee   BTC           0.263747\n",
       "                 ETH           1.546723\n",
       "                 FTT          61.220766\n",
       "                 LUNA         94.975402\n",
       "                 MNGO       3499.265779\n",
       "                 RAY           4.801589\n",
       "                 SBR        6783.790275\n",
       "                 SOL         154.272594\n",
       "                 SRM         219.827571\n",
       "                 STEP         16.330453\n",
       "                 USDC      10912.415569\n",
       "                 UST         425.566555\n",
       "                 mSOL        103.591086\n",
       "                 scnSOL        5.353262\n",
       "                 tsUSDC     3349.411548\n",
       "Name: amount, dtype: float64"
      ]
     },
     "execution_count": 2,
     "metadata": {},
     "output_type": "execute_result"
    }
   ],
   "source": [
    "df.groupby([\"FeeType\", \"symbol\"]).amount.sum()"
   ]
  },
  {
   "cell_type": "markdown",
   "id": "bfaae6e7",
   "metadata": {},
   "source": [
    "# Get current coin prices porfolio calculation"
   ]
  },
  {
   "cell_type": "code",
   "execution_count": 3,
   "id": "035935ee",
   "metadata": {},
   "outputs": [
    {
     "name": "stdout",
     "output_type": "stream",
     "text": [
      "[[1647554700000, 40960.0, 40960.0, 40901.0, 40921.0, 180867.2974]]\n",
      "[[1647554700000, 2818.6, 2818.7, 2814.6, 2817.0, 61654.5514]]\n",
      "[[1647554700000, 88.655, 88.6575, 88.5325, 88.5625, 15038.082925]]\n",
      "[[1647554700000, 91.9, 91.925, 91.775, 91.775, 20.1905]]\n",
      "[[1647554700000, 87.399, 87.51, 87.357, 87.387, 273588.0393]]\n",
      "[[1647554700000, 43.082, 43.097, 43.062, 43.069, 11209.9316]]\n",
      "[[1647554700000, 1.896, 1.896, 1.896, 1.896, 0.0]]\n",
      "[[1647554700000, 0.1503, 0.1504, 0.1503, 0.1504, 10.52225]]\n",
      "[[1647554700000, 2.5059, 2.5059, 2.5045, 2.5048, 7.5163]]\n",
      "[[1647554700000, 0.155, 0.155, 0.155, 0.155, 0.0]]\n",
      "[[1647554700000, 79.0205, 79.0205, 78.834, 78.9295, 18427.03055]]\n"
     ]
    }
   ],
   "source": [
    "import pandas as pd\n",
    "import numpy as np\n",
    "import matplotlib.pyplot as plt\n",
    "\n",
    "import requests\n",
    "import json\n",
    "import ccxt\n",
    "\n",
    "import datetime\n",
    "\n",
    "cftx = ccxt.ftx(\n",
    "    {\n",
    "        \"apiKey\":\"mvnd3WRG56rAP-6MpxFyZ5sN2WnjEO8UsQB6u-6s\",\n",
    "        \"secret\":\"m_m926E36IMlrhCv6bGkLdSdaVegbm5PggpCrFCM\"\n",
    "    }\n",
    ")\n",
    "\n",
    "markets = cftx.load_markets()\n",
    "binance = ccxt.binance()\n",
    "\n",
    "# 10 days\n",
    "time_since = datetime.datetime.timestamp(datetime.datetime.now())*1000-10*24*60*60*1000\n",
    "\n",
    "symbols = {\n",
    "    \"BTC\": \"BTC/USD\", \n",
    "    \"ETH\": \"ETH/USD\", \n",
    "    \"SOL\": \"SOL/USD\", \n",
    "    \"MSOL\": \"MSOL/USD\", \n",
    "    \"LUNA\": \"LUNA/USD:USD\", \n",
    "    \"FTT\": \"FTT/USD\", \n",
    "    \"SRM\": \"SRM/USD\",\n",
    "    \"MNGO\": \"MNGO/USD\",\n",
    "    \"RAY\": \"RAY/USD\", \n",
    "    \"STEP\": \"STEP/USD\",\n",
    "    \"AVAX\": \"AVAX/USD\"\n",
    "}\n",
    "pricedf = {}\n",
    "for k, symbol in symbols.items():\n",
    "    data = cftx.fetchOHLCV(symbol, '1m', since=time_since, limit=1)\n",
    "    tree = pd.DataFrame(data, columns=[\"time\", \"open\", \"high\", \"low\", \"close\", \"volume\"])\n",
    "    data\n",
    "    print(data)\n",
    "    pricedf[k] = tree[\"close\"]\n",
    "    "
   ]
  },
  {
   "cell_type": "code",
   "execution_count": 9,
   "id": "3d76537e",
   "metadata": {},
   "outputs": [],
   "source": [
    "# Random price hardcodes b/c they aren't traded on FTX\n",
    "\n",
    "pricedf[\"USDC\"] =pricedf[\"tsUSDC\"] = pricedf[\"UST\"] = 1\n",
    "pricedf[\"mSOL\"] = pricedf[\"SOL\"]*1.03\n",
    "pricedf[\"scnSOL\"] = pricedf[\"SOL\"]*1.03\n",
    "pricedf[\"SBR\"] = 0.04000"
   ]
  },
  {
   "cell_type": "markdown",
   "id": "c3cfb781",
   "metadata": {},
   "source": [
    "# ALLS"
   ]
  },
  {
   "cell_type": "code",
   "execution_count": 10,
   "id": "c9068bc9",
   "metadata": {
    "scrolled": false
   },
   "outputs": [
    {
     "data": {
      "text/html": [
       "<div>\n",
       "<style scoped>\n",
       "    .dataframe tbody tr th:only-of-type {\n",
       "        vertical-align: middle;\n",
       "    }\n",
       "\n",
       "    .dataframe tbody tr th {\n",
       "        vertical-align: top;\n",
       "    }\n",
       "\n",
       "    .dataframe thead th {\n",
       "        text-align: right;\n",
       "    }\n",
       "</style>\n",
       "<table border=\"1\" class=\"dataframe\">\n",
       "  <thead>\n",
       "    <tr style=\"text-align: right;\">\n",
       "      <th></th>\n",
       "      <th></th>\n",
       "      <th>amount</th>\n",
       "      <th>usdc_value</th>\n",
       "    </tr>\n",
       "    <tr>\n",
       "      <th>FeeType</th>\n",
       "      <th>symbol</th>\n",
       "      <th></th>\n",
       "      <th></th>\n",
       "    </tr>\n",
       "  </thead>\n",
       "  <tbody>\n",
       "    <tr>\n",
       "      <th rowspan=\"15\" valign=\"top\">Performance Fee</th>\n",
       "      <th>BTC</th>\n",
       "      <td>1.388323</td>\n",
       "      <td>56811</td>\n",
       "    </tr>\n",
       "    <tr>\n",
       "      <th>ETH</th>\n",
       "      <td>4.292708</td>\n",
       "      <td>12092</td>\n",
       "    </tr>\n",
       "    <tr>\n",
       "      <th>FTT</th>\n",
       "      <td>531.417061</td>\n",
       "      <td>22887</td>\n",
       "    </tr>\n",
       "    <tr>\n",
       "      <th>LUNA</th>\n",
       "      <td>504.763571</td>\n",
       "      <td>44109</td>\n",
       "    </tr>\n",
       "    <tr>\n",
       "      <th>MNGO</th>\n",
       "      <td>22098.953302</td>\n",
       "      <td>3323</td>\n",
       "    </tr>\n",
       "    <tr>\n",
       "      <th>RAY</th>\n",
       "      <td>231.926626</td>\n",
       "      <td>580</td>\n",
       "    </tr>\n",
       "    <tr>\n",
       "      <th>SBR</th>\n",
       "      <td>85893.930697</td>\n",
       "      <td>3435</td>\n",
       "    </tr>\n",
       "    <tr>\n",
       "      <th>SOL</th>\n",
       "      <td>1735.005001</td>\n",
       "      <td>153656</td>\n",
       "    </tr>\n",
       "    <tr>\n",
       "      <th>SRM</th>\n",
       "      <td>20159.080000</td>\n",
       "      <td>38221</td>\n",
       "    </tr>\n",
       "    <tr>\n",
       "      <th>STEP</th>\n",
       "      <td>725.778038</td>\n",
       "      <td>112</td>\n",
       "    </tr>\n",
       "    <tr>\n",
       "      <th>USDC</th>\n",
       "      <td>58689.701570</td>\n",
       "      <td>58689</td>\n",
       "    </tr>\n",
       "    <tr>\n",
       "      <th>UST</th>\n",
       "      <td>3912.364308</td>\n",
       "      <td>3912</td>\n",
       "    </tr>\n",
       "    <tr>\n",
       "      <th>mSOL</th>\n",
       "      <td>561.077512</td>\n",
       "      <td>51181</td>\n",
       "    </tr>\n",
       "    <tr>\n",
       "      <th>scnSOL</th>\n",
       "      <td>62.217521</td>\n",
       "      <td>5675</td>\n",
       "    </tr>\n",
       "    <tr>\n",
       "      <th>tsUSDC</th>\n",
       "      <td>8290.858470</td>\n",
       "      <td>8290</td>\n",
       "    </tr>\n",
       "    <tr>\n",
       "      <th rowspan=\"15\" valign=\"top\">Withdrawal Fee</th>\n",
       "      <th>BTC</th>\n",
       "      <td>0.263747</td>\n",
       "      <td>10792</td>\n",
       "    </tr>\n",
       "    <tr>\n",
       "      <th>ETH</th>\n",
       "      <td>1.546723</td>\n",
       "      <td>4357</td>\n",
       "    </tr>\n",
       "    <tr>\n",
       "      <th>FTT</th>\n",
       "      <td>61.220766</td>\n",
       "      <td>2636</td>\n",
       "    </tr>\n",
       "    <tr>\n",
       "      <th>LUNA</th>\n",
       "      <td>94.975402</td>\n",
       "      <td>8299</td>\n",
       "    </tr>\n",
       "    <tr>\n",
       "      <th>MNGO</th>\n",
       "      <td>3499.265779</td>\n",
       "      <td>526</td>\n",
       "    </tr>\n",
       "    <tr>\n",
       "      <th>RAY</th>\n",
       "      <td>4.801589</td>\n",
       "      <td>12</td>\n",
       "    </tr>\n",
       "    <tr>\n",
       "      <th>SBR</th>\n",
       "      <td>6783.790275</td>\n",
       "      <td>271</td>\n",
       "    </tr>\n",
       "    <tr>\n",
       "      <th>SOL</th>\n",
       "      <td>154.272594</td>\n",
       "      <td>13662</td>\n",
       "    </tr>\n",
       "    <tr>\n",
       "      <th>SRM</th>\n",
       "      <td>219.827571</td>\n",
       "      <td>416</td>\n",
       "    </tr>\n",
       "    <tr>\n",
       "      <th>STEP</th>\n",
       "      <td>16.330453</td>\n",
       "      <td>2</td>\n",
       "    </tr>\n",
       "    <tr>\n",
       "      <th>USDC</th>\n",
       "      <td>10912.415569</td>\n",
       "      <td>10912</td>\n",
       "    </tr>\n",
       "    <tr>\n",
       "      <th>UST</th>\n",
       "      <td>425.566555</td>\n",
       "      <td>425</td>\n",
       "    </tr>\n",
       "    <tr>\n",
       "      <th>mSOL</th>\n",
       "      <td>103.591086</td>\n",
       "      <td>9449</td>\n",
       "    </tr>\n",
       "    <tr>\n",
       "      <th>scnSOL</th>\n",
       "      <td>5.353262</td>\n",
       "      <td>488</td>\n",
       "    </tr>\n",
       "    <tr>\n",
       "      <th>tsUSDC</th>\n",
       "      <td>3349.411548</td>\n",
       "      <td>3349</td>\n",
       "    </tr>\n",
       "  </tbody>\n",
       "</table>\n",
       "</div>"
      ],
      "text/plain": [
       "                              amount  usdc_value\n",
       "FeeType         symbol                          \n",
       "Performance Fee BTC         1.388323       56811\n",
       "                ETH         4.292708       12092\n",
       "                FTT       531.417061       22887\n",
       "                LUNA      504.763571       44109\n",
       "                MNGO    22098.953302        3323\n",
       "                RAY       231.926626         580\n",
       "                SBR     85893.930697        3435\n",
       "                SOL      1735.005001      153656\n",
       "                SRM     20159.080000       38221\n",
       "                STEP      725.778038         112\n",
       "                USDC    58689.701570       58689\n",
       "                UST      3912.364308        3912\n",
       "                mSOL      561.077512       51181\n",
       "                scnSOL     62.217521        5675\n",
       "                tsUSDC   8290.858470        8290\n",
       "Withdrawal Fee  BTC         0.263747       10792\n",
       "                ETH         1.546723        4357\n",
       "                FTT        61.220766        2636\n",
       "                LUNA       94.975402        8299\n",
       "                MNGO     3499.265779         526\n",
       "                RAY         4.801589          12\n",
       "                SBR      6783.790275         271\n",
       "                SOL       154.272594       13662\n",
       "                SRM       219.827571         416\n",
       "                STEP       16.330453           2\n",
       "                USDC    10912.415569       10912\n",
       "                UST       425.566555         425\n",
       "                mSOL      103.591086        9449\n",
       "                scnSOL      5.353262         488\n",
       "                tsUSDC   3349.411548        3349"
      ]
     },
     "execution_count": 10,
     "metadata": {},
     "output_type": "execute_result"
    }
   ],
   "source": [
    "fees = df.groupby([\"FeeType\", \"symbol\"]).amount.sum().reset_index()\n",
    "\n",
    "tree = pd.DataFrame(pricedf).T.reset_index()\n",
    "\n",
    "tree.columns = [\"symbol\", \"price\"]\n",
    "\n",
    "xavier = pd.merge(fees, tree, on=\"symbol\", how='left')\n",
    "\n",
    "xavier[\"usdc_value\"] = (xavier[\"amount\"]*xavier[\"price\"]).astype('int')\n",
    "\n",
    "xavier.groupby([\"FeeType\", \"symbol\"])[[\"amount\", \"usdc_value\"]].sum()"
   ]
  },
  {
   "cell_type": "code",
   "execution_count": 11,
   "id": "9b2e7b4e",
   "metadata": {},
   "outputs": [
    {
     "data": {
      "text/html": [
       "<div>\n",
       "<style scoped>\n",
       "    .dataframe tbody tr th:only-of-type {\n",
       "        vertical-align: middle;\n",
       "    }\n",
       "\n",
       "    .dataframe tbody tr th {\n",
       "        vertical-align: top;\n",
       "    }\n",
       "\n",
       "    .dataframe thead th {\n",
       "        text-align: right;\n",
       "    }\n",
       "</style>\n",
       "<table border=\"1\" class=\"dataframe\">\n",
       "  <thead>\n",
       "    <tr style=\"text-align: right;\">\n",
       "      <th></th>\n",
       "      <th>FeeType</th>\n",
       "      <th>symbol</th>\n",
       "      <th>amount</th>\n",
       "      <th>price</th>\n",
       "      <th>usdc_value</th>\n",
       "    </tr>\n",
       "  </thead>\n",
       "  <tbody>\n",
       "    <tr>\n",
       "      <th>0</th>\n",
       "      <td>Performance Fee</td>\n",
       "      <td>BTC</td>\n",
       "      <td>1.388323</td>\n",
       "      <td>40921.000000</td>\n",
       "      <td>56811</td>\n",
       "    </tr>\n",
       "    <tr>\n",
       "      <th>1</th>\n",
       "      <td>Performance Fee</td>\n",
       "      <td>ETH</td>\n",
       "      <td>4.292708</td>\n",
       "      <td>2817.000000</td>\n",
       "      <td>12092</td>\n",
       "    </tr>\n",
       "    <tr>\n",
       "      <th>2</th>\n",
       "      <td>Performance Fee</td>\n",
       "      <td>FTT</td>\n",
       "      <td>531.417061</td>\n",
       "      <td>43.069000</td>\n",
       "      <td>22887</td>\n",
       "    </tr>\n",
       "    <tr>\n",
       "      <th>3</th>\n",
       "      <td>Performance Fee</td>\n",
       "      <td>LUNA</td>\n",
       "      <td>504.763571</td>\n",
       "      <td>87.387000</td>\n",
       "      <td>44109</td>\n",
       "    </tr>\n",
       "    <tr>\n",
       "      <th>4</th>\n",
       "      <td>Performance Fee</td>\n",
       "      <td>MNGO</td>\n",
       "      <td>22098.953302</td>\n",
       "      <td>0.150400</td>\n",
       "      <td>3323</td>\n",
       "    </tr>\n",
       "    <tr>\n",
       "      <th>5</th>\n",
       "      <td>Performance Fee</td>\n",
       "      <td>RAY</td>\n",
       "      <td>231.926626</td>\n",
       "      <td>2.504800</td>\n",
       "      <td>580</td>\n",
       "    </tr>\n",
       "    <tr>\n",
       "      <th>6</th>\n",
       "      <td>Performance Fee</td>\n",
       "      <td>SBR</td>\n",
       "      <td>85893.930697</td>\n",
       "      <td>0.040000</td>\n",
       "      <td>3435</td>\n",
       "    </tr>\n",
       "    <tr>\n",
       "      <th>7</th>\n",
       "      <td>Performance Fee</td>\n",
       "      <td>SOL</td>\n",
       "      <td>1735.005001</td>\n",
       "      <td>88.562500</td>\n",
       "      <td>153656</td>\n",
       "    </tr>\n",
       "    <tr>\n",
       "      <th>8</th>\n",
       "      <td>Performance Fee</td>\n",
       "      <td>SRM</td>\n",
       "      <td>20159.080000</td>\n",
       "      <td>1.896000</td>\n",
       "      <td>38221</td>\n",
       "    </tr>\n",
       "    <tr>\n",
       "      <th>9</th>\n",
       "      <td>Performance Fee</td>\n",
       "      <td>STEP</td>\n",
       "      <td>725.778038</td>\n",
       "      <td>0.155000</td>\n",
       "      <td>112</td>\n",
       "    </tr>\n",
       "    <tr>\n",
       "      <th>10</th>\n",
       "      <td>Performance Fee</td>\n",
       "      <td>USDC</td>\n",
       "      <td>58689.701570</td>\n",
       "      <td>1.000000</td>\n",
       "      <td>58689</td>\n",
       "    </tr>\n",
       "    <tr>\n",
       "      <th>11</th>\n",
       "      <td>Performance Fee</td>\n",
       "      <td>UST</td>\n",
       "      <td>3912.364308</td>\n",
       "      <td>1.000000</td>\n",
       "      <td>3912</td>\n",
       "    </tr>\n",
       "    <tr>\n",
       "      <th>12</th>\n",
       "      <td>Performance Fee</td>\n",
       "      <td>mSOL</td>\n",
       "      <td>561.077512</td>\n",
       "      <td>91.219375</td>\n",
       "      <td>51181</td>\n",
       "    </tr>\n",
       "    <tr>\n",
       "      <th>13</th>\n",
       "      <td>Performance Fee</td>\n",
       "      <td>scnSOL</td>\n",
       "      <td>62.217521</td>\n",
       "      <td>91.219375</td>\n",
       "      <td>5675</td>\n",
       "    </tr>\n",
       "    <tr>\n",
       "      <th>14</th>\n",
       "      <td>Performance Fee</td>\n",
       "      <td>tsUSDC</td>\n",
       "      <td>8290.858470</td>\n",
       "      <td>1.000000</td>\n",
       "      <td>8290</td>\n",
       "    </tr>\n",
       "    <tr>\n",
       "      <th>15</th>\n",
       "      <td>Withdrawal Fee</td>\n",
       "      <td>BTC</td>\n",
       "      <td>0.263747</td>\n",
       "      <td>40921.000000</td>\n",
       "      <td>10792</td>\n",
       "    </tr>\n",
       "    <tr>\n",
       "      <th>16</th>\n",
       "      <td>Withdrawal Fee</td>\n",
       "      <td>ETH</td>\n",
       "      <td>1.546723</td>\n",
       "      <td>2817.000000</td>\n",
       "      <td>4357</td>\n",
       "    </tr>\n",
       "    <tr>\n",
       "      <th>17</th>\n",
       "      <td>Withdrawal Fee</td>\n",
       "      <td>FTT</td>\n",
       "      <td>61.220766</td>\n",
       "      <td>43.069000</td>\n",
       "      <td>2636</td>\n",
       "    </tr>\n",
       "    <tr>\n",
       "      <th>18</th>\n",
       "      <td>Withdrawal Fee</td>\n",
       "      <td>LUNA</td>\n",
       "      <td>94.975402</td>\n",
       "      <td>87.387000</td>\n",
       "      <td>8299</td>\n",
       "    </tr>\n",
       "    <tr>\n",
       "      <th>19</th>\n",
       "      <td>Withdrawal Fee</td>\n",
       "      <td>MNGO</td>\n",
       "      <td>3499.265779</td>\n",
       "      <td>0.150400</td>\n",
       "      <td>526</td>\n",
       "    </tr>\n",
       "    <tr>\n",
       "      <th>20</th>\n",
       "      <td>Withdrawal Fee</td>\n",
       "      <td>RAY</td>\n",
       "      <td>4.801589</td>\n",
       "      <td>2.504800</td>\n",
       "      <td>12</td>\n",
       "    </tr>\n",
       "    <tr>\n",
       "      <th>21</th>\n",
       "      <td>Withdrawal Fee</td>\n",
       "      <td>SBR</td>\n",
       "      <td>6783.790275</td>\n",
       "      <td>0.040000</td>\n",
       "      <td>271</td>\n",
       "    </tr>\n",
       "    <tr>\n",
       "      <th>22</th>\n",
       "      <td>Withdrawal Fee</td>\n",
       "      <td>SOL</td>\n",
       "      <td>154.272594</td>\n",
       "      <td>88.562500</td>\n",
       "      <td>13662</td>\n",
       "    </tr>\n",
       "    <tr>\n",
       "      <th>23</th>\n",
       "      <td>Withdrawal Fee</td>\n",
       "      <td>SRM</td>\n",
       "      <td>219.827571</td>\n",
       "      <td>1.896000</td>\n",
       "      <td>416</td>\n",
       "    </tr>\n",
       "    <tr>\n",
       "      <th>24</th>\n",
       "      <td>Withdrawal Fee</td>\n",
       "      <td>STEP</td>\n",
       "      <td>16.330453</td>\n",
       "      <td>0.155000</td>\n",
       "      <td>2</td>\n",
       "    </tr>\n",
       "    <tr>\n",
       "      <th>25</th>\n",
       "      <td>Withdrawal Fee</td>\n",
       "      <td>USDC</td>\n",
       "      <td>10912.415569</td>\n",
       "      <td>1.000000</td>\n",
       "      <td>10912</td>\n",
       "    </tr>\n",
       "    <tr>\n",
       "      <th>26</th>\n",
       "      <td>Withdrawal Fee</td>\n",
       "      <td>UST</td>\n",
       "      <td>425.566555</td>\n",
       "      <td>1.000000</td>\n",
       "      <td>425</td>\n",
       "    </tr>\n",
       "    <tr>\n",
       "      <th>27</th>\n",
       "      <td>Withdrawal Fee</td>\n",
       "      <td>mSOL</td>\n",
       "      <td>103.591086</td>\n",
       "      <td>91.219375</td>\n",
       "      <td>9449</td>\n",
       "    </tr>\n",
       "    <tr>\n",
       "      <th>28</th>\n",
       "      <td>Withdrawal Fee</td>\n",
       "      <td>scnSOL</td>\n",
       "      <td>5.353262</td>\n",
       "      <td>91.219375</td>\n",
       "      <td>488</td>\n",
       "    </tr>\n",
       "    <tr>\n",
       "      <th>29</th>\n",
       "      <td>Withdrawal Fee</td>\n",
       "      <td>tsUSDC</td>\n",
       "      <td>3349.411548</td>\n",
       "      <td>1.000000</td>\n",
       "      <td>3349</td>\n",
       "    </tr>\n",
       "  </tbody>\n",
       "</table>\n",
       "</div>"
      ],
      "text/plain": [
       "            FeeType  symbol        amount         price  usdc_value\n",
       "0   Performance Fee     BTC      1.388323  40921.000000       56811\n",
       "1   Performance Fee     ETH      4.292708   2817.000000       12092\n",
       "2   Performance Fee     FTT    531.417061     43.069000       22887\n",
       "3   Performance Fee    LUNA    504.763571     87.387000       44109\n",
       "4   Performance Fee    MNGO  22098.953302      0.150400        3323\n",
       "5   Performance Fee     RAY    231.926626      2.504800         580\n",
       "6   Performance Fee     SBR  85893.930697      0.040000        3435\n",
       "7   Performance Fee     SOL   1735.005001     88.562500      153656\n",
       "8   Performance Fee     SRM  20159.080000      1.896000       38221\n",
       "9   Performance Fee    STEP    725.778038      0.155000         112\n",
       "10  Performance Fee    USDC  58689.701570      1.000000       58689\n",
       "11  Performance Fee     UST   3912.364308      1.000000        3912\n",
       "12  Performance Fee    mSOL    561.077512     91.219375       51181\n",
       "13  Performance Fee  scnSOL     62.217521     91.219375        5675\n",
       "14  Performance Fee  tsUSDC   8290.858470      1.000000        8290\n",
       "15   Withdrawal Fee     BTC      0.263747  40921.000000       10792\n",
       "16   Withdrawal Fee     ETH      1.546723   2817.000000        4357\n",
       "17   Withdrawal Fee     FTT     61.220766     43.069000        2636\n",
       "18   Withdrawal Fee    LUNA     94.975402     87.387000        8299\n",
       "19   Withdrawal Fee    MNGO   3499.265779      0.150400         526\n",
       "20   Withdrawal Fee     RAY      4.801589      2.504800          12\n",
       "21   Withdrawal Fee     SBR   6783.790275      0.040000         271\n",
       "22   Withdrawal Fee     SOL    154.272594     88.562500       13662\n",
       "23   Withdrawal Fee     SRM    219.827571      1.896000         416\n",
       "24   Withdrawal Fee    STEP     16.330453      0.155000           2\n",
       "25   Withdrawal Fee    USDC  10912.415569      1.000000       10912\n",
       "26   Withdrawal Fee     UST    425.566555      1.000000         425\n",
       "27   Withdrawal Fee    mSOL    103.591086     91.219375        9449\n",
       "28   Withdrawal Fee  scnSOL      5.353262     91.219375         488\n",
       "29   Withdrawal Fee  tsUSDC   3349.411548      1.000000        3349"
      ]
     },
     "execution_count": 11,
     "metadata": {},
     "output_type": "execute_result"
    }
   ],
   "source": [
    "xavier"
   ]
  },
  {
   "cell_type": "markdown",
   "id": "2c9eb232",
   "metadata": {},
   "source": [
    "# If you want to mess with the actual withdrawals and performance fees, use this dataframe\n",
    "\n",
    "\n",
    "## FeeType == \"Performance Fee\"\n",
    "\n",
    "\n",
    "## FeeType == \"Withdrawal Fee\""
   ]
  },
  {
   "cell_type": "code",
   "execution_count": 12,
   "id": "9eb74bf6",
   "metadata": {},
   "outputs": [
    {
     "name": "stdout",
     "output_type": "stream",
     "text": [
      "<class 'pandas.core.frame.DataFrame'>\n",
      "RangeIndex: 384 entries, 0 to 383\n",
      "Data columns (total 10 columns):\n",
      " #   Column                              Non-Null Count  Dtype  \n",
      "---  ------                              --------------  -----  \n",
      " 0   amount                              384 non-null    float64\n",
      " 1   symbol                              384 non-null    object \n",
      " 2   cash                                384 non-null    object \n",
      " 3   date                                384 non-null    object \n",
      " 4   signer                              384 non-null    object \n",
      " 5   tx_id                               384 non-null    object \n",
      " 6   transaction.innerInstructionsCount  384 non-null    int64  \n",
      " 7   receiver                            384 non-null    object \n",
      " 8   asset                               384 non-null    object \n",
      " 9   FeeType                             384 non-null    object \n",
      "dtypes: float64(1), int64(1), object(8)\n",
      "memory usage: 30.1+ KB\n"
     ]
    }
   ],
   "source": [
    "df.info()"
   ]
  },
  {
   "cell_type": "code",
   "execution_count": 8,
   "id": "47eea7ab",
   "metadata": {},
   "outputs": [
    {
     "data": {
      "text/html": [
       "<div>\n",
       "<style scoped>\n",
       "    .dataframe tbody tr th:only-of-type {\n",
       "        vertical-align: middle;\n",
       "    }\n",
       "\n",
       "    .dataframe tbody tr th {\n",
       "        vertical-align: top;\n",
       "    }\n",
       "\n",
       "    .dataframe thead th {\n",
       "        text-align: right;\n",
       "    }\n",
       "</style>\n",
       "<table border=\"1\" class=\"dataframe\">\n",
       "  <thead>\n",
       "    <tr style=\"text-align: right;\">\n",
       "      <th></th>\n",
       "      <th>amount</th>\n",
       "      <th>symbol</th>\n",
       "      <th>cash</th>\n",
       "      <th>date</th>\n",
       "      <th>signer</th>\n",
       "      <th>tx_id</th>\n",
       "      <th>transaction.innerInstructionsCount</th>\n",
       "      <th>receiver</th>\n",
       "      <th>asset</th>\n",
       "      <th>FeeType</th>\n",
       "    </tr>\n",
       "  </thead>\n",
       "  <tbody>\n",
       "    <tr>\n",
       "      <th>0</th>\n",
       "      <td>8.218337</td>\n",
       "      <td>tsUSDC</td>\n",
       "      <td>Cvvh8nsKZet59nsDDo3orMa3rZnPWQhpgrMCVcRDRgip</td>\n",
       "      <td>2022-02-06T02:35:21Z</td>\n",
       "      <td>GVs4XuqEC27ppPBsXocH6PNzLAaJhy8JjBZJdYzGbXnX</td>\n",
       "      <td>https://solscan.io/tx/4FhqyXunsNFivUtazhp6rqc5PQUADvFckV1NXrueAN1Dc5VG22brXDGVPSA5rSFb5rBA78wYY8eecfR2MJBMgaRc</td>\n",
       "      <td>4</td>\n",
       "      <td>3KjJiWBfaw96qGhysq6Fc9FTxdPgPTNY6shM7Bwfp8EJ</td>\n",
       "      <td>SOL-P (tsUSDC)</td>\n",
       "      <td>Performance Fee</td>\n",
       "    </tr>\n",
       "  </tbody>\n",
       "</table>\n",
       "</div>"
      ],
      "text/plain": [
       "     amount  symbol                                          cash  \\\n",
       "0  8.218337  tsUSDC  Cvvh8nsKZet59nsDDo3orMa3rZnPWQhpgrMCVcRDRgip   \n",
       "\n",
       "                   date                                        signer  \\\n",
       "0  2022-02-06T02:35:21Z  GVs4XuqEC27ppPBsXocH6PNzLAaJhy8JjBZJdYzGbXnX   \n",
       "\n",
       "                                                                                                            tx_id  \\\n",
       "0  https://solscan.io/tx/4FhqyXunsNFivUtazhp6rqc5PQUADvFckV1NXrueAN1Dc5VG22brXDGVPSA5rSFb5rBA78wYY8eecfR2MJBMgaRc   \n",
       "\n",
       "   transaction.innerInstructionsCount  \\\n",
       "0                                   4   \n",
       "\n",
       "                                       receiver           asset  \\\n",
       "0  3KjJiWBfaw96qGhysq6Fc9FTxdPgPTNY6shM7Bwfp8EJ  SOL-P (tsUSDC)   \n",
       "\n",
       "           FeeType  \n",
       "0  Performance Fee  "
      ]
     },
     "execution_count": 8,
     "metadata": {},
     "output_type": "execute_result"
    }
   ],
   "source": [
    "df.head(1)"
   ]
  },
  {
   "cell_type": "code",
   "execution_count": 361,
   "id": "f4984008",
   "metadata": {},
   "outputs": [],
   "source": [
    "pdf = (pd.DataFrame(pricedf).T).reset_index()\n",
    "pdf.columns=[\"symbol\", \"price\"]"
   ]
  },
  {
   "cell_type": "code",
   "execution_count": 362,
   "id": "0d402f83",
   "metadata": {},
   "outputs": [],
   "source": [
    "zz = pd.merge(df, pdf, on=\"symbol\")"
   ]
  },
  {
   "cell_type": "code",
   "execution_count": 363,
   "id": "580c84f2",
   "metadata": {},
   "outputs": [],
   "source": [
    "zz[\"usdc\"] = zz[\"price\"]*zz[\"amount\"]"
   ]
  },
  {
   "cell_type": "code",
   "execution_count": 364,
   "id": "d3f0ef51",
   "metadata": {},
   "outputs": [],
   "source": [
    "from matplotlib.ticker import FuncFormatter\n",
    "import matplotlib.pyplot as plt\n",
    "def millions(x, pos):\n",
    "    'The two args are the value and tick position'\n",
    "    return '%1.1fM' % (x * 1e-6)\n",
    "\n",
    "\n",
    "formatter = FuncFormatter(millions)"
   ]
  },
  {
   "cell_type": "code",
   "execution_count": 549,
   "id": "227452ea",
   "metadata": {},
   "outputs": [],
   "source": [
    "from matplotlib.ticker import FuncFormatter\n",
    "import matplotlib.pyplot as plt\n",
    "def thousands(x, pos):\n",
    "    'The two args are the value and tick position'\n",
    "    return '%1.1fK' % (x * 1e-3)\n",
    "\n",
    "\n",
    "formatter2 = FuncFormatter(thousands)"
   ]
  },
  {
   "cell_type": "code",
   "execution_count": 365,
   "id": "f5f3ea4f",
   "metadata": {},
   "outputs": [
    {
     "data": {
      "text/plain": [
       "Text(0.5, 1.0, 'USDC value of Friktion Fees by Date')"
      ]
     },
     "execution_count": 365,
     "metadata": {},
     "output_type": "execute_result"
    },
    {
     "data": {
      "image/png": "[encoded data removed]",
      "text/plain": [
       "<Figure size 432x288 with 1 Axes>"
      ]
     },
     "metadata": {
      "needs_background": "light"
     },
     "output_type": "display_data"
    }
   ],
   "source": [
    "zz.groupby([\"date\", \"FeeType\"])[[\"usdc\"]].sum().unstack(1).fillna(0).cumsum().plot(grid=True)\n",
    "plt.xticks(rotation=30)\n",
    "plt.title(\"USDC value of Friktion Fees by Date\")"
   ]
  },
  {
   "cell_type": "code",
   "execution_count": 366,
   "id": "7011ea39",
   "metadata": {},
   "outputs": [],
   "source": [
    "zz[\"churn\"] = zz[\"usdc\"]*1000"
   ]
  },
  {
   "cell_type": "code",
   "execution_count": 367,
   "id": "e4ffe407",
   "metadata": {},
   "outputs": [
    {
     "data": {
      "image/png": "[encoded data removed]",
      "text/plain": [
       "<Figure size 432x288 with 1 Axes>"
      ]
     },
     "metadata": {
      "needs_background": "light"
     },
     "output_type": "display_data"
    }
   ],
   "source": [
    "ax = plt.figure().gca()\n",
    "zz.loc[zz.FeeType==\"Withdrawal Fee\"].groupby([\"date\", \"FeeType\"])[[\"churn\"]].sum().unstack(1).fillna(0).cumsum().plot(grid=True, ax=ax)\n",
    "plt.xticks(rotation=30)\n",
    "ax.set_title(\"Total USDC Withdrawn\")\n",
    "ax.yaxis.set_major_formatter(formatter)"
   ]
  },
  {
   "cell_type": "code",
   "execution_count": 499,
   "id": "fd9b6ad1",
   "metadata": {},
   "outputs": [],
   "source": [
    "ff[\"datestr\"] = pd.to_datetime(ff.time).dt.strftime(\"%Y-%m-%d\")"
   ]
  },
  {
   "cell_type": "code",
   "execution_count": 500,
   "id": "8878eb05",
   "metadata": {},
   "outputs": [],
   "source": [
    "churn_rate = zz.loc[zz.FeeType==\"Withdrawal Fee\"].usdc.sum() / ff.groupby(\"datestr\").tvl.mean().sum()"
   ]
  },
  {
   "cell_type": "code",
   "execution_count": 501,
   "id": "baffcb7d",
   "metadata": {},
   "outputs": [],
   "source": [
    "perf_fee_rate = zz.loc[zz.FeeType==\"Performance Fee\"].usdc.sum()/ff.groupby(\"datestr\").tvl.mean().sum()"
   ]
  },
  {
   "cell_type": "code",
   "execution_count": 502,
   "id": "553424e0",
   "metadata": {},
   "outputs": [
    {
     "data": {
      "text/plain": [
       "5.415763277382072e-05"
      ]
     },
     "execution_count": 502,
     "metadata": {},
     "output_type": "execute_result"
    }
   ],
   "source": [
    "perf_fee_rate"
   ]
  },
  {
   "cell_type": "code",
   "execution_count": 503,
   "id": "ab1dfd87",
   "metadata": {},
   "outputs": [],
   "source": [
    "withdrawals = (1+np.arange(1, 279) * 0.01)*1.2e8"
   ]
  },
  {
   "cell_type": "code",
   "execution_count": 504,
   "id": "8fa9dbe3",
   "metadata": {},
   "outputs": [
    {
     "data": {
      "text/plain": [
       "[<matplotlib.lines.Line2D at 0x175428b20>]"
      ]
     },
     "execution_count": 504,
     "metadata": {},
     "output_type": "execute_result"
    },
    {
     "data": {
      "image/png": "[encoded data removed]",
      "text/plain": [
       "<Figure size 432x288 with 1 Axes>"
      ]
     },
     "metadata": {
      "needs_background": "light"
     },
     "output_type": "display_data"
    }
   ],
   "source": [
    "plt.plot(withdrawals)"
   ]
  },
  {
   "cell_type": "code",
   "execution_count": 505,
   "id": "ad991534",
   "metadata": {},
   "outputs": [
    {
     "data": {
      "text/plain": [
       "613129.8716478992"
      ]
     },
     "execution_count": 505,
     "metadata": {},
     "output_type": "execute_result"
    }
   ],
   "source": [
    "withdrawals.sum()*churn_rate"
   ]
  },
  {
   "cell_type": "code",
   "execution_count": 506,
   "id": "1256816d",
   "metadata": {},
   "outputs": [
    {
     "data": {
      "text/html": [
       "<div>\n",
       "<style scoped>\n",
       "    .dataframe tbody tr th:only-of-type {\n",
       "        vertical-align: middle;\n",
       "    }\n",
       "\n",
       "    .dataframe tbody tr th {\n",
       "        vertical-align: top;\n",
       "    }\n",
       "\n",
       "    .dataframe thead th {\n",
       "        text-align: right;\n",
       "    }\n",
       "</style>\n",
       "<table border=\"1\" class=\"dataframe\">\n",
       "  <thead>\n",
       "    <tr style=\"text-align: right;\">\n",
       "      <th></th>\n",
       "      <th>time</th>\n",
       "      <th>tvl</th>\n",
       "    </tr>\n",
       "  </thead>\n",
       "  <tbody>\n",
       "    <tr>\n",
       "      <th>0</th>\n",
       "      <td>2021-12-25 00:27:14</td>\n",
       "      <td>2.922707e+07</td>\n",
       "    </tr>\n",
       "    <tr>\n",
       "      <th>1</th>\n",
       "      <td>2021-12-25 01:05:51</td>\n",
       "      <td>2.956973e+07</td>\n",
       "    </tr>\n",
       "    <tr>\n",
       "      <th>2</th>\n",
       "      <td>2021-12-25 01:37:17</td>\n",
       "      <td>2.982349e+07</td>\n",
       "    </tr>\n",
       "    <tr>\n",
       "      <th>3</th>\n",
       "      <td>2021-12-25 02:10:46</td>\n",
       "      <td>2.992262e+07</td>\n",
       "    </tr>\n",
       "    <tr>\n",
       "      <th>4</th>\n",
       "      <td>2021-12-25 03:01:37</td>\n",
       "      <td>2.976328e+07</td>\n",
       "    </tr>\n",
       "    <tr>\n",
       "      <th>...</th>\n",
       "      <td>...</td>\n",
       "      <td>...</td>\n",
       "    </tr>\n",
       "    <tr>\n",
       "      <th>15960</th>\n",
       "      <td>2022-03-26 07:28:29</td>\n",
       "      <td>1.134075e+08</td>\n",
       "    </tr>\n",
       "    <tr>\n",
       "      <th>15961</th>\n",
       "      <td>2022-03-26 07:36:16</td>\n",
       "      <td>1.133992e+08</td>\n",
       "    </tr>\n",
       "    <tr>\n",
       "      <th>15962</th>\n",
       "      <td>2022-03-26 07:45:52</td>\n",
       "      <td>1.135743e+08</td>\n",
       "    </tr>\n",
       "    <tr>\n",
       "      <th>15963</th>\n",
       "      <td>2022-03-26 07:52:34</td>\n",
       "      <td>1.136912e+08</td>\n",
       "    </tr>\n",
       "    <tr>\n",
       "      <th>15964</th>\n",
       "      <td>2022-03-26 07:54:34</td>\n",
       "      <td>1.137743e+08</td>\n",
       "    </tr>\n",
       "  </tbody>\n",
       "</table>\n",
       "<p>15965 rows × 2 columns</p>\n",
       "</div>"
      ],
      "text/plain": [
       "                     time           tvl\n",
       "0     2021-12-25 00:27:14  2.922707e+07\n",
       "1     2021-12-25 01:05:51  2.956973e+07\n",
       "2     2021-12-25 01:37:17  2.982349e+07\n",
       "3     2021-12-25 02:10:46  2.992262e+07\n",
       "4     2021-12-25 03:01:37  2.976328e+07\n",
       "...                   ...           ...\n",
       "15960 2022-03-26 07:28:29  1.134075e+08\n",
       "15961 2022-03-26 07:36:16  1.133992e+08\n",
       "15962 2022-03-26 07:45:52  1.135743e+08\n",
       "15963 2022-03-26 07:52:34  1.136912e+08\n",
       "15964 2022-03-26 07:54:34  1.137743e+08\n",
       "\n",
       "[15965 rows x 2 columns]"
      ]
     },
     "execution_count": 506,
     "metadata": {},
     "output_type": "execute_result"
    }
   ],
   "source": [
    "ff = pd.read_json(\"../derived_timeseries/tvl.json\")\n",
    "\n",
    "ff.columns=[\"time\", \"tvl\"]\n",
    "\n",
    "ff[\"time\"] = ff.time.astype(dtype='datetime64[ms]')#.dt.strftime('%Y-%m-%d')\n",
    "\n",
    "ff"
   ]
  },
  {
   "cell_type": "code",
   "execution_count": 507,
   "id": "3af7484b",
   "metadata": {},
   "outputs": [
    {
     "data": {
      "image/png": "[encoded data removed]",
      "text/plain": [
       "<Figure size 432x288 with 1 Axes>"
      ]
     },
     "metadata": {
      "needs_background": "light"
     },
     "output_type": "display_data"
    }
   ],
   "source": [
    "ax = plt.figure().gca()\n",
    "ff.groupby(\"time\").tvl.mean().plot(grid=True, title=\"Friktion TVL in USDC by Time\", ax=ax)\n",
    "ax.yaxis.set_major_formatter(formatter)"
   ]
  },
  {
   "cell_type": "code",
   "execution_count": 508,
   "id": "e11589b3",
   "metadata": {},
   "outputs": [],
   "source": [
    "mean = ff.groupby(\"time\").tvl.mean().reset_index()"
   ]
  },
  {
   "cell_type": "code",
   "execution_count": 509,
   "id": "3e43f1fb",
   "metadata": {
    "scrolled": true
   },
   "outputs": [
    {
     "data": {
      "text/html": [
       "<div>\n",
       "<style scoped>\n",
       "    .dataframe tbody tr th:only-of-type {\n",
       "        vertical-align: middle;\n",
       "    }\n",
       "\n",
       "    .dataframe tbody tr th {\n",
       "        vertical-align: top;\n",
       "    }\n",
       "\n",
       "    .dataframe thead th {\n",
       "        text-align: right;\n",
       "    }\n",
       "</style>\n",
       "<table border=\"1\" class=\"dataframe\">\n",
       "  <thead>\n",
       "    <tr style=\"text-align: right;\">\n",
       "      <th></th>\n",
       "      <th>time</th>\n",
       "      <th>tvl</th>\n",
       "    </tr>\n",
       "  </thead>\n",
       "  <tbody>\n",
       "    <tr>\n",
       "      <th>0</th>\n",
       "      <td>2021-12-25 00:27:14</td>\n",
       "      <td>2.922707e+07</td>\n",
       "    </tr>\n",
       "    <tr>\n",
       "      <th>1</th>\n",
       "      <td>2021-12-25 01:05:51</td>\n",
       "      <td>2.956973e+07</td>\n",
       "    </tr>\n",
       "    <tr>\n",
       "      <th>2</th>\n",
       "      <td>2021-12-25 01:37:17</td>\n",
       "      <td>2.982349e+07</td>\n",
       "    </tr>\n",
       "    <tr>\n",
       "      <th>3</th>\n",
       "      <td>2021-12-25 02:10:46</td>\n",
       "      <td>2.992262e+07</td>\n",
       "    </tr>\n",
       "    <tr>\n",
       "      <th>4</th>\n",
       "      <td>2021-12-25 03:01:37</td>\n",
       "      <td>2.976328e+07</td>\n",
       "    </tr>\n",
       "    <tr>\n",
       "      <th>...</th>\n",
       "      <td>...</td>\n",
       "      <td>...</td>\n",
       "    </tr>\n",
       "    <tr>\n",
       "      <th>15960</th>\n",
       "      <td>2022-03-26 07:28:29</td>\n",
       "      <td>1.134075e+08</td>\n",
       "    </tr>\n",
       "    <tr>\n",
       "      <th>15961</th>\n",
       "      <td>2022-03-26 07:36:16</td>\n",
       "      <td>1.133992e+08</td>\n",
       "    </tr>\n",
       "    <tr>\n",
       "      <th>15962</th>\n",
       "      <td>2022-03-26 07:45:52</td>\n",
       "      <td>1.135743e+08</td>\n",
       "    </tr>\n",
       "    <tr>\n",
       "      <th>15963</th>\n",
       "      <td>2022-03-26 07:52:34</td>\n",
       "      <td>1.136912e+08</td>\n",
       "    </tr>\n",
       "    <tr>\n",
       "      <th>15964</th>\n",
       "      <td>2022-03-26 07:54:34</td>\n",
       "      <td>1.137743e+08</td>\n",
       "    </tr>\n",
       "  </tbody>\n",
       "</table>\n",
       "<p>15965 rows × 2 columns</p>\n",
       "</div>"
      ],
      "text/plain": [
       "                     time           tvl\n",
       "0     2021-12-25 00:27:14  2.922707e+07\n",
       "1     2021-12-25 01:05:51  2.956973e+07\n",
       "2     2021-12-25 01:37:17  2.982349e+07\n",
       "3     2021-12-25 02:10:46  2.992262e+07\n",
       "4     2021-12-25 03:01:37  2.976328e+07\n",
       "...                   ...           ...\n",
       "15960 2022-03-26 07:28:29  1.134075e+08\n",
       "15961 2022-03-26 07:36:16  1.133992e+08\n",
       "15962 2022-03-26 07:45:52  1.135743e+08\n",
       "15963 2022-03-26 07:52:34  1.136912e+08\n",
       "15964 2022-03-26 07:54:34  1.137743e+08\n",
       "\n",
       "[15965 rows x 2 columns]"
      ]
     },
     "execution_count": 509,
     "metadata": {},
     "output_type": "execute_result"
    }
   ],
   "source": [
    "mean"
   ]
  },
  {
   "cell_type": "code",
   "execution_count": 510,
   "id": "99c8e3af",
   "metadata": {},
   "outputs": [],
   "source": [
    "mean[\"2% annualized\"]  = mean.tvl*0.02/365"
   ]
  },
  {
   "cell_type": "code",
   "execution_count": 511,
   "id": "1f56aa1d",
   "metadata": {},
   "outputs": [],
   "source": [
    "mean[\"1% annualized\"]  = mean.tvl*0.01/365"
   ]
  },
  {
   "cell_type": "code",
   "execution_count": 512,
   "id": "55c48c9f",
   "metadata": {},
   "outputs": [
    {
     "data": {
      "text/plain": [
       "<AxesSubplot:xlabel='time'>"
      ]
     },
     "execution_count": 512,
     "metadata": {},
     "output_type": "execute_result"
    },
    {
     "data": {
      "image/png": "[encoded data removed]",
      "text/plain": [
       "<Figure size 432x288 with 1 Axes>"
      ]
     },
     "metadata": {
      "needs_background": "light"
     },
     "output_type": "display_data"
    }
   ],
   "source": [
    "mean.set_index(\"time\")[\"2% annualized\"].cumsum().plot(grid=True, label=\"2% annualized\")\n",
    "mean.set_index(\"time\")[\"1% annualized\"].cumsum().plot(grid=True, label=\"1% annualized\")"
   ]
  },
  {
   "cell_type": "markdown",
   "id": "a708130d",
   "metadata": {},
   "source": [
    "# REAL STUF"
   ]
  },
  {
   "cell_type": "code",
   "execution_count": 637,
   "id": "9ca359a0",
   "metadata": {},
   "outputs": [
    {
     "data": {
      "text/plain": [
       "[<matplotlib.lines.Line2D at 0x286206310>]"
      ]
     },
     "execution_count": 637,
     "metadata": {},
     "output_type": "execute_result"
    },
    {
     "data": {
      "image/png": "[encoded data removed]",
      "text/plain": [
       "<Figure size 432x288 with 1 Axes>"
      ]
     },
     "metadata": {
      "needs_background": "light"
     },
     "output_type": "display_data"
    }
   ],
   "source": [
    "y = pd.DataFrame(pd.date_range('2022-03-26', '2022-12-31'))\n",
    "\n",
    "y.columns = [\"date\"]\n",
    "\n",
    "y[\"future_tvl_bull\"] = (1+np.arange(1, y.shape[0]+1) * 0.025)*1.2e8*(1+np.sin(y.index/8)*0.10)\n",
    "y[\"future_tvl_realistic\"] = (1+np.arange(1, y.shape[0]+1) * 0.007)*1.2e8*(1+np.sin(y.index/10)*0.10)\n",
    "y[\"future_tvl_bear\"] = (1+np.arange(1, y.shape[0]+1) * 0.002)*1.2e8*(1+np.sin(y.index/10)*0.10)\n",
    "\n",
    "y = y.set_index(\"date\")\n",
    "plt.xticks(rotation=45)\n",
    "plt.plot(y.future_tvl_bull)\n",
    "plt.plot(y.future_tvl_realistic)\n",
    "plt.plot(y.future_tvl_bear)"
   ]
  },
  {
   "cell_type": "code",
   "execution_count": 638,
   "id": "a596c540",
   "metadata": {},
   "outputs": [],
   "source": [
    "zz[\"date\"] = pd.to_datetime(zz.date)#.dt.strftime(\"%Y-%m-%d\")"
   ]
  },
  {
   "cell_type": "code",
   "execution_count": 639,
   "id": "1ad8716a",
   "metadata": {},
   "outputs": [],
   "source": [
    "qp = zz.groupby([\"date\", \"FeeType\"])[[\"usdc\"]].sum().unstack(1).fillna(0).cumsum().reset_index()\n",
    "qp.columns = qp.columns.get_level_values(0)\n",
    "\n",
    "qp.columns = [\"date\", \"performance_fee\", \"withdrawal_fee\"]"
   ]
  },
  {
   "cell_type": "code",
   "execution_count": 640,
   "id": "5267678c",
   "metadata": {},
   "outputs": [
    {
     "data": {
      "text/plain": [
       "time\n",
       "2021-12-25 00:27:14    2.922707e+07\n",
       "2021-12-25 01:05:51    2.956973e+07\n",
       "2021-12-25 01:37:17    2.982349e+07\n",
       "2021-12-25 02:10:46    2.992262e+07\n",
       "2021-12-25 03:01:37    2.976328e+07\n",
       "                           ...     \n",
       "2022-03-26 07:28:29    1.134075e+08\n",
       "2022-03-26 07:36:16    1.133992e+08\n",
       "2022-03-26 07:45:52    1.135743e+08\n",
       "2022-03-26 07:52:34    1.136912e+08\n",
       "2022-03-26 07:54:34    1.137743e+08\n",
       "Name: tvl, Length: 15965, dtype: float64"
      ]
     },
     "execution_count": 640,
     "metadata": {},
     "output_type": "execute_result"
    }
   ],
   "source": [
    "ff.groupby(\"time\").tvl.mean()"
   ]
  },
  {
   "cell_type": "code",
   "execution_count": 641,
   "id": "29e457ae",
   "metadata": {},
   "outputs": [
    {
     "data": {
      "image/png": "[encoded data removed]",
      "text/plain": [
       "<Figure size 432x288 with 1 Axes>"
      ]
     },
     "metadata": {
      "needs_background": "light"
     },
     "output_type": "display_data"
    }
   ],
   "source": [
    "ax = plt.figure().gca()\n",
    "ff[\"time\"] = pd.to_datetime(ff.time)\n",
    "ff.groupby(\"time\").tvl.mean().plot(grid=True, title=\"Friktion TVL in USDC by Time\", ax=ax, label=\"Friktion Historical TVL\", color='C0')\n",
    "\n",
    "y.future_tvl_bull.plot(ax=ax, label=\"hypothetical bull case\", linestyle='dashed', alpha=0.9, color='green')\n",
    "y.future_tvl_realistic.plot(ax=ax, label=\"target case\", linestyle='dashed', c='C0')\n",
    "y.future_tvl_bear.plot(ax=ax, label=\"hypothetical bear case\", linestyle='dashed', alpha=0.9, color='red')\n",
    "\n",
    "plt.legend()\n",
    "plt.grid(True)\n",
    "ax.yaxis.set_major_formatter(formatter)"
   ]
  },
  {
   "cell_type": "code",
   "execution_count": 642,
   "id": "a53b6725",
   "metadata": {},
   "outputs": [
    {
     "data": {
      "image/png": "[encoded data removed]",
      "text/plain": [
       "<Figure size 432x288 with 1 Axes>"
      ]
     },
     "metadata": {
      "needs_background": "light"
     },
     "output_type": "display_data"
    }
   ],
   "source": [
    "ax = plt.figure().gca()\n",
    "\n",
    "qp.set_index(\"date\")[[\"withdrawal_fee\"]].plot(grid=True, ax=ax)\n",
    "plt.xticks(rotation=30)\n",
    "ax.set_title(\"USDC value of Friktion Withdrawal Fees by Date\")\n",
    "\n",
    "ax.plot(y.future_tvl_bear.cumsum()*churn_rate + qp.withdrawal_fee.iloc[-1], label=\"bear case withdrawal fees\", linestyle='dashed', color='red')\n",
    "ax.plot(y.future_tvl_realistic.cumsum()*churn_rate + qp.withdrawal_fee.iloc[-1], label=\"target withdrawal fees\", linestyle='dashed', color='C0')\n",
    "ax.plot(y.future_tvl_bull.cumsum()*churn_rate + qp.withdrawal_fee.iloc[-1], label=\"bull case withdrawal fees\", linestyle='dashed', color='green')\n",
    "\n",
    "plt.legend()\n",
    "\n",
    "ax.yaxis.set_major_formatter(formatter2)\n",
    "\n",
    "total_fees_bear = y.future_tvl_bear.cumsum()*perf_fee_rate + qp.performance_fee.iloc[-1]+y.future_tvl_bear.cumsum()*churn_rate + qp.withdrawal_fee.iloc[-1]\n",
    "total_fees_target = y.future_tvl_realistic.cumsum()*perf_fee_rate + qp.performance_fee.iloc[-1]+y.future_tvl_realistic.cumsum()*churn_rate + qp.withdrawal_fee.iloc[-1]\n",
    "total_fees_bull = y.future_tvl_bull.cumsum()*perf_fee_rate + qp.performance_fee.iloc[-1]+y.future_tvl_bull.cumsum()*churn_rate + qp.withdrawal_fee.iloc[-1]"
   ]
  },
  {
   "cell_type": "code",
   "execution_count": 643,
   "id": "8cad134e",
   "metadata": {},
   "outputs": [
    {
     "data": {
      "image/png": "[encoded data removed]",
      "text/plain": [
       "<Figure size 432x288 with 1 Axes>"
      ]
     },
     "metadata": {
      "needs_background": "light"
     },
     "output_type": "display_data"
    }
   ],
   "source": [
    "ax = plt.figure().gca()\n",
    "\n",
    "qp.set_index(\"date\")[[\"performance_fee\"]].plot(grid=True, ax=ax, label=\"realized performance fees\")\n",
    "plt.xticks(rotation=30)\n",
    "ax.set_title(\"USDC value of Friktion Performance Fees by Date\")\n",
    "\n",
    "ax.plot(total_fees_bear, label=\"bear case performance fees\", linestyle='dashed', color='red')\n",
    "ax.plot(total_fees_target, label=\"target case performance fees\", linestyle='dashed', color='C0')\n",
    "ax.plot(total_fees_bull, label=\"bull case performance fees\", linestyle='dashed', color='green')\n",
    "\n",
    "plt.legend()\n",
    "\n",
    "ax.yaxis.set_major_formatter(formatter)"
   ]
  },
  {
   "cell_type": "code",
   "execution_count": 644,
   "id": "0329d71e",
   "metadata": {},
   "outputs": [
    {
     "data": {
      "image/png": "[encoded data removed]",
      "text/plain": [
       "<Figure size 432x288 with 1 Axes>"
      ]
     },
     "metadata": {
      "needs_background": "light"
     },
     "output_type": "display_data"
    }
   ],
   "source": [
    "\n",
    "\n",
    "ax = plt.figure().gca()\n",
    "\n",
    "qp.set_index(\"date\")[[\"performance_fee\"]].plot(grid=True, ax=ax, label=\"realized performance fees\")\n",
    "plt.xticks(rotation=30)\n",
    "ax.set_title(\"USDC value of Friktion Total Fees by Date\")\n",
    "\n",
    "ax.plot(y.future_tvl_bear.cumsum()*perf_fee_rate + qp.performance_fee.iloc[-1], label=\"bear case total fees\", linestyle='dashed', color='red')\n",
    "ax.plot(y.future_tvl_realistic.cumsum()*perf_fee_rate + qp.performance_fee.iloc[-1], label=\"target case total fees\", linestyle='dashed', color='C0')\n",
    "ax.plot(y.future_tvl_bull.cumsum()*perf_fee_rate + qp.performance_fee.iloc[-1], label=\"bull case total fees\", linestyle='dashed', color='green')\n",
    "\n",
    "plt.legend()\n",
    "\n",
    "ax.yaxis.set_major_formatter(formatter)"
   ]
  },
  {
   "cell_type": "code",
   "execution_count": 579,
   "id": "eed28917",
   "metadata": {},
   "outputs": [
    {
     "data": {
      "text/plain": [
       "date\n",
       "2022-03-26    1.230000e+08\n",
       "2022-03-27    1.275709e+08\n",
       "2022-03-28    1.321915e+08\n",
       "2022-03-29    1.368348e+08\n",
       "2022-03-30    1.414722e+08\n",
       "                  ...     \n",
       "2022-12-27    9.564671e+08\n",
       "2022-12-28    9.475672e+08\n",
       "2022-12-29    9.386931e+08\n",
       "2022-12-30    9.300313e+08\n",
       "2022-12-31    9.217660e+08\n",
       "Name: future_tvl_bull, Length: 281, dtype: float64"
      ]
     },
     "execution_count": 579,
     "metadata": {},
     "output_type": "execute_result"
    }
   ],
   "source": [
    "y.future_tvl_bull"
   ]
  },
  {
   "cell_type": "code",
   "execution_count": 580,
   "id": "1c8a9224",
   "metadata": {},
   "outputs": [
    {
     "data": {
      "text/plain": [
       "7.673984465637084e-06"
      ]
     },
     "execution_count": 580,
     "metadata": {},
     "output_type": "execute_result"
    }
   ],
   "source": [
    "churn_rate"
   ]
  },
  {
   "cell_type": "code",
   "execution_count": 568,
   "id": "29979b04",
   "metadata": {
    "scrolled": false
   },
   "outputs": [
    {
     "data": {
      "text/plain": [
       "date\n",
       "2022-03-25     66525.950394\n",
       "2022-03-26     67459.742257\n",
       "2022-03-27     68404.550456\n",
       "2022-03-28     69360.227137\n",
       "2022-03-29     70326.533345\n",
       "                  ...      \n",
       "2022-12-27    395205.373224\n",
       "2022-12-28    396705.631990\n",
       "2022-12-29    398194.730436\n",
       "2022-12-30    399672.109488\n",
       "2022-12-31    401137.344399\n",
       "Name: future_tvl_bear, Length: 282, dtype: float64"
      ]
     },
     "execution_count": 568,
     "metadata": {},
     "output_type": "execute_result"
    }
   ],
   "source": [
    "y.future_tvl_bear.cumsum()*churn_rate + qp.withdrawal_fee.iloc[-1]"
   ]
  },
  {
   "cell_type": "markdown",
   "id": "75f25dd3",
   "metadata": {},
   "source": [
    "# V2"
   ]
  },
  {
   "cell_type": "code",
   "execution_count": 613,
   "id": "5f61c15c",
   "metadata": {},
   "outputs": [],
   "source": [
    "tvl = ff.groupby(\"time\").tvl.mean().reset_index()"
   ]
  },
  {
   "cell_type": "code",
   "execution_count": 614,
   "id": "f52238f9",
   "metadata": {},
   "outputs": [
    {
     "data": {
      "text/html": [
       "<div>\n",
       "<style scoped>\n",
       "    .dataframe tbody tr th:only-of-type {\n",
       "        vertical-align: middle;\n",
       "    }\n",
       "\n",
       "    .dataframe tbody tr th {\n",
       "        vertical-align: top;\n",
       "    }\n",
       "\n",
       "    .dataframe thead th {\n",
       "        text-align: right;\n",
       "    }\n",
       "</style>\n",
       "<table border=\"1\" class=\"dataframe\">\n",
       "  <thead>\n",
       "    <tr style=\"text-align: right;\">\n",
       "      <th></th>\n",
       "      <th>time</th>\n",
       "      <th>tvl</th>\n",
       "    </tr>\n",
       "  </thead>\n",
       "  <tbody>\n",
       "    <tr>\n",
       "      <th>0</th>\n",
       "      <td>2021-12-25 00:27:14</td>\n",
       "      <td>2.922707e+07</td>\n",
       "    </tr>\n",
       "    <tr>\n",
       "      <th>1</th>\n",
       "      <td>2021-12-25 01:05:51</td>\n",
       "      <td>2.956973e+07</td>\n",
       "    </tr>\n",
       "    <tr>\n",
       "      <th>2</th>\n",
       "      <td>2021-12-25 01:37:17</td>\n",
       "      <td>2.982349e+07</td>\n",
       "    </tr>\n",
       "    <tr>\n",
       "      <th>3</th>\n",
       "      <td>2021-12-25 02:10:46</td>\n",
       "      <td>2.992262e+07</td>\n",
       "    </tr>\n",
       "    <tr>\n",
       "      <th>4</th>\n",
       "      <td>2021-12-25 03:01:37</td>\n",
       "      <td>2.976328e+07</td>\n",
       "    </tr>\n",
       "    <tr>\n",
       "      <th>...</th>\n",
       "      <td>...</td>\n",
       "      <td>...</td>\n",
       "    </tr>\n",
       "    <tr>\n",
       "      <th>15960</th>\n",
       "      <td>2022-03-26 07:28:29</td>\n",
       "      <td>1.134075e+08</td>\n",
       "    </tr>\n",
       "    <tr>\n",
       "      <th>15961</th>\n",
       "      <td>2022-03-26 07:36:16</td>\n",
       "      <td>1.133992e+08</td>\n",
       "    </tr>\n",
       "    <tr>\n",
       "      <th>15962</th>\n",
       "      <td>2022-03-26 07:45:52</td>\n",
       "      <td>1.135743e+08</td>\n",
       "    </tr>\n",
       "    <tr>\n",
       "      <th>15963</th>\n",
       "      <td>2022-03-26 07:52:34</td>\n",
       "      <td>1.136912e+08</td>\n",
       "    </tr>\n",
       "    <tr>\n",
       "      <th>15964</th>\n",
       "      <td>2022-03-26 07:54:34</td>\n",
       "      <td>1.137743e+08</td>\n",
       "    </tr>\n",
       "  </tbody>\n",
       "</table>\n",
       "<p>15965 rows × 2 columns</p>\n",
       "</div>"
      ],
      "text/plain": [
       "                     time           tvl\n",
       "0     2021-12-25 00:27:14  2.922707e+07\n",
       "1     2021-12-25 01:05:51  2.956973e+07\n",
       "2     2021-12-25 01:37:17  2.982349e+07\n",
       "3     2021-12-25 02:10:46  2.992262e+07\n",
       "4     2021-12-25 03:01:37  2.976328e+07\n",
       "...                   ...           ...\n",
       "15960 2022-03-26 07:28:29  1.134075e+08\n",
       "15961 2022-03-26 07:36:16  1.133992e+08\n",
       "15962 2022-03-26 07:45:52  1.135743e+08\n",
       "15963 2022-03-26 07:52:34  1.136912e+08\n",
       "15964 2022-03-26 07:54:34  1.137743e+08\n",
       "\n",
       "[15965 rows x 2 columns]"
      ]
     },
     "execution_count": 614,
     "metadata": {},
     "output_type": "execute_result"
    }
   ],
   "source": [
    "tvl"
   ]
  },
  {
   "cell_type": "code",
   "execution_count": 618,
   "id": "da5525ce",
   "metadata": {},
   "outputs": [
    {
     "data": {
      "text/plain": [
       "1259630955.2557623"
      ]
     },
     "execution_count": 618,
     "metadata": {},
     "output_type": "execute_result"
    }
   ],
   "source": [
    "tvl.groupby(pd.Grouper(key=\"time\", freq=\"1W\")).tvl.mean().sum()"
   ]
  },
  {
   "cell_type": "code",
   "execution_count": 620,
   "id": "a4840cd6",
   "metadata": {},
   "outputs": [],
   "source": [
    "y = pd.DataFrame(pd.date_range('2022-03-26', '2022-12-31'))\n",
    "\n",
    "y.columns = [\"date\"]\n",
    "\n",
    "y[\"future_tvl_bull\"] = (1+np.arange(1, y.shape[0]+1) * 0.025)*1.2e8*(1+np.sin(y.index/8)*0.10)\n",
    "y[\"future_tvl_realistic\"] = (1+np.arange(1, y.shape[0]+1) * 0.007)*1.2e8*(1+np.sin(y.index/10)*0.10)\n",
    "y[\"future_tvl_bear\"] = (1+np.arange(1, y.shape[0]+1) * 0.002)*1.2e8*(1+np.sin(y.index/10)*0.10)"
   ]
  },
  {
   "cell_type": "code",
   "execution_count": 629,
   "id": "56247ee8",
   "metadata": {},
   "outputs": [],
   "source": [
    "FEE_BPS = 0.0005"
   ]
  },
  {
   "cell_type": "code",
   "execution_count": 633,
   "id": "8f31cc33",
   "metadata": {},
   "outputs": [
    {
     "data": {
      "text/plain": [
       "<AxesSubplot:title={'center':'Inertia Fees at 0.0005 Bps'}, xlabel='date'>"
      ]
     },
     "execution_count": 633,
     "metadata": {},
     "output_type": "execute_result"
    },
    {
     "data": {
      "image/png": "[encoded data removed]",
      "text/plain": [
       "<Figure size 432x288 with 1 Axes>"
      ]
     },
     "metadata": {
      "needs_background": "light"
     },
     "output_type": "display_data"
    }
   ],
   "source": [
    "inertia_revenue = (y.groupby(pd.Grouper(key=\"date\", freq=\"1W\"))[[\"future_tvl_bull\", \"future_tvl_realistic\", \"future_tvl_bear\"]].mean()*FEE_BPS).cumsum()\n",
    "\n",
    "inertia_revenue.plot(grid=True, title=\"Inertia Fees at {} Bps\".format(FEE_BPS))"
   ]
  },
  {
   "cell_type": "code",
   "execution_count": 645,
   "id": "d3a85f87",
   "metadata": {},
   "outputs": [
    {
     "data": {
      "image/png": "[encoded data removed]",
      "text/plain": [
       "<Figure size 432x288 with 1 Axes>"
      ]
     },
     "metadata": {
      "needs_background": "light"
     },
     "output_type": "display_data"
    }
   ],
   "source": [
    "\n",
    "\n",
    "ax = plt.figure().gca()\n",
    "\n",
    "qp.set_index(\"date\")[[\"performance_fee\"]].plot(grid=True, ax=ax, label=\"realized performance fees\")\n",
    "plt.xticks(rotation=30)\n",
    "ax.set_title(\"USDC value of Friktion Total Fees by Date\")\n",
    "\n",
    "ax.plot(y.future_tvl_bear.cumsum()*perf_fee_rate + qp.performance_fee.iloc[-1], label=\"bear case total fees\", linestyle='dashed', color='red')\n",
    "ax.plot(y.future_tvl_realistic.cumsum()*perf_fee_rate + qp.performance_fee.iloc[-1], label=\"target case total fees\", linestyle='dashed', color='C0')\n",
    "ax.plot(y.future_tvl_bull.cumsum()*perf_fee_rate + qp.performance_fee.iloc[-1], label=\"bull case total fees\", linestyle='dashed', color='green')\n",
    "\n",
    "plt.legend()\n",
    "\n",
    "ax.yaxis.set_major_formatter(formatter)"
   ]
  },
  {
   "cell_type": "code",
   "execution_count": 647,
   "id": "2ddd122c",
   "metadata": {},
   "outputs": [
    {
     "data": {
      "image/png": "[encoded data removed]",
      "text/plain": [
       "<Figure size 432x288 with 1 Axes>"
      ]
     },
     "metadata": {
      "needs_background": "light"
     },
     "output_type": "display_data"
    }
   ],
   "source": [
    "ax = plt.figure().gca()\n",
    "\n",
    "qp.set_index(\"date\")[[\"withdrawal_fee\"]].plot(grid=True, ax=ax)\n",
    "plt.xticks(rotation=30)\n",
    "ax.set_title(\"USDC value of Friktion Withdrawal Fees by Date\")\n",
    "\n",
    "ax.plot(y.future_tvl_bear.cumsum()*churn_rate + qp.withdrawal_fee.iloc[-1], label=\"bear case withdrawal fees\", linestyle='dashed', color='red')\n",
    "ax.plot(y.future_tvl_realistic.cumsum()*churn_rate + qp.withdrawal_fee.iloc[-1], label=\"target withdrawal fees\", linestyle='dashed', color='C0')\n",
    "ax.plot(y.future_tvl_bull.cumsum()*churn_rate + qp.withdrawal_fee.iloc[-1], label=\"bull case withdrawal fees\", linestyle='dashed', color='green')\n",
    "\n",
    "plt.legend()\n",
    "\n",
    "ax.yaxis.set_major_formatter(formatter2)\n",
    "\n",
    "total_fees_bear = y.future_tvl_bear.cumsum()*perf_fee_rate + qp.performance_fee.iloc[-1]+y.future_tvl_bear.cumsum()*churn_rate + qp.withdrawal_fee.iloc[-1]\n",
    "total_fees_target = y.future_tvl_realistic.cumsum()*perf_fee_rate + qp.performance_fee.iloc[-1]+y.future_tvl_realistic.cumsum()*churn_rate + qp.withdrawal_fee.iloc[-1]\n",
    "total_fees_bull = y.future_tvl_bull.cumsum()*perf_fee_rate + qp.performance_fee.iloc[-1]+y.future_tvl_bull.cumsum()*churn_rate + qp.withdrawal_fee.iloc[-1]"
   ]
  },
  {
   "cell_type": "code",
   "execution_count": 651,
   "id": "ab1a7732",
   "metadata": {},
   "outputs": [],
   "source": [
    "target_withdrawal = y.future_tvl_realistic.cumsum()*churn_rate + qp.withdrawal_fee.iloc[-1]\n",
    "\n",
    "target_performance = y.future_tvl_realistic.cumsum()*perf_fee_rate + qp.performance_fee.iloc[-1]"
   ]
  },
  {
   "cell_type": "code",
   "execution_count": 652,
   "id": "34aaa87e",
   "metadata": {},
   "outputs": [
    {
     "data": {
      "text/plain": [
       "date\n",
       "2022-03-26    4.695263e+05\n",
       "2022-03-27    4.761820e+05\n",
       "2022-03-28    4.829492e+05\n",
       "2022-03-29    4.898275e+05\n",
       "2022-03-30    4.968158e+05\n",
       "                  ...     \n",
       "2022-12-27    4.037103e+06\n",
       "2022-12-28    4.057289e+06\n",
       "2022-12-29    4.077356e+06\n",
       "2022-12-30    4.097297e+06\n",
       "2022-12-31    4.117101e+06\n",
       "Name: future_tvl_realistic, Length: 281, dtype: float64"
      ]
     },
     "execution_count": 652,
     "metadata": {},
     "output_type": "execute_result"
    }
   ],
   "source": [
    "target_performance"
   ]
  },
  {
   "cell_type": "code",
   "execution_count": null,
   "id": "c7735a39",
   "metadata": {},
   "outputs": [],
   "source": []
  }
 ],
 "metadata": {
  "kernelspec": {
   "display_name": "Python 3 (ipykernel)",
   "language": "python",
   "name": "python3"
  },
  "language_info": {
   "codemirror_mode": {
    "name": "ipython",
    "version": 3
   },
   "file_extension": ".py",
   "mimetype": "text/x-python",
   "name": "python",
   "nbconvert_exporter": "python",
   "pygments_lexer": "ipython3",
   "version": "3.8.9"
  }
 },
 "nbformat": 4,
 "nbformat_minor": 5
}
